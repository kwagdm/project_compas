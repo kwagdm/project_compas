{
  "nbformat": 4,
  "nbformat_minor": 0,
  "metadata": {
    "colab": {
      "name": "고양시_인구_질적분석.ipynb",
      "provenance": [],
      "collapsed_sections": [],
      "include_colab_link": true
    },
    "kernelspec": {
      "name": "python3",
      "display_name": "Python 3"
    }
  },
  "cells": [
    {
      "cell_type": "markdown",
      "metadata": {
        "id": "view-in-github",
        "colab_type": "text"
      },
      "source": [
        "<a href=\"https://colab.research.google.com/github/kwagdm/project_compas/blob/master/%EA%B3%A0%EC%96%91%EC%8B%9C_%EC%9D%B8%EA%B5%AC_%EC%A7%88%EC%A0%81%EB%B6%84%EC%84%9D.ipynb\" target=\"_parent\"><img src=\"https://colab.research.google.com/assets/colab-badge.svg\" alt=\"Open In Colab\"/></a>"
      ]
    },
    {
      "cell_type": "code",
      "metadata": {
        "id": "4EfATxZw-dNR",
        "colab_type": "code",
        "colab": {
          "base_uri": "https://localhost:8080/",
          "height": 747
        },
        "outputId": "9fa8715a-0b92-45a6-f0f3-96d22ebcafb0"
      },
      "source": [
        "import pandas as pd \n",
        "import numpy as np\n",
        "from matplotlib import pyplot as plt\n",
        "import seaborn as sns\n",
        "!pip install geopandas\n",
        "!pip install folium\n",
        "import geopandas as gpd\n",
        "import folium"
      ],
      "execution_count": null,
      "outputs": [
        {
          "output_type": "stream",
          "text": [
            "/usr/local/lib/python3.6/dist-packages/statsmodels/tools/_testing.py:19: FutureWarning: pandas.util.testing is deprecated. Use the functions in the public API at pandas.testing instead.\n",
            "  import pandas.util.testing as tm\n"
          ],
          "name": "stderr"
        },
        {
          "output_type": "stream",
          "text": [
            "Collecting geopandas\n",
            "\u001b[?25l  Downloading https://files.pythonhosted.org/packages/f7/a4/e66aafbefcbb717813bf3a355c8c4fc3ed04ea1dd7feb2920f2f4f868921/geopandas-0.8.1-py2.py3-none-any.whl (962kB)\n",
            "\u001b[K     |████████████████████████████████| 972kB 4.3MB/s \n",
            "\u001b[?25hCollecting fiona\n",
            "\u001b[?25l  Downloading https://files.pythonhosted.org/packages/ec/20/4e63bc5c6e62df889297b382c3ccd4a7a488b00946aaaf81a118158c6f09/Fiona-1.8.13.post1-cp36-cp36m-manylinux1_x86_64.whl (14.7MB)\n",
            "\u001b[K     |████████████████████████████████| 14.7MB 295kB/s \n",
            "\u001b[?25hRequirement already satisfied: pandas>=0.23.0 in /usr/local/lib/python3.6/dist-packages (from geopandas) (1.0.5)\n",
            "Requirement already satisfied: shapely in /usr/local/lib/python3.6/dist-packages (from geopandas) (1.7.1)\n",
            "Collecting pyproj>=2.2.0\n",
            "\u001b[?25l  Downloading https://files.pythonhosted.org/packages/e5/c3/071e080230ac4b6c64f1a2e2f9161c9737a2bc7b683d2c90b024825000c0/pyproj-2.6.1.post1-cp36-cp36m-manylinux2010_x86_64.whl (10.9MB)\n",
            "\u001b[K     |████████████████████████████████| 10.9MB 39.3MB/s \n",
            "\u001b[?25hCollecting munch\n",
            "  Downloading https://files.pythonhosted.org/packages/cc/ab/85d8da5c9a45e072301beb37ad7f833cd344e04c817d97e0cc75681d248f/munch-2.5.0-py2.py3-none-any.whl\n",
            "Collecting click-plugins>=1.0\n",
            "  Downloading https://files.pythonhosted.org/packages/e9/da/824b92d9942f4e472702488857914bdd50f73021efea15b4cad9aca8ecef/click_plugins-1.1.1-py2.py3-none-any.whl\n",
            "Requirement already satisfied: six>=1.7 in /usr/local/lib/python3.6/dist-packages (from fiona->geopandas) (1.15.0)\n",
            "Requirement already satisfied: attrs>=17 in /usr/local/lib/python3.6/dist-packages (from fiona->geopandas) (20.1.0)\n",
            "Requirement already satisfied: click<8,>=4.0 in /usr/local/lib/python3.6/dist-packages (from fiona->geopandas) (7.1.2)\n",
            "Collecting cligj>=0.5\n",
            "  Downloading https://files.pythonhosted.org/packages/e4/be/30a58b4b0733850280d01f8bd132591b4668ed5c7046761098d665ac2174/cligj-0.5.0-py3-none-any.whl\n",
            "Requirement already satisfied: pytz>=2017.2 in /usr/local/lib/python3.6/dist-packages (from pandas>=0.23.0->geopandas) (2018.9)\n",
            "Requirement already satisfied: python-dateutil>=2.6.1 in /usr/local/lib/python3.6/dist-packages (from pandas>=0.23.0->geopandas) (2.8.1)\n",
            "Requirement already satisfied: numpy>=1.13.3 in /usr/local/lib/python3.6/dist-packages (from pandas>=0.23.0->geopandas) (1.18.5)\n",
            "Installing collected packages: munch, click-plugins, cligj, fiona, pyproj, geopandas\n",
            "Successfully installed click-plugins-1.1.1 cligj-0.5.0 fiona-1.8.13.post1 geopandas-0.8.1 munch-2.5.0 pyproj-2.6.1.post1\n",
            "Requirement already satisfied: folium in /usr/local/lib/python3.6/dist-packages (0.8.3)\n",
            "Requirement already satisfied: requests in /usr/local/lib/python3.6/dist-packages (from folium) (2.23.0)\n",
            "Requirement already satisfied: numpy in /usr/local/lib/python3.6/dist-packages (from folium) (1.18.5)\n",
            "Requirement already satisfied: six in /usr/local/lib/python3.6/dist-packages (from folium) (1.15.0)\n",
            "Requirement already satisfied: jinja2 in /usr/local/lib/python3.6/dist-packages (from folium) (2.11.2)\n",
            "Requirement already satisfied: branca>=0.3.0 in /usr/local/lib/python3.6/dist-packages (from folium) (0.4.1)\n",
            "Requirement already satisfied: idna<3,>=2.5 in /usr/local/lib/python3.6/dist-packages (from requests->folium) (2.10)\n",
            "Requirement already satisfied: chardet<4,>=3.0.2 in /usr/local/lib/python3.6/dist-packages (from requests->folium) (3.0.4)\n",
            "Requirement already satisfied: urllib3!=1.25.0,!=1.25.1,<1.26,>=1.21.1 in /usr/local/lib/python3.6/dist-packages (from requests->folium) (1.24.3)\n",
            "Requirement already satisfied: certifi>=2017.4.17 in /usr/local/lib/python3.6/dist-packages (from requests->folium) (2020.6.20)\n",
            "Requirement already satisfied: MarkupSafe>=0.23 in /usr/local/lib/python3.6/dist-packages (from jinja2->folium) (1.1.1)\n"
          ],
          "name": "stdout"
        }
      ]
    },
    {
      "cell_type": "code",
      "metadata": {
        "id": "WNYjV12VDGI5",
        "colab_type": "code",
        "colab": {
          "base_uri": "https://localhost:8080/",
          "height": 131
        },
        "outputId": "60f82501-ba08-41ad-cfa0-7700d9afbb3e"
      },
      "source": [
        "from google.colab import drive\n",
        "drive.mount('/content/drive')"
      ],
      "execution_count": null,
      "outputs": [
        {
          "output_type": "stream",
          "text": [
            "Go to this URL in a browser: https://accounts.google.com/o/oauth2/auth?client_id=947318989803-6bn6qk8qdgf4n4g3pfee6491hc0brc4i.apps.googleusercontent.com&redirect_uri=urn%3aietf%3awg%3aoauth%3a2.0%3aoob&scope=email%20https%3a%2f%2fwww.googleapis.com%2fauth%2fdocs.test%20https%3a%2f%2fwww.googleapis.com%2fauth%2fdrive%20https%3a%2f%2fwww.googleapis.com%2fauth%2fdrive.photos.readonly%20https%3a%2f%2fwww.googleapis.com%2fauth%2fpeopleapi.readonly&response_type=code\n",
            "\n",
            "Enter your authorization code:\n",
            "··········\n",
            "Mounted at /content/drive\n"
          ],
          "name": "stdout"
        }
      ]
    },
    {
      "cell_type": "markdown",
      "metadata": {
        "id": "8pc8nx5AMk55",
        "colab_type": "text"
      },
      "source": [
        "#컴플레인 분석"
      ]
    },
    {
      "cell_type": "code",
      "metadata": {
        "id": "jCH9kh0H-kDv",
        "colab_type": "code",
        "colab": {}
      },
      "source": [
        "Bike_Station=pd.read_csv('/content/drive/My Drive/프로젝트/compas/SBJ_2007_001/02.자전거스테이션.csv')"
      ],
      "execution_count": null,
      "outputs": []
    },
    {
      "cell_type": "code",
      "metadata": {
        "id": "uxWcODEXGUmT",
        "colab_type": "code",
        "colab": {
          "base_uri": "https://localhost:8080/",
          "height": 202
        },
        "outputId": "c075cf8a-4e50-4503-dafa-40c75083bf32"
      },
      "source": [
        "Bike_Station.head()"
      ],
      "execution_count": null,
      "outputs": [
        {
          "output_type": "execute_result",
          "data": {
            "text/html": [
              "<div>\n",
              "<style scoped>\n",
              "    .dataframe tbody tr th:only-of-type {\n",
              "        vertical-align: middle;\n",
              "    }\n",
              "\n",
              "    .dataframe tbody tr th {\n",
              "        vertical-align: top;\n",
              "    }\n",
              "\n",
              "    .dataframe thead th {\n",
              "        text-align: right;\n",
              "    }\n",
              "</style>\n",
              "<table border=\"1\" class=\"dataframe\">\n",
              "  <thead>\n",
              "    <tr style=\"text-align: right;\">\n",
              "      <th></th>\n",
              "      <th>Station_ID</th>\n",
              "      <th>STATION_NAME</th>\n",
              "      <th>거치대 수량</th>\n",
              "      <th>위도</th>\n",
              "      <th>경도</th>\n",
              "    </tr>\n",
              "  </thead>\n",
              "  <tbody>\n",
              "    <tr>\n",
              "      <th>0</th>\n",
              "      <td>101</td>\n",
              "      <td>어울림마을 701동 앞</td>\n",
              "      <td>20</td>\n",
              "      <td>37.654775</td>\n",
              "      <td>126.834584</td>\n",
              "    </tr>\n",
              "    <tr>\n",
              "      <th>1</th>\n",
              "      <td>103</td>\n",
              "      <td>대림e-편한세상106동</td>\n",
              "      <td>20</td>\n",
              "      <td>37.660442</td>\n",
              "      <td>126.840377</td>\n",
              "    </tr>\n",
              "    <tr>\n",
              "      <th>2</th>\n",
              "      <td>104</td>\n",
              "      <td>탄현마을8단지</td>\n",
              "      <td>25</td>\n",
              "      <td>37.698523</td>\n",
              "      <td>126.766042</td>\n",
              "    </tr>\n",
              "    <tr>\n",
              "      <th>3</th>\n",
              "      <td>105</td>\n",
              "      <td>KT 덕양지사 앞</td>\n",
              "      <td>20</td>\n",
              "      <td>37.655244</td>\n",
              "      <td>126.839261</td>\n",
              "    </tr>\n",
              "    <tr>\n",
              "      <th>4</th>\n",
              "      <td>106</td>\n",
              "      <td>원당역 앞 공영주차장</td>\n",
              "      <td>30</td>\n",
              "      <td>37.653410</td>\n",
              "      <td>126.842530</td>\n",
              "    </tr>\n",
              "  </tbody>\n",
              "</table>\n",
              "</div>"
            ],
            "text/plain": [
              "   Station_ID  STATION_NAME  거치대 수량         위도          경도\n",
              "0         101  어울림마을 701동 앞      20  37.654775  126.834584\n",
              "1         103  대림e-편한세상106동      20  37.660442  126.840377\n",
              "2         104       탄현마을8단지      25  37.698523  126.766042\n",
              "3         105     KT 덕양지사 앞      20  37.655244  126.839261\n",
              "4         106   원당역 앞 공영주차장      30  37.653410  126.842530"
            ]
          },
          "metadata": {
            "tags": []
          },
          "execution_count": 170
        }
      ]
    },
    {
      "cell_type": "code",
      "metadata": {
        "id": "COhdg1Y3-upT",
        "colab_type": "code",
        "colab": {
          "base_uri": "https://localhost:8080/",
          "height": 531
        },
        "outputId": "f408cf8e-b74c-43f3-f16b-63431270eb5b"
      },
      "source": [
        "# 자전거 스테이션 좌표 위에 찍은 거\n",
        "center2 = (37.647972, 126.835398)\n",
        "zoom2 = 15\n",
        "m = folium.Map(location = center2, \n",
        "               zoom_start = zoom2,\n",
        "               tiles = 'http://api.vworld.kr/req/wmts/1.0.0/FEDE7284-9E9D-3624-BCA7-DDB9767882ED/Base/{z}/{y}/{x}.png',\n",
        "               attr = '고양시'\n",
        "              )\n",
        "for index, row in Bike_Station.iterrows():\n",
        "    folium.Marker([row['위도'], row['경도']]).add_to(m)\n",
        "m"
      ],
      "execution_count": null,
      "outputs": [
        {
          "output_type": "execute_result",
          "data": {
            "text/html": [
              "<div style=\"width:100%;\"><div style=\"position:relative;width:100%;height:0;padding-bottom:60%;\"><span style=\"color:#565656\">Make this Notebook Trusted to load map: File -> Trust Notebook</span><iframe src=\"about:blank\" style=\"position:absolute;width:100%;height:100%;left:0;top:0;border:none !important;\" data-html=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 onload=\"this.contentDocument.open();this.contentDocument.write(atob(this.getAttribute('data-html')));this.contentDocument.close();\" allowfullscreen webkitallowfullscreen mozallowfullscreen></iframe></div></div>"
            ],
            "text/plain": [
              "<folium.folium.Map at 0x7fa914b70e48>"
            ]
          },
          "metadata": {
            "tags": []
          },
          "execution_count": 171
        }
      ]
    },
    {
      "cell_type": "code",
      "metadata": {
        "id": "IPGbG7Oo--Ku",
        "colab_type": "code",
        "colab": {}
      },
      "source": [
        "coordinate = {}\n",
        "\n",
        "coordinate['지역명'] = ['지축역한림풀에버', '지축역북한산유보라', '지축역센트럴푸르지오',\n",
        "                     '도래울1단지', '도래울2,3단지', '도래울4단지', '도래울5,6단지', '도래울7단지',\n",
        "                     '고향향동두산아파트',\n",
        "                     '삼송우남퍼스트빌', 'LH고양삼송행복주택1차', '삼송마을LH14단지', '\t호반베르디움21단지']\n",
        "\n",
        "coordinate['위도'] = [37.652533, 37.651975, 37.649459,\n",
        "                    37.637803, 37.634062, 37.630724, 37.628260, 37.624080,\n",
        "                    37.608857,\n",
        "                    37.695280, 37.656086, 37.652835, 37.645412]\n",
        "coordinate['경도'] = [126.909390, 126.912178,  126.896042,\n",
        "                    126.873624, 126.870105, 126.873632, 126.867659, 126.872321,\n",
        "                    126.897004,\n",
        "                    126.894310, 126.877044, 126.878425, 126.884791]\n",
        "\n",
        "\n",
        "#지축지구\n",
        "#지축역한림풀에버: 11개동 1102세대, 2020년 1월 입주\n",
        "#지축역북한산유보라: 5개동 549세대, 2019년 11월 입주\n",
        "#지축역센트럴푸르지오: 6개동 852세대, 2019년 12월 입주\n",
        "\n",
        "#지축역 중흥S클래스 북한산파크뷰: 7개동 732세대, 2020년 12월 준공 예정\n",
        "#위스테이 지축: 6개동 539세대, 2022년 2월 준공 예정\n",
        "#고양지축 A-1 신혼희망타운: 9개동 750세대, 2022년 9월 준공 예정\n",
        "#고양지축 LH 3단지 아파트: 4개동 890세대, 2019년 9월 입주\n",
        "#고양지축 A-4 행복주택: 3개동 473세대, 2021년 3월 준공 예정\n",
        "#고양지축 S-1 영구임대+국민임대: 4개동 1382세대(632세대+750세대), 2021년 10월 준공 예정\n",
        "\n",
        "#도래울마을 : 제일 최근 2018년 6월 7단지 입주 완료\n",
        "\n",
        "#향동지구: 올해 입주 마무리될 예정\n",
        "\n",
        "#삼송지구: https://namu.wiki/w/%EA%B3%A0%EC%96%91%EC%82%BC%EC%86%A1%ED%83%9D%EC%A7%80%EA%B0%9C%EB%B0%9C%EC%82%AC%EC%97%85#s-2.3.1.1 참고\n",
        "#삼송우남퍼스트빌\n",
        "\n",
        "#원흥지구(도래울마을): 8,601세대, 수용인구: 22,879\n",
        "#지축지구: 8,600세대, 수용인구: 22,877\n",
        "#향동지구: 7,994세대, 수용인구: 21,265\n",
        "#삼송지구: 21,840세대, 수용인구: 58,298"
      ],
      "execution_count": null,
      "outputs": []
    },
    {
      "cell_type": "code",
      "metadata": {
        "id": "N9xf6E8BDjvM",
        "colab_type": "code",
        "colab": {
          "base_uri": "https://localhost:8080/",
          "height": 233
        },
        "outputId": "7d485c5f-cfdf-4eae-c431-131006546ca8"
      },
      "source": [
        "coordinate_df = pd.DataFrame(coordinate)\n",
        "coordinate_df"
      ],
      "execution_count": null,
      "outputs": [
        {
          "output_type": "execute_result",
          "data": {
            "text/html": [
              "<div>\n",
              "<style scoped>\n",
              "    .dataframe tbody tr th:only-of-type {\n",
              "        vertical-align: middle;\n",
              "    }\n",
              "\n",
              "    .dataframe tbody tr th {\n",
              "        vertical-align: top;\n",
              "    }\n",
              "\n",
              "    .dataframe thead th {\n",
              "        text-align: right;\n",
              "    }\n",
              "</style>\n",
              "<table border=\"1\" class=\"dataframe\">\n",
              "  <thead>\n",
              "    <tr style=\"text-align: right;\">\n",
              "      <th></th>\n",
              "      <th>지역명</th>\n",
              "      <th>위도</th>\n",
              "      <th>경도</th>\n",
              "    </tr>\n",
              "  </thead>\n",
              "  <tbody>\n",
              "    <tr>\n",
              "      <th>0</th>\n",
              "      <td>지축역</td>\n",
              "      <td>37.648046</td>\n",
              "      <td>126.913778</td>\n",
              "    </tr>\n",
              "    <tr>\n",
              "      <th>1</th>\n",
              "      <td>도래울마을</td>\n",
              "      <td>37.635838</td>\n",
              "      <td>126.872064</td>\n",
              "    </tr>\n",
              "    <tr>\n",
              "      <th>2</th>\n",
              "      <td>식사동위시티</td>\n",
              "      <td>37.680008</td>\n",
              "      <td>126.812295</td>\n",
              "    </tr>\n",
              "    <tr>\n",
              "      <th>3</th>\n",
              "      <td>킨텍스</td>\n",
              "      <td>37.669578</td>\n",
              "      <td>126.745702</td>\n",
              "    </tr>\n",
              "    <tr>\n",
              "      <th>4</th>\n",
              "      <td>향동지구</td>\n",
              "      <td>37.601695</td>\n",
              "      <td>126.891697</td>\n",
              "    </tr>\n",
              "    <tr>\n",
              "      <th>5</th>\n",
              "      <td>삼송지구</td>\n",
              "      <td>37.663998</td>\n",
              "      <td>126.893278</td>\n",
              "    </tr>\n",
              "  </tbody>\n",
              "</table>\n",
              "</div>"
            ],
            "text/plain": [
              "      지역명         위도          경도\n",
              "0     지축역  37.648046  126.913778\n",
              "1   도래울마을  37.635838  126.872064\n",
              "2  식사동위시티  37.680008  126.812295\n",
              "3     킨텍스  37.669578  126.745702\n",
              "4    향동지구  37.601695  126.891697\n",
              "5    삼송지구  37.663998  126.893278"
            ]
          },
          "metadata": {
            "tags": []
          },
          "execution_count": 173
        }
      ]
    },
    {
      "cell_type": "code",
      "metadata": {
        "id": "9Z-SmDT4Pn2G",
        "colab_type": "code",
        "colab": {}
      },
      "source": [
        "for index, row in coordinate_df.iterrows():\n",
        "    folium.CircleMarker([row['위도'], row['경도']], color = 'red', radius = 3).add_to(m)"
      ],
      "execution_count": null,
      "outputs": []
    },
    {
      "cell_type": "code",
      "metadata": {
        "id": "GdVWlFGdGlqt",
        "colab_type": "code",
        "colab": {
          "base_uri": "https://localhost:8080/",
          "height": 531
        },
        "outputId": "6dfa699b-45d1-4c94-f9fe-af897cd7bf47"
      },
      "source": [
        "m"
      ],
      "execution_count": null,
      "outputs": [
        {
          "output_type": "execute_result",
          "data": {
            "text/html": [
              "<div style=\"width:100%;\"><div style=\"position:relative;width:100%;height:0;padding-bottom:60%;\"><span style=\"color:#565656\">Make this Notebook Trusted to load map: File -> Trust Notebook</span><iframe src=\"about:blank\" style=\"position:absolute;width:100%;height:100%;left:0;top:0;border:none !important;\" data-html=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 onload=\"this.contentDocument.open();this.contentDocument.write(atob(this.getAttribute('data-html')));this.contentDocument.close();\" allowfullscreen webkitallowfullscreen mozallowfullscreen></iframe></div></div>"
            ],
            "text/plain": [
              "<folium.folium.Map at 0x7fa914b70e48>"
            ]
          },
          "metadata": {
            "tags": []
          },
          "execution_count": 175
        }
      ]
    },
    {
      "cell_type": "code",
      "metadata": {
        "id": "p8rPKQDJGmUQ",
        "colab_type": "code",
        "colab": {}
      },
      "source": [
        ""
      ],
      "execution_count": null,
      "outputs": []
    },
    {
      "cell_type": "markdown",
      "metadata": {
        "id": "HLqsmbQUMaLx",
        "colab_type": "text"
      },
      "source": [
        "# 동별 인구밀집도"
      ]
    },
    {
      "cell_type": "code",
      "metadata": {
        "id": "V5AvOcifMene",
        "colab_type": "code",
        "colab": {}
      },
      "source": [
        "goyang_up_line = gpd.read_file('/content/drive/My Drive/프로젝트/compas/SBJ_2007_001/09.행정경계(읍면동).geojson')"
      ],
      "execution_count": null,
      "outputs": []
    },
    {
      "cell_type": "code",
      "metadata": {
        "id": "95fpKn0RMg28",
        "colab_type": "code",
        "colab": {
          "base_uri": "https://localhost:8080/",
          "height": 202
        },
        "outputId": "ada10e1c-653f-403d-d6c8-098e70e8884c"
      },
      "source": [
        "goyang_up_line.head()"
      ],
      "execution_count": null,
      "outputs": [
        {
          "output_type": "execute_result",
          "data": {
            "text/html": [
              "<div>\n",
              "<style scoped>\n",
              "    .dataframe tbody tr th:only-of-type {\n",
              "        vertical-align: middle;\n",
              "    }\n",
              "\n",
              "    .dataframe tbody tr th {\n",
              "        vertical-align: top;\n",
              "    }\n",
              "\n",
              "    .dataframe thead th {\n",
              "        text-align: right;\n",
              "    }\n",
              "</style>\n",
              "<table border=\"1\" class=\"dataframe\">\n",
              "  <thead>\n",
              "    <tr style=\"text-align: right;\">\n",
              "      <th></th>\n",
              "      <th>EMD_CD</th>\n",
              "      <th>EMD_KOR_NM</th>\n",
              "      <th>geometry</th>\n",
              "    </tr>\n",
              "  </thead>\n",
              "  <tbody>\n",
              "    <tr>\n",
              "      <th>0</th>\n",
              "      <td>41281101</td>\n",
              "      <td>주교동</td>\n",
              "      <td>MULTIPOLYGON (((126.81068 37.65820, 126.81069 ...</td>\n",
              "    </tr>\n",
              "    <tr>\n",
              "      <th>1</th>\n",
              "      <td>41281102</td>\n",
              "      <td>원당동</td>\n",
              "      <td>MULTIPOLYGON (((126.83321 37.68013, 126.83340 ...</td>\n",
              "    </tr>\n",
              "    <tr>\n",
              "      <th>2</th>\n",
              "      <td>41281103</td>\n",
              "      <td>신원동</td>\n",
              "      <td>MULTIPOLYGON (((126.86362 37.67729, 126.86364 ...</td>\n",
              "    </tr>\n",
              "    <tr>\n",
              "      <th>3</th>\n",
              "      <td>41281104</td>\n",
              "      <td>원흥동</td>\n",
              "      <td>MULTIPOLYGON (((126.85975 37.65081, 126.85990 ...</td>\n",
              "    </tr>\n",
              "    <tr>\n",
              "      <th>4</th>\n",
              "      <td>41281105</td>\n",
              "      <td>도내동</td>\n",
              "      <td>MULTIPOLYGON (((126.84806 37.62348, 126.84835 ...</td>\n",
              "    </tr>\n",
              "  </tbody>\n",
              "</table>\n",
              "</div>"
            ],
            "text/plain": [
              "     EMD_CD EMD_KOR_NM                                           geometry\n",
              "0  41281101        주교동  MULTIPOLYGON (((126.81068 37.65820, 126.81069 ...\n",
              "1  41281102        원당동  MULTIPOLYGON (((126.83321 37.68013, 126.83340 ...\n",
              "2  41281103        신원동  MULTIPOLYGON (((126.86362 37.67729, 126.86364 ...\n",
              "3  41281104        원흥동  MULTIPOLYGON (((126.85975 37.65081, 126.85990 ...\n",
              "4  41281105        도내동  MULTIPOLYGON (((126.84806 37.62348, 126.84835 ..."
            ]
          },
          "metadata": {
            "tags": []
          },
          "execution_count": 100
        }
      ]
    },
    {
      "cell_type": "code",
      "metadata": {
        "id": "oOlcagwQMiUG",
        "colab_type": "code",
        "colab": {
          "base_uri": "https://localhost:8080/",
          "height": 202
        },
        "outputId": "7c407307-f110-46a3-8da2-c8874ebe668b"
      },
      "source": [
        "pop_stat=pd.read_csv('/content/drive/My Drive/프로젝트/compas/SBJ_2007_001/07.인구통계.csv')\n",
        "pop_stat.head()"
      ],
      "execution_count": null,
      "outputs": [
        {
          "output_type": "execute_result",
          "data": {
            "text/html": [
              "<div>\n",
              "<style scoped>\n",
              "    .dataframe tbody tr th:only-of-type {\n",
              "        vertical-align: middle;\n",
              "    }\n",
              "\n",
              "    .dataframe tbody tr th {\n",
              "        vertical-align: top;\n",
              "    }\n",
              "\n",
              "    .dataframe thead th {\n",
              "        text-align: right;\n",
              "    }\n",
              "</style>\n",
              "<table border=\"1\" class=\"dataframe\">\n",
              "  <thead>\n",
              "    <tr style=\"text-align: right;\">\n",
              "      <th></th>\n",
              "      <th>행정구역</th>\n",
              "      <th>조회기준</th>\n",
              "      <th>총인구수</th>\n",
              "      <th>세대수</th>\n",
              "      <th>세대당 인구</th>\n",
              "      <th>남자 인구수</th>\n",
              "      <th>여자 인구수</th>\n",
              "      <th>남여 비율</th>\n",
              "    </tr>\n",
              "  </thead>\n",
              "  <tbody>\n",
              "    <tr>\n",
              "      <th>0</th>\n",
              "      <td>경기도 고양시 (4128000000)</td>\n",
              "      <td>2017년01월</td>\n",
              "      <td>1,040,648</td>\n",
              "      <td>402,440</td>\n",
              "      <td>2.59</td>\n",
              "      <td>511,353</td>\n",
              "      <td>529,295</td>\n",
              "      <td>0.97</td>\n",
              "    </tr>\n",
              "    <tr>\n",
              "      <th>1</th>\n",
              "      <td>경기도 고양시 (4128000000)</td>\n",
              "      <td>2017년02월</td>\n",
              "      <td>1,040,483</td>\n",
              "      <td>403,042</td>\n",
              "      <td>2.58</td>\n",
              "      <td>511,266</td>\n",
              "      <td>529,217</td>\n",
              "      <td>0.97</td>\n",
              "    </tr>\n",
              "    <tr>\n",
              "      <th>2</th>\n",
              "      <td>경기도 고양시 (4128000000)</td>\n",
              "      <td>2017년03월</td>\n",
              "      <td>1,040,482</td>\n",
              "      <td>403,443</td>\n",
              "      <td>2.58</td>\n",
              "      <td>511,182</td>\n",
              "      <td>529,300</td>\n",
              "      <td>0.97</td>\n",
              "    </tr>\n",
              "    <tr>\n",
              "      <th>3</th>\n",
              "      <td>경기도 고양시 (4128000000)</td>\n",
              "      <td>2017년04월</td>\n",
              "      <td>1,040,608</td>\n",
              "      <td>403,933</td>\n",
              "      <td>2.58</td>\n",
              "      <td>511,225</td>\n",
              "      <td>529,383</td>\n",
              "      <td>0.97</td>\n",
              "    </tr>\n",
              "    <tr>\n",
              "      <th>4</th>\n",
              "      <td>경기도 고양시 (4128000000)</td>\n",
              "      <td>2017년05월</td>\n",
              "      <td>1,040,892</td>\n",
              "      <td>404,603</td>\n",
              "      <td>2.57</td>\n",
              "      <td>511,347</td>\n",
              "      <td>529,545</td>\n",
              "      <td>0.97</td>\n",
              "    </tr>\n",
              "  </tbody>\n",
              "</table>\n",
              "</div>"
            ],
            "text/plain": [
              "                   행정구역      조회기준       총인구수  ...   남자 인구수   여자 인구수 남여 비율\n",
              "0  경기도 고양시 (4128000000)  2017년01월  1,040,648  ...  511,353  529,295  0.97\n",
              "1  경기도 고양시 (4128000000)  2017년02월  1,040,483  ...  511,266  529,217  0.97\n",
              "2  경기도 고양시 (4128000000)  2017년03월  1,040,482  ...  511,182  529,300  0.97\n",
              "3  경기도 고양시 (4128000000)  2017년04월  1,040,608  ...  511,225  529,383  0.97\n",
              "4  경기도 고양시 (4128000000)  2017년05월  1,040,892  ...  511,347  529,545  0.97\n",
              "\n",
              "[5 rows x 8 columns]"
            ]
          },
          "metadata": {
            "tags": []
          },
          "execution_count": 101
        }
      ]
    },
    {
      "cell_type": "code",
      "metadata": {
        "id": "Pv7RKwejd6ic",
        "colab_type": "code",
        "colab": {}
      },
      "source": [
        "idx_nm = pop_stat[pop_stat['조회기준'] != '2019년12월'].index\n",
        "population_stat = pop_stat.drop(idx_nm)"
      ],
      "execution_count": null,
      "outputs": []
    },
    {
      "cell_type": "code",
      "metadata": {
        "id": "AlEEgCkyfg71",
        "colab_type": "code",
        "colab": {
          "base_uri": "https://localhost:8080/",
          "height": 202
        },
        "outputId": "ac378657-e01c-44ce-ce6b-ced6ec335dac"
      },
      "source": [
        "population_stat = population_stat.reset_index()\n",
        "population_stat = population_stat[['행정구역', '총인구수', '세대수', '세대당 인구']]\n",
        "population_stat.head()"
      ],
      "execution_count": null,
      "outputs": [
        {
          "output_type": "execute_result",
          "data": {
            "text/html": [
              "<div>\n",
              "<style scoped>\n",
              "    .dataframe tbody tr th:only-of-type {\n",
              "        vertical-align: middle;\n",
              "    }\n",
              "\n",
              "    .dataframe tbody tr th {\n",
              "        vertical-align: top;\n",
              "    }\n",
              "\n",
              "    .dataframe thead th {\n",
              "        text-align: right;\n",
              "    }\n",
              "</style>\n",
              "<table border=\"1\" class=\"dataframe\">\n",
              "  <thead>\n",
              "    <tr style=\"text-align: right;\">\n",
              "      <th></th>\n",
              "      <th>행정구역</th>\n",
              "      <th>총인구수</th>\n",
              "      <th>세대수</th>\n",
              "      <th>세대당 인구</th>\n",
              "    </tr>\n",
              "  </thead>\n",
              "  <tbody>\n",
              "    <tr>\n",
              "      <th>0</th>\n",
              "      <td>경기도 고양시 (4128000000)</td>\n",
              "      <td>1,066,351</td>\n",
              "      <td>434,028</td>\n",
              "      <td>2.46</td>\n",
              "    </tr>\n",
              "    <tr>\n",
              "      <th>1</th>\n",
              "      <td>경기도 고양시 덕양구 (4128100000)</td>\n",
              "      <td>466,157</td>\n",
              "      <td>195,766</td>\n",
              "      <td>2.38</td>\n",
              "    </tr>\n",
              "    <tr>\n",
              "      <th>2</th>\n",
              "      <td>경기도 고양시 덕양구 주교동(4128151000)</td>\n",
              "      <td>15,748</td>\n",
              "      <td>7,362</td>\n",
              "      <td>2.14</td>\n",
              "    </tr>\n",
              "    <tr>\n",
              "      <th>3</th>\n",
              "      <td>경기도 고양시 덕양구 원신동(4128152000)</td>\n",
              "      <td>23,942</td>\n",
              "      <td>9,419</td>\n",
              "      <td>2.54</td>\n",
              "    </tr>\n",
              "    <tr>\n",
              "      <th>4</th>\n",
              "      <td>경기도 고양시 덕양구 흥도동(4128153000)</td>\n",
              "      <td>44,565</td>\n",
              "      <td>18,311</td>\n",
              "      <td>2.43</td>\n",
              "    </tr>\n",
              "  </tbody>\n",
              "</table>\n",
              "</div>"
            ],
            "text/plain": [
              "                          행정구역       총인구수      세대수  세대당 인구\n",
              "0         경기도 고양시 (4128000000)  1,066,351  434,028    2.46\n",
              "1     경기도 고양시 덕양구 (4128100000)    466,157  195,766    2.38\n",
              "2  경기도 고양시 덕양구 주교동(4128151000)     15,748    7,362    2.14\n",
              "3  경기도 고양시 덕양구 원신동(4128152000)     23,942    9,419    2.54\n",
              "4  경기도 고양시 덕양구 흥도동(4128153000)     44,565   18,311    2.43"
            ]
          },
          "metadata": {
            "tags": []
          },
          "execution_count": 123
        }
      ]
    },
    {
      "cell_type": "code",
      "metadata": {
        "id": "vAzzabUuhgp7",
        "colab_type": "code",
        "colab": {
          "base_uri": "https://localhost:8080/",
          "height": 131
        },
        "outputId": "9fb3e327-f418-4250-edfc-352a2e919020"
      },
      "source": [
        "import re\n",
        "population_stat['행정동'] = ''\n",
        "for i in range(len(population_stat)):\n",
        "  if len(re.findall('\\s(.+?)\\(',population_stat['행정구역'][i])[0].split()) <= 2:\n",
        "    continue\n",
        "  else:\n",
        "    population_stat['행정동'][i] = re.findall('\\s(.+?)\\(',population_stat['행정구역'][i])[0].split()[2]"
      ],
      "execution_count": null,
      "outputs": [
        {
          "output_type": "stream",
          "text": [
            "/usr/local/lib/python3.6/dist-packages/ipykernel_launcher.py:7: SettingWithCopyWarning: \n",
            "A value is trying to be set on a copy of a slice from a DataFrame\n",
            "\n",
            "See the caveats in the documentation: https://pandas.pydata.org/pandas-docs/stable/user_guide/indexing.html#returning-a-view-versus-a-copy\n",
            "  import sys\n"
          ],
          "name": "stderr"
        }
      ]
    },
    {
      "cell_type": "code",
      "metadata": {
        "id": "tUd4iFuFih8K",
        "colab_type": "code",
        "colab": {}
      },
      "source": [
        "idx_num = population_stat[population_stat['행정동'] == ''].index\n",
        "population_statistics = population_stat.drop(idx_num)\n",
        "population_statistics = population_statistics.reset_index()\n"
      ],
      "execution_count": null,
      "outputs": []
    },
    {
      "cell_type": "code",
      "metadata": {
        "id": "h5F4JPVhk8Cv",
        "colab_type": "code",
        "colab": {
          "base_uri": "https://localhost:8080/",
          "height": 111
        },
        "outputId": "6923ed80-af01-40d4-ddd2-591d5ecc03f5"
      },
      "source": [
        "population_statistics = population_statistics[['총인구수', '행정동']]\n",
        "population_statistics['행정동'].unique()"
      ],
      "execution_count": null,
      "outputs": [
        {
          "output_type": "execute_result",
          "data": {
            "text/plain": [
              "array(['주교동', '원신동', '흥도동', '성사1동', '성사2동', '효자동', '신도동', '삼송동', '창릉동',\n",
              "       '고양동', '관산동', '능곡동', '화정1동', '화정2동', '행주동', '행신1동', '행신2동', '행신3동',\n",
              "       '화전동', '대덕동', '식사동', '중산동', '정발산동', '풍산동', '백석1동', '백석2동', '마두1동',\n",
              "       '마두2동', '장항1동', '장항2동', '고봉동', '일산1동', '일산2동', '일산3동', '탄현동',\n",
              "       '주엽1동', '주엽2동', '대화동', '송포동', '송산동'], dtype=object)"
            ]
          },
          "metadata": {
            "tags": []
          },
          "execution_count": 131
        }
      ]
    },
    {
      "cell_type": "code",
      "metadata": {
        "id": "VCGtxH4v9DpJ",
        "colab_type": "code",
        "colab": {}
      },
      "source": [
        "population_statistics['면적'] = ''\n",
        "size = [5.62, 12.69, 11.32, 2.19, 0.92, 25.35, 6.76, 0, 11.57, 25.04, 15.05, 13.78, 2.31, 1.94, 6.01, 0.69, 4.28, 1.94, 7.3, 10.79, 6.82, 2.84, 1.53, 5.67,\n",
        "        1.77, 0.8, 2.21, 0.63, 10.28, 2.41, 24.98, 0.65, 0.82, 1.12, 2.19, 0.97, 0.96, 3.52, 13.17, 19.16]  #삼송동 데이터 없음\n",
        "population_statistics['면적'] = size"
      ],
      "execution_count": null,
      "outputs": []
    },
    {
      "cell_type": "code",
      "metadata": {
        "id": "FWw9juOY_0hi",
        "colab_type": "code",
        "colab": {
          "base_uri": "https://localhost:8080/",
          "height": 131
        },
        "outputId": "ceaaad07-a48e-4df5-afe8-c31de074e44d"
      },
      "source": [
        "for i in range(len(population_statistics)):\n",
        "  population_statistics['총인구수'][i] = int(population_statistics['총인구수'][i][:-4] + population_statistics['총인구수'][i][-3:])"
      ],
      "execution_count": null,
      "outputs": [
        {
          "output_type": "stream",
          "text": [
            "/usr/local/lib/python3.6/dist-packages/ipykernel_launcher.py:2: SettingWithCopyWarning: \n",
            "A value is trying to be set on a copy of a slice from a DataFrame\n",
            "\n",
            "See the caveats in the documentation: https://pandas.pydata.org/pandas-docs/stable/user_guide/indexing.html#returning-a-view-versus-a-copy\n",
            "  \n"
          ],
          "name": "stderr"
        }
      ]
    },
    {
      "cell_type": "code",
      "metadata": {
        "id": "4MD7-mpB_F8x",
        "colab_type": "code",
        "colab": {
          "base_uri": "https://localhost:8080/",
          "height": 1000
        },
        "outputId": "7ec21e0a-9e51-4553-e0ee-6dcff3e261c7"
      },
      "source": [
        "population_statistics['pop_per_size'] = ''\n",
        "for i in range(len(population_statistics)):\n",
        "  if population_statistics['면적'][i] == 0:\n",
        "    continue\n",
        "  else:\n",
        "    population_statistics['pop_per_size'][i] = round(population_statistics['총인구수'][i]/population_statistics['면적'][i], 0)\n",
        "population_statistics"
      ],
      "execution_count": null,
      "outputs": [
        {
          "output_type": "stream",
          "text": [
            "/usr/local/lib/python3.6/dist-packages/ipykernel_launcher.py:6: SettingWithCopyWarning: \n",
            "A value is trying to be set on a copy of a slice from a DataFrame\n",
            "\n",
            "See the caveats in the documentation: https://pandas.pydata.org/pandas-docs/stable/user_guide/indexing.html#returning-a-view-versus-a-copy\n",
            "  \n"
          ],
          "name": "stderr"
        },
        {
          "output_type": "execute_result",
          "data": {
            "text/html": [
              "<div>\n",
              "<style scoped>\n",
              "    .dataframe tbody tr th:only-of-type {\n",
              "        vertical-align: middle;\n",
              "    }\n",
              "\n",
              "    .dataframe tbody tr th {\n",
              "        vertical-align: top;\n",
              "    }\n",
              "\n",
              "    .dataframe thead th {\n",
              "        text-align: right;\n",
              "    }\n",
              "</style>\n",
              "<table border=\"1\" class=\"dataframe\">\n",
              "  <thead>\n",
              "    <tr style=\"text-align: right;\">\n",
              "      <th></th>\n",
              "      <th>총인구수</th>\n",
              "      <th>행정동</th>\n",
              "      <th>면적</th>\n",
              "      <th>pop_per_size</th>\n",
              "    </tr>\n",
              "  </thead>\n",
              "  <tbody>\n",
              "    <tr>\n",
              "      <th>0</th>\n",
              "      <td>15748</td>\n",
              "      <td>주교동</td>\n",
              "      <td>5.62</td>\n",
              "      <td>2802</td>\n",
              "    </tr>\n",
              "    <tr>\n",
              "      <th>1</th>\n",
              "      <td>23942</td>\n",
              "      <td>원신동</td>\n",
              "      <td>12.69</td>\n",
              "      <td>1887</td>\n",
              "    </tr>\n",
              "    <tr>\n",
              "      <th>2</th>\n",
              "      <td>44565</td>\n",
              "      <td>흥도동</td>\n",
              "      <td>11.32</td>\n",
              "      <td>3937</td>\n",
              "    </tr>\n",
              "    <tr>\n",
              "      <th>3</th>\n",
              "      <td>22062</td>\n",
              "      <td>성사1동</td>\n",
              "      <td>2.19</td>\n",
              "      <td>10074</td>\n",
              "    </tr>\n",
              "    <tr>\n",
              "      <th>4</th>\n",
              "      <td>11729</td>\n",
              "      <td>성사2동</td>\n",
              "      <td>0.92</td>\n",
              "      <td>12749</td>\n",
              "    </tr>\n",
              "    <tr>\n",
              "      <th>5</th>\n",
              "      <td>5041</td>\n",
              "      <td>효자동</td>\n",
              "      <td>25.35</td>\n",
              "      <td>199</td>\n",
              "    </tr>\n",
              "    <tr>\n",
              "      <th>6</th>\n",
              "      <td>0</td>\n",
              "      <td>신도동</td>\n",
              "      <td>6.76</td>\n",
              "      <td>0</td>\n",
              "    </tr>\n",
              "    <tr>\n",
              "      <th>7</th>\n",
              "      <td>21879</td>\n",
              "      <td>삼송동</td>\n",
              "      <td>0.00</td>\n",
              "      <td></td>\n",
              "    </tr>\n",
              "    <tr>\n",
              "      <th>8</th>\n",
              "      <td>19852</td>\n",
              "      <td>창릉동</td>\n",
              "      <td>11.57</td>\n",
              "      <td>1716</td>\n",
              "    </tr>\n",
              "    <tr>\n",
              "      <th>9</th>\n",
              "      <td>31168</td>\n",
              "      <td>고양동</td>\n",
              "      <td>25.04</td>\n",
              "      <td>1245</td>\n",
              "    </tr>\n",
              "    <tr>\n",
              "      <th>10</th>\n",
              "      <td>36611</td>\n",
              "      <td>관산동</td>\n",
              "      <td>15.05</td>\n",
              "      <td>2433</td>\n",
              "    </tr>\n",
              "    <tr>\n",
              "      <th>11</th>\n",
              "      <td>15997</td>\n",
              "      <td>능곡동</td>\n",
              "      <td>13.78</td>\n",
              "      <td>1161</td>\n",
              "    </tr>\n",
              "    <tr>\n",
              "      <th>12</th>\n",
              "      <td>38683</td>\n",
              "      <td>화정1동</td>\n",
              "      <td>2.31</td>\n",
              "      <td>16746</td>\n",
              "    </tr>\n",
              "    <tr>\n",
              "      <th>13</th>\n",
              "      <td>33924</td>\n",
              "      <td>화정2동</td>\n",
              "      <td>1.94</td>\n",
              "      <td>17487</td>\n",
              "    </tr>\n",
              "    <tr>\n",
              "      <th>14</th>\n",
              "      <td>19950</td>\n",
              "      <td>행주동</td>\n",
              "      <td>6.01</td>\n",
              "      <td>3319</td>\n",
              "    </tr>\n",
              "    <tr>\n",
              "      <th>15</th>\n",
              "      <td>22636</td>\n",
              "      <td>행신1동</td>\n",
              "      <td>0.69</td>\n",
              "      <td>32806</td>\n",
              "    </tr>\n",
              "    <tr>\n",
              "      <th>16</th>\n",
              "      <td>33058</td>\n",
              "      <td>행신2동</td>\n",
              "      <td>4.28</td>\n",
              "      <td>7724</td>\n",
              "    </tr>\n",
              "    <tr>\n",
              "      <th>17</th>\n",
              "      <td>47193</td>\n",
              "      <td>행신3동</td>\n",
              "      <td>1.94</td>\n",
              "      <td>24326</td>\n",
              "    </tr>\n",
              "    <tr>\n",
              "      <th>18</th>\n",
              "      <td>19382</td>\n",
              "      <td>화전동</td>\n",
              "      <td>7.30</td>\n",
              "      <td>2655</td>\n",
              "    </tr>\n",
              "    <tr>\n",
              "      <th>19</th>\n",
              "      <td>2737</td>\n",
              "      <td>대덕동</td>\n",
              "      <td>10.79</td>\n",
              "      <td>254</td>\n",
              "    </tr>\n",
              "    <tr>\n",
              "      <th>20</th>\n",
              "      <td>34197</td>\n",
              "      <td>식사동</td>\n",
              "      <td>6.82</td>\n",
              "      <td>5014</td>\n",
              "    </tr>\n",
              "    <tr>\n",
              "      <th>21</th>\n",
              "      <td>47664</td>\n",
              "      <td>중산동</td>\n",
              "      <td>2.84</td>\n",
              "      <td>16783</td>\n",
              "    </tr>\n",
              "    <tr>\n",
              "      <th>22</th>\n",
              "      <td>24349</td>\n",
              "      <td>정발산동</td>\n",
              "      <td>1.53</td>\n",
              "      <td>15914</td>\n",
              "    </tr>\n",
              "    <tr>\n",
              "      <th>23</th>\n",
              "      <td>39667</td>\n",
              "      <td>풍산동</td>\n",
              "      <td>5.67</td>\n",
              "      <td>6996</td>\n",
              "    </tr>\n",
              "    <tr>\n",
              "      <th>24</th>\n",
              "      <td>31356</td>\n",
              "      <td>백석1동</td>\n",
              "      <td>1.77</td>\n",
              "      <td>17715</td>\n",
              "    </tr>\n",
              "    <tr>\n",
              "      <th>25</th>\n",
              "      <td>20891</td>\n",
              "      <td>백석2동</td>\n",
              "      <td>0.80</td>\n",
              "      <td>26114</td>\n",
              "    </tr>\n",
              "    <tr>\n",
              "      <th>26</th>\n",
              "      <td>24938</td>\n",
              "      <td>마두1동</td>\n",
              "      <td>2.21</td>\n",
              "      <td>11284</td>\n",
              "    </tr>\n",
              "    <tr>\n",
              "      <th>27</th>\n",
              "      <td>16690</td>\n",
              "      <td>마두2동</td>\n",
              "      <td>0.63</td>\n",
              "      <td>26492</td>\n",
              "    </tr>\n",
              "    <tr>\n",
              "      <th>28</th>\n",
              "      <td>9409</td>\n",
              "      <td>장항1동</td>\n",
              "      <td>10.28</td>\n",
              "      <td>915</td>\n",
              "    </tr>\n",
              "    <tr>\n",
              "      <th>29</th>\n",
              "      <td>26069</td>\n",
              "      <td>장항2동</td>\n",
              "      <td>2.41</td>\n",
              "      <td>10817</td>\n",
              "    </tr>\n",
              "    <tr>\n",
              "      <th>30</th>\n",
              "      <td>22441</td>\n",
              "      <td>고봉동</td>\n",
              "      <td>24.98</td>\n",
              "      <td>898</td>\n",
              "    </tr>\n",
              "    <tr>\n",
              "      <th>31</th>\n",
              "      <td>28288</td>\n",
              "      <td>일산1동</td>\n",
              "      <td>0.65</td>\n",
              "      <td>43520</td>\n",
              "    </tr>\n",
              "    <tr>\n",
              "      <th>32</th>\n",
              "      <td>19218</td>\n",
              "      <td>일산2동</td>\n",
              "      <td>0.82</td>\n",
              "      <td>23437</td>\n",
              "    </tr>\n",
              "    <tr>\n",
              "      <th>33</th>\n",
              "      <td>36649</td>\n",
              "      <td>일산3동</td>\n",
              "      <td>1.12</td>\n",
              "      <td>32722</td>\n",
              "    </tr>\n",
              "    <tr>\n",
              "      <th>34</th>\n",
              "      <td>52932</td>\n",
              "      <td>탄현동</td>\n",
              "      <td>2.19</td>\n",
              "      <td>24170</td>\n",
              "    </tr>\n",
              "    <tr>\n",
              "      <th>35</th>\n",
              "      <td>28389</td>\n",
              "      <td>주엽1동</td>\n",
              "      <td>0.97</td>\n",
              "      <td>29267</td>\n",
              "    </tr>\n",
              "    <tr>\n",
              "      <th>36</th>\n",
              "      <td>29650</td>\n",
              "      <td>주엽2동</td>\n",
              "      <td>0.96</td>\n",
              "      <td>30885</td>\n",
              "    </tr>\n",
              "    <tr>\n",
              "      <th>37</th>\n",
              "      <td>34791</td>\n",
              "      <td>대화동</td>\n",
              "      <td>3.52</td>\n",
              "      <td>9884</td>\n",
              "    </tr>\n",
              "    <tr>\n",
              "      <th>38</th>\n",
              "      <td>21546</td>\n",
              "      <td>송포동</td>\n",
              "      <td>13.17</td>\n",
              "      <td>1636</td>\n",
              "    </tr>\n",
              "    <tr>\n",
              "      <th>39</th>\n",
              "      <td>51060</td>\n",
              "      <td>송산동</td>\n",
              "      <td>19.16</td>\n",
              "      <td>2665</td>\n",
              "    </tr>\n",
              "  </tbody>\n",
              "</table>\n",
              "</div>"
            ],
            "text/plain": [
              "     총인구수   행정동     면적 pop_per_size\n",
              "0   15748   주교동   5.62         2802\n",
              "1   23942   원신동  12.69         1887\n",
              "2   44565   흥도동  11.32         3937\n",
              "3   22062  성사1동   2.19        10074\n",
              "4   11729  성사2동   0.92        12749\n",
              "5    5041   효자동  25.35          199\n",
              "6       0   신도동   6.76            0\n",
              "7   21879   삼송동   0.00             \n",
              "8   19852   창릉동  11.57         1716\n",
              "9   31168   고양동  25.04         1245\n",
              "10  36611   관산동  15.05         2433\n",
              "11  15997   능곡동  13.78         1161\n",
              "12  38683  화정1동   2.31        16746\n",
              "13  33924  화정2동   1.94        17487\n",
              "14  19950   행주동   6.01         3319\n",
              "15  22636  행신1동   0.69        32806\n",
              "16  33058  행신2동   4.28         7724\n",
              "17  47193  행신3동   1.94        24326\n",
              "18  19382   화전동   7.30         2655\n",
              "19   2737   대덕동  10.79          254\n",
              "20  34197   식사동   6.82         5014\n",
              "21  47664   중산동   2.84        16783\n",
              "22  24349  정발산동   1.53        15914\n",
              "23  39667   풍산동   5.67         6996\n",
              "24  31356  백석1동   1.77        17715\n",
              "25  20891  백석2동   0.80        26114\n",
              "26  24938  마두1동   2.21        11284\n",
              "27  16690  마두2동   0.63        26492\n",
              "28   9409  장항1동  10.28          915\n",
              "29  26069  장항2동   2.41        10817\n",
              "30  22441   고봉동  24.98          898\n",
              "31  28288  일산1동   0.65        43520\n",
              "32  19218  일산2동   0.82        23437\n",
              "33  36649  일산3동   1.12        32722\n",
              "34  52932   탄현동   2.19        24170\n",
              "35  28389  주엽1동   0.97        29267\n",
              "36  29650  주엽2동   0.96        30885\n",
              "37  34791   대화동   3.52         9884\n",
              "38  21546   송포동  13.17         1636\n",
              "39  51060   송산동  19.16         2665"
            ]
          },
          "metadata": {
            "tags": []
          },
          "execution_count": 157
        }
      ]
    }
  ]
}