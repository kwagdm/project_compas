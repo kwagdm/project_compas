{
  "nbformat": 4,
  "nbformat_minor": 0,
  "metadata": {
    "colab": {
      "name": "BIKE_EDA.ipynb",
      "provenance": [],
      "collapsed_sections": [],
      "toc_visible": true,
      "include_colab_link": true
    },
    "kernelspec": {
      "name": "python3",
      "display_name": "Python 3"
    },
    "accelerator": "GPU"
  },
  "cells": [
    {
      "cell_type": "markdown",
      "metadata": {
        "id": "view-in-github",
        "colab_type": "text"
      },
      "source": [
        "<a href=\"https://colab.research.google.com/github/kwagdm/project_compas/blob/master/BIKE_EDA.ipynb\" target=\"_parent\"><img src=\"https://colab.research.google.com/assets/colab-badge.svg\" alt=\"Open In Colab\"/></a>"
      ]
    },
    {
      "cell_type": "code",
      "metadata": {
        "id": "M8SkaneGQ4Pq",
        "colab_type": "code",
        "colab": {}
      },
      "source": [
        "import pandas as pd \n",
        "import numpy as np"
      ],
      "execution_count": null,
      "outputs": []
    },
    {
      "cell_type": "code",
      "metadata": {
        "id": "wcK-4fObR8-n",
        "colab_type": "code",
        "colab": {
          "base_uri": "https://localhost:8080/",
          "height": 75
        },
        "outputId": "2832094e-7126-445c-a1db-d22f1c549278"
      },
      "source": [
        "from matplotlib import pyplot as plt\n",
        "import seaborn as sns"
      ],
      "execution_count": null,
      "outputs": [
        {
          "output_type": "stream",
          "text": [
            "/usr/local/lib/python3.6/dist-packages/statsmodels/tools/_testing.py:19: FutureWarning: pandas.util.testing is deprecated. Use the functions in the public API at pandas.testing instead.\n",
            "  import pandas.util.testing as tm\n"
          ],
          "name": "stderr"
        }
      ]
    },
    {
      "cell_type": "code",
      "metadata": {
        "id": "wuHWpQQhbPIM",
        "colab_type": "code",
        "colab": {
          "base_uri": "https://localhost:8080/",
          "height": 504
        },
        "outputId": "00bfa285-17dd-4d6a-a110-6458315958c4"
      },
      "source": [
        "!pip install geopandas"
      ],
      "execution_count": null,
      "outputs": [
        {
          "output_type": "stream",
          "text": [
            "Collecting geopandas\n",
            "\u001b[?25l  Downloading https://files.pythonhosted.org/packages/f7/a4/e66aafbefcbb717813bf3a355c8c4fc3ed04ea1dd7feb2920f2f4f868921/geopandas-0.8.1-py2.py3-none-any.whl (962kB)\n",
            "\u001b[K     |████████████████████████████████| 972kB 2.8MB/s \n",
            "\u001b[?25hCollecting fiona\n",
            "\u001b[?25l  Downloading https://files.pythonhosted.org/packages/ec/20/4e63bc5c6e62df889297b382c3ccd4a7a488b00946aaaf81a118158c6f09/Fiona-1.8.13.post1-cp36-cp36m-manylinux1_x86_64.whl (14.7MB)\n",
            "\u001b[K     |████████████████████████████████| 14.7MB 199kB/s \n",
            "\u001b[?25hRequirement already satisfied: shapely in /usr/local/lib/python3.6/dist-packages (from geopandas) (1.7.0)\n",
            "Collecting pyproj>=2.2.0\n",
            "\u001b[?25l  Downloading https://files.pythonhosted.org/packages/e5/c3/071e080230ac4b6c64f1a2e2f9161c9737a2bc7b683d2c90b024825000c0/pyproj-2.6.1.post1-cp36-cp36m-manylinux2010_x86_64.whl (10.9MB)\n",
            "\u001b[K     |████████████████████████████████| 10.9MB 37.7MB/s \n",
            "\u001b[?25hRequirement already satisfied: pandas>=0.23.0 in /usr/local/lib/python3.6/dist-packages (from geopandas) (1.0.5)\n",
            "Requirement already satisfied: click<8,>=4.0 in /usr/local/lib/python3.6/dist-packages (from fiona->geopandas) (7.1.2)\n",
            "Collecting munch\n",
            "  Downloading https://files.pythonhosted.org/packages/cc/ab/85d8da5c9a45e072301beb37ad7f833cd344e04c817d97e0cc75681d248f/munch-2.5.0-py2.py3-none-any.whl\n",
            "Collecting cligj>=0.5\n",
            "  Downloading https://files.pythonhosted.org/packages/e4/be/30a58b4b0733850280d01f8bd132591b4668ed5c7046761098d665ac2174/cligj-0.5.0-py3-none-any.whl\n",
            "Requirement already satisfied: attrs>=17 in /usr/local/lib/python3.6/dist-packages (from fiona->geopandas) (19.3.0)\n",
            "Requirement already satisfied: six>=1.7 in /usr/local/lib/python3.6/dist-packages (from fiona->geopandas) (1.15.0)\n",
            "Collecting click-plugins>=1.0\n",
            "  Downloading https://files.pythonhosted.org/packages/e9/da/824b92d9942f4e472702488857914bdd50f73021efea15b4cad9aca8ecef/click_plugins-1.1.1-py2.py3-none-any.whl\n",
            "Requirement already satisfied: python-dateutil>=2.6.1 in /usr/local/lib/python3.6/dist-packages (from pandas>=0.23.0->geopandas) (2.8.1)\n",
            "Requirement already satisfied: pytz>=2017.2 in /usr/local/lib/python3.6/dist-packages (from pandas>=0.23.0->geopandas) (2018.9)\n",
            "Requirement already satisfied: numpy>=1.13.3 in /usr/local/lib/python3.6/dist-packages (from pandas>=0.23.0->geopandas) (1.18.5)\n",
            "Installing collected packages: munch, cligj, click-plugins, fiona, pyproj, geopandas\n",
            "Successfully installed click-plugins-1.1.1 cligj-0.5.0 fiona-1.8.13.post1 geopandas-0.8.1 munch-2.5.0 pyproj-2.6.1.post1\n"
          ],
          "name": "stdout"
        }
      ]
    },
    {
      "cell_type": "code",
      "metadata": {
        "id": "a-QWPNjSbN9i",
        "colab_type": "code",
        "colab": {}
      },
      "source": [
        "import geopandas as gpd"
      ],
      "execution_count": null,
      "outputs": []
    },
    {
      "cell_type": "code",
      "metadata": {
        "id": "nh_pzJPXZCBM",
        "colab_type": "code",
        "colab": {
          "base_uri": "https://localhost:8080/",
          "height": 243
        },
        "outputId": "9a863349-d5ee-494c-f8ba-6937eead29ac"
      },
      "source": [
        "!pip install folium"
      ],
      "execution_count": null,
      "outputs": [
        {
          "output_type": "stream",
          "text": [
            "Requirement already satisfied: folium in /usr/local/lib/python3.6/dist-packages (0.8.3)\n",
            "Requirement already satisfied: numpy in /usr/local/lib/python3.6/dist-packages (from folium) (1.18.5)\n",
            "Requirement already satisfied: jinja2 in /usr/local/lib/python3.6/dist-packages (from folium) (2.11.2)\n",
            "Requirement already satisfied: requests in /usr/local/lib/python3.6/dist-packages (from folium) (2.23.0)\n",
            "Requirement already satisfied: branca>=0.3.0 in /usr/local/lib/python3.6/dist-packages (from folium) (0.4.1)\n",
            "Requirement already satisfied: six in /usr/local/lib/python3.6/dist-packages (from folium) (1.15.0)\n",
            "Requirement already satisfied: MarkupSafe>=0.23 in /usr/local/lib/python3.6/dist-packages (from jinja2->folium) (1.1.1)\n",
            "Requirement already satisfied: urllib3!=1.25.0,!=1.25.1,<1.26,>=1.21.1 in /usr/local/lib/python3.6/dist-packages (from requests->folium) (1.24.3)\n",
            "Requirement already satisfied: idna<3,>=2.5 in /usr/local/lib/python3.6/dist-packages (from requests->folium) (2.10)\n",
            "Requirement already satisfied: chardet<4,>=3.0.2 in /usr/local/lib/python3.6/dist-packages (from requests->folium) (3.0.4)\n",
            "Requirement already satisfied: certifi>=2017.4.17 in /usr/local/lib/python3.6/dist-packages (from requests->folium) (2020.6.20)\n"
          ],
          "name": "stdout"
        }
      ]
    },
    {
      "cell_type": "code",
      "metadata": {
        "id": "bBXdcjiVZCVl",
        "colab_type": "code",
        "colab": {}
      },
      "source": [
        "import folium"
      ],
      "execution_count": null,
      "outputs": []
    },
    {
      "cell_type": "markdown",
      "metadata": {
        "id": "NTVXvIQIebvu",
        "colab_type": "text"
      },
      "source": [
        "# 인구(거주) 분포도"
      ]
    },
    {
      "cell_type": "code",
      "metadata": {
        "id": "h9vNfgdHf1K0",
        "colab_type": "code",
        "colab": {
          "base_uri": "https://localhost:8080/",
          "height": 541
        },
        "outputId": "0df346bb-065c-4bf4-ce37-1a9ce6876a76"
      },
      "source": [
        "!pip install deckgljupyter"
      ],
      "execution_count": null,
      "outputs": [
        {
          "output_type": "stream",
          "text": [
            "Collecting deckgljupyter\n",
            "  Downloading https://files.pythonhosted.org/packages/39/64/7c930acf4ed02c9085add1191b1d3dc4306ab1ee1f3c3397cab8eb722559/deckgljupyter-0.1.2.0-py3-none-any.whl\n",
            "Collecting mapboxgl\n",
            "\u001b[?25l  Downloading https://files.pythonhosted.org/packages/4f/e1/cdaa6c2f6d3a7a29b0b9a675dcfc25f4c481d577d137da8c769f13014ce5/mapboxgl-0.10.2-py2.py3-none-any.whl (43kB)\n",
            "\u001b[K     |████████████████████████████████| 51kB 2.8MB/s \n",
            "\u001b[?25hRequirement already satisfied: jinja2 in /usr/local/lib/python3.6/dist-packages (from deckgljupyter) (2.11.2)\n",
            "Collecting colour\n",
            "  Downloading https://files.pythonhosted.org/packages/74/46/e81907704ab203206769dee1385dc77e1407576ff8f50a0681d0a6b541be/colour-0.1.5-py2.py3-none-any.whl\n",
            "Requirement already satisfied: matplotlib in /usr/local/lib/python3.6/dist-packages (from mapboxgl->deckgljupyter) (3.2.2)\n",
            "Collecting chroma-py\n",
            "  Downloading https://files.pythonhosted.org/packages/23/3c/39d07abb9d4bcda64d9c50a4fda2ecfee4d76a436bd590d232a4e1a5ad43/chroma-py-0.1.0.dev1.tar.gz\n",
            "Collecting geojson\n",
            "  Downloading https://files.pythonhosted.org/packages/e4/8d/9e28e9af95739e6d2d2f8d4bef0b3432da40b7c3588fbad4298c1be09e48/geojson-2.5.0-py2.py3-none-any.whl\n",
            "Requirement already satisfied: MarkupSafe>=0.23 in /usr/local/lib/python3.6/dist-packages (from jinja2->deckgljupyter) (1.1.1)\n",
            "Requirement already satisfied: pyparsing!=2.0.4,!=2.1.2,!=2.1.6,>=2.0.1 in /usr/local/lib/python3.6/dist-packages (from matplotlib->mapboxgl->deckgljupyter) (2.4.7)\n",
            "Requirement already satisfied: numpy>=1.11 in /usr/local/lib/python3.6/dist-packages (from matplotlib->mapboxgl->deckgljupyter) (1.18.5)\n",
            "Requirement already satisfied: python-dateutil>=2.1 in /usr/local/lib/python3.6/dist-packages (from matplotlib->mapboxgl->deckgljupyter) (2.8.1)\n",
            "Requirement already satisfied: cycler>=0.10 in /usr/local/lib/python3.6/dist-packages (from matplotlib->mapboxgl->deckgljupyter) (0.10.0)\n",
            "Requirement already satisfied: kiwisolver>=1.0.1 in /usr/local/lib/python3.6/dist-packages (from matplotlib->mapboxgl->deckgljupyter) (1.2.0)\n",
            "Requirement already satisfied: six>=1.5 in /usr/local/lib/python3.6/dist-packages (from python-dateutil>=2.1->matplotlib->mapboxgl->deckgljupyter) (1.15.0)\n",
            "Building wheels for collected packages: chroma-py\n",
            "  Building wheel for chroma-py (setup.py) ... \u001b[?25l\u001b[?25hdone\n",
            "  Created wheel for chroma-py: filename=chroma_py-0.1.0.dev1-cp36-none-any.whl size=5107 sha256=68c676bc20f3fe61b88ec6e764d768b949511fac2b2353a92632d562ed2b3d7c\n",
            "  Stored in directory: /root/.cache/pip/wheels/43/3b/8c/3f6d7536b8bef26b7c3be5989f8103513eb949e50a4f9f81cf\n",
            "Successfully built chroma-py\n",
            "Installing collected packages: colour, chroma-py, geojson, mapboxgl, deckgljupyter\n",
            "Successfully installed chroma-py-0.1.0.dev1 colour-0.1.5 deckgljupyter-0.1.2.0 geojson-2.5.0 mapboxgl-0.10.2\n"
          ],
          "name": "stdout"
        }
      ]
    },
    {
      "cell_type": "code",
      "metadata": {
        "id": "KxwqszpYgMKL",
        "colab_type": "code",
        "colab": {
          "base_uri": "https://localhost:8080/",
          "height": 541
        },
        "outputId": "e623f3c7-f69a-4d69-9d7b-fd3bd90b43d2"
      },
      "source": [
        "!pip3 install -U pip\n",
        "!pip3 install -U setuptools"
      ],
      "execution_count": null,
      "outputs": [
        {
          "output_type": "stream",
          "text": [
            "Collecting pip\n",
            "\u001b[?25l  Downloading https://files.pythonhosted.org/packages/5a/4a/39400ff9b36e719bdf8f31c99fe1fa7842a42fa77432e584f707a5080063/pip-20.2.2-py2.py3-none-any.whl (1.5MB)\n",
            "\u001b[K     |████████████████████████████████| 1.5MB 2.8MB/s \n",
            "\u001b[?25hInstalling collected packages: pip\n",
            "  Found existing installation: pip 19.3.1\n",
            "    Uninstalling pip-19.3.1:\n",
            "      Successfully uninstalled pip-19.3.1\n",
            "Successfully installed pip-20.2.2\n",
            "Collecting setuptools\n",
            "  Downloading setuptools-49.6.0-py3-none-any.whl (803 kB)\n",
            "\u001b[K     |████████████████████████████████| 803 kB 2.8 MB/s \n",
            "\u001b[?25hInstalling collected packages: setuptools\n",
            "  Attempting uninstall: setuptools\n",
            "    Found existing installation: setuptools 49.2.0\n",
            "    Uninstalling setuptools-49.2.0:\n",
            "      Successfully uninstalled setuptools-49.2.0\n",
            "\u001b[31mERROR: After October 2020 you may experience errors when installing or updating packages. This is because pip will change the way that it resolves dependency conflicts.\n",
            "\n",
            "We recommend you use --use-feature=2020-resolver to test your packages with the new resolver before it becomes the default.\n",
            "\n",
            "datascience 0.10.6 requires folium==0.2.1, but you'll have folium 0.8.3 which is incompatible.\u001b[0m\n",
            "Successfully installed setuptools-49.6.0\n"
          ],
          "name": "stdout"
        },
        {
          "output_type": "display_data",
          "data": {
            "application/vnd.colab-display-data+json": {
              "pip_warning": {
                "packages": [
                  "pkg_resources"
                ]
              }
            }
          },
          "metadata": {
            "tags": []
          }
        }
      ]
    },
    {
      "cell_type": "code",
      "metadata": {
        "id": "NWqULic2fc3I",
        "colab_type": "code",
        "colab": {
          "base_uri": "https://localhost:8080/",
          "height": 299
        },
        "outputId": "bdc76e08-d3c0-412d-f361-903fcc7828d9"
      },
      "source": [
        "!pip install geopandas\n",
        "import geopandas as gpd\n",
        "import geopandas as gpd\n",
        "import deckgljupyter.Layer as deckgl"
      ],
      "execution_count": null,
      "outputs": [
        {
          "output_type": "stream",
          "text": [
            "Requirement already satisfied: geopandas in /usr/local/lib/python3.6/dist-packages (0.8.1)\n",
            "Requirement already satisfied: pyproj>=2.2.0 in /usr/local/lib/python3.6/dist-packages (from geopandas) (2.6.1.post1)\n",
            "Requirement already satisfied: pandas>=0.23.0 in /usr/local/lib/python3.6/dist-packages (from geopandas) (1.0.5)\n",
            "Requirement already satisfied: fiona in /usr/local/lib/python3.6/dist-packages (from geopandas) (1.8.13.post1)\n",
            "Requirement already satisfied: shapely in /usr/local/lib/python3.6/dist-packages (from geopandas) (1.7.0)\n",
            "Requirement already satisfied: pytz>=2017.2 in /usr/local/lib/python3.6/dist-packages (from pandas>=0.23.0->geopandas) (2018.9)\n",
            "Requirement already satisfied: numpy>=1.13.3 in /usr/local/lib/python3.6/dist-packages (from pandas>=0.23.0->geopandas) (1.18.5)\n",
            "Requirement already satisfied: python-dateutil>=2.6.1 in /usr/local/lib/python3.6/dist-packages (from pandas>=0.23.0->geopandas) (2.8.1)\n",
            "Requirement already satisfied: click-plugins>=1.0 in /usr/local/lib/python3.6/dist-packages (from fiona->geopandas) (1.1.1)\n",
            "Requirement already satisfied: click<8,>=4.0 in /usr/local/lib/python3.6/dist-packages (from fiona->geopandas) (7.1.2)\n",
            "Requirement already satisfied: munch in /usr/local/lib/python3.6/dist-packages (from fiona->geopandas) (2.5.0)\n",
            "Requirement already satisfied: attrs>=17 in /usr/local/lib/python3.6/dist-packages (from fiona->geopandas) (19.3.0)\n",
            "Requirement already satisfied: six>=1.7 in /usr/local/lib/python3.6/dist-packages (from fiona->geopandas) (1.15.0)\n",
            "Requirement already satisfied: cligj>=0.5 in /usr/local/lib/python3.6/dist-packages (from fiona->geopandas) (0.5.0)\n"
          ],
          "name": "stdout"
        }
      ]
    },
    {
      "cell_type": "code",
      "metadata": {
        "id": "8KuZvTKEPzPh",
        "colab_type": "code",
        "colab": {
          "base_uri": "https://localhost:8080/",
          "height": 131
        },
        "outputId": "a3cbc72e-13e8-4989-a497-878ea5456796"
      },
      "source": [
        "from google.colab import drive\n",
        "drive.mount('/content/drive')\n"
      ],
      "execution_count": null,
      "outputs": [
        {
          "output_type": "stream",
          "text": [
            "Go to this URL in a browser: https://accounts.google.com/o/oauth2/auth?client_id=947318989803-6bn6qk8qdgf4n4g3pfee6491hc0brc4i.apps.googleusercontent.com&redirect_uri=urn%3aietf%3awg%3aoauth%3a2.0%3aoob&scope=email%20https%3a%2f%2fwww.googleapis.com%2fauth%2fdocs.test%20https%3a%2f%2fwww.googleapis.com%2fauth%2fdrive%20https%3a%2f%2fwww.googleapis.com%2fauth%2fdrive.photos.readonly%20https%3a%2f%2fwww.googleapis.com%2fauth%2fpeopleapi.readonly&response_type=code\n",
            "\n",
            "Enter your authorization code:\n",
            "··········\n",
            "Mounted at /content/drive\n"
          ],
          "name": "stdout"
        }
      ]
    },
    {
      "cell_type": "code",
      "metadata": {
        "id": "3xrTlGh7b66_",
        "colab_type": "code",
        "colab": {}
      },
      "source": [
        "import geopandas as gpd\n",
        "import json"
      ],
      "execution_count": null,
      "outputs": []
    },
    {
      "cell_type": "code",
      "metadata": {
        "id": "XTfCTYVAfb3S",
        "colab_type": "code",
        "colab": {}
      },
      "source": [
        "goyang_pop = gpd.read_file('/content/drive/My Drive/프로젝트/compas/SBJ_2007_001/06.인구(거주)분포도(100M X 100M).geojson')"
      ],
      "execution_count": null,
      "outputs": []
    },
    {
      "cell_type": "code",
      "metadata": {
        "id": "XtJYad1GrdSe",
        "colab_type": "code",
        "colab": {}
      },
      "source": [
        "rfile = open('/content/drive/My Drive/프로젝트/compas/SBJ_2007_001/06.인구(거주)분포도(100M X 100M).geojson', 'r', encoding= 'utf-8').read()\n",
        "jsonData = json.loads(rfile)"
      ],
      "execution_count": null,
      "outputs": []
    },
    {
      "cell_type": "code",
      "metadata": {
        "id": "IOrrleWNrbSR",
        "colab_type": "code",
        "colab": {
          "base_uri": "https://localhost:8080/",
          "height": 415
        },
        "outputId": "057575f1-f22d-4cf7-c8b2-c4ea375fbc5f"
      },
      "source": [
        "goyang_pop = goyang_pop[goyang_pop['val'].isna()==False]\n",
        "goyang_pop"
      ],
      "execution_count": null,
      "outputs": [
        {
          "output_type": "execute_result",
          "data": {
            "text/html": [
              "<div>\n",
              "<style scoped>\n",
              "    .dataframe tbody tr th:only-of-type {\n",
              "        vertical-align: middle;\n",
              "    }\n",
              "\n",
              "    .dataframe tbody tr th {\n",
              "        vertical-align: top;\n",
              "    }\n",
              "\n",
              "    .dataframe thead th {\n",
              "        text-align: right;\n",
              "    }\n",
              "</style>\n",
              "<table border=\"1\" class=\"dataframe\">\n",
              "  <thead>\n",
              "    <tr style=\"text-align: right;\">\n",
              "      <th></th>\n",
              "      <th>gid</th>\n",
              "      <th>val</th>\n",
              "      <th>geometry</th>\n",
              "    </tr>\n",
              "  </thead>\n",
              "  <tbody>\n",
              "    <tr>\n",
              "      <th>246</th>\n",
              "      <td>다사277649</td>\n",
              "      <td>0.0</td>\n",
              "      <td>MULTIPOLYGON (((126.68006 37.68079, 126.68005 ...</td>\n",
              "    </tr>\n",
              "    <tr>\n",
              "      <th>249</th>\n",
              "      <td>다사277652</td>\n",
              "      <td>8.0</td>\n",
              "      <td>MULTIPOLYGON (((126.68003 37.68349, 126.68002 ...</td>\n",
              "    </tr>\n",
              "    <tr>\n",
              "      <th>250</th>\n",
              "      <td>다사277653</td>\n",
              "      <td>11.0</td>\n",
              "      <td>MULTIPOLYGON (((126.68002 37.68439, 126.68001 ...</td>\n",
              "    </tr>\n",
              "    <tr>\n",
              "      <th>253</th>\n",
              "      <td>다사277656</td>\n",
              "      <td>0.0</td>\n",
              "      <td>MULTIPOLYGON (((126.67999 37.68710, 126.67998 ...</td>\n",
              "    </tr>\n",
              "    <tr>\n",
              "      <th>280</th>\n",
              "      <td>다사278651</td>\n",
              "      <td>13.0</td>\n",
              "      <td>MULTIPOLYGON (((126.68118 37.68260, 126.68117 ...</td>\n",
              "    </tr>\n",
              "    <tr>\n",
              "      <th>...</th>\n",
              "      <td>...</td>\n",
              "      <td>...</td>\n",
              "      <td>...</td>\n",
              "    </tr>\n",
              "    <tr>\n",
              "      <th>26629</th>\n",
              "      <td>다사536607</td>\n",
              "      <td>0.0</td>\n",
              "      <td>MULTIPOLYGON (((126.97404 37.64461, 126.97403 ...</td>\n",
              "    </tr>\n",
              "    <tr>\n",
              "      <th>26743</th>\n",
              "      <td>다사538597</td>\n",
              "      <td>0.0</td>\n",
              "      <td>MULTIPOLYGON (((126.97637 37.63561, 126.97636 ...</td>\n",
              "    </tr>\n",
              "    <tr>\n",
              "      <th>26754</th>\n",
              "      <td>다사538608</td>\n",
              "      <td>0.0</td>\n",
              "      <td>MULTIPOLYGON (((126.97630 37.64552, 126.97629 ...</td>\n",
              "    </tr>\n",
              "    <tr>\n",
              "      <th>26814</th>\n",
              "      <td>다사539608</td>\n",
              "      <td>0.0</td>\n",
              "      <td>MULTIPOLYGON (((126.97743 37.64553, 126.97743 ...</td>\n",
              "    </tr>\n",
              "    <tr>\n",
              "      <th>26991</th>\n",
              "      <td>다사542608</td>\n",
              "      <td>0.0</td>\n",
              "      <td>MULTIPOLYGON (((126.98083 37.64554, 126.98083 ...</td>\n",
              "    </tr>\n",
              "  </tbody>\n",
              "</table>\n",
              "<p>9241 rows × 3 columns</p>\n",
              "</div>"
            ],
            "text/plain": [
              "            gid   val                                           geometry\n",
              "246    다사277649   0.0  MULTIPOLYGON (((126.68006 37.68079, 126.68005 ...\n",
              "249    다사277652   8.0  MULTIPOLYGON (((126.68003 37.68349, 126.68002 ...\n",
              "250    다사277653  11.0  MULTIPOLYGON (((126.68002 37.68439, 126.68001 ...\n",
              "253    다사277656   0.0  MULTIPOLYGON (((126.67999 37.68710, 126.67998 ...\n",
              "280    다사278651  13.0  MULTIPOLYGON (((126.68118 37.68260, 126.68117 ...\n",
              "...         ...   ...                                                ...\n",
              "26629  다사536607   0.0  MULTIPOLYGON (((126.97404 37.64461, 126.97403 ...\n",
              "26743  다사538597   0.0  MULTIPOLYGON (((126.97637 37.63561, 126.97636 ...\n",
              "26754  다사538608   0.0  MULTIPOLYGON (((126.97630 37.64552, 126.97629 ...\n",
              "26814  다사539608   0.0  MULTIPOLYGON (((126.97743 37.64553, 126.97743 ...\n",
              "26991  다사542608   0.0  MULTIPOLYGON (((126.98083 37.64554, 126.98083 ...\n",
              "\n",
              "[9241 rows x 3 columns]"
            ]
          },
          "metadata": {
            "tags": []
          },
          "execution_count": 14
        }
      ]
    },
    {
      "cell_type": "code",
      "metadata": {
        "id": "4DOiZbFXFKOx",
        "colab_type": "code",
        "colab": {
          "base_uri": "https://localhost:8080/",
          "height": 202
        },
        "outputId": "2ca8d601-5c1d-400d-818d-d75cca7dfd0c"
      },
      "source": [
        "goyang_pop = goyang_pop[['val', 'geometry']]\n",
        "goyang_pop.head()"
      ],
      "execution_count": null,
      "outputs": [
        {
          "output_type": "execute_result",
          "data": {
            "text/html": [
              "<div>\n",
              "<style scoped>\n",
              "    .dataframe tbody tr th:only-of-type {\n",
              "        vertical-align: middle;\n",
              "    }\n",
              "\n",
              "    .dataframe tbody tr th {\n",
              "        vertical-align: top;\n",
              "    }\n",
              "\n",
              "    .dataframe thead th {\n",
              "        text-align: right;\n",
              "    }\n",
              "</style>\n",
              "<table border=\"1\" class=\"dataframe\">\n",
              "  <thead>\n",
              "    <tr style=\"text-align: right;\">\n",
              "      <th></th>\n",
              "      <th>val</th>\n",
              "      <th>geometry</th>\n",
              "    </tr>\n",
              "  </thead>\n",
              "  <tbody>\n",
              "    <tr>\n",
              "      <th>246</th>\n",
              "      <td>0.0</td>\n",
              "      <td>MULTIPOLYGON (((126.68006 37.68079, 126.68005 ...</td>\n",
              "    </tr>\n",
              "    <tr>\n",
              "      <th>249</th>\n",
              "      <td>8.0</td>\n",
              "      <td>MULTIPOLYGON (((126.68003 37.68349, 126.68002 ...</td>\n",
              "    </tr>\n",
              "    <tr>\n",
              "      <th>250</th>\n",
              "      <td>11.0</td>\n",
              "      <td>MULTIPOLYGON (((126.68002 37.68439, 126.68001 ...</td>\n",
              "    </tr>\n",
              "    <tr>\n",
              "      <th>253</th>\n",
              "      <td>0.0</td>\n",
              "      <td>MULTIPOLYGON (((126.67999 37.68710, 126.67998 ...</td>\n",
              "    </tr>\n",
              "    <tr>\n",
              "      <th>280</th>\n",
              "      <td>13.0</td>\n",
              "      <td>MULTIPOLYGON (((126.68118 37.68260, 126.68117 ...</td>\n",
              "    </tr>\n",
              "  </tbody>\n",
              "</table>\n",
              "</div>"
            ],
            "text/plain": [
              "      val                                           geometry\n",
              "246   0.0  MULTIPOLYGON (((126.68006 37.68079, 126.68005 ...\n",
              "249   8.0  MULTIPOLYGON (((126.68003 37.68349, 126.68002 ...\n",
              "250  11.0  MULTIPOLYGON (((126.68002 37.68439, 126.68001 ...\n",
              "253   0.0  MULTIPOLYGON (((126.67999 37.68710, 126.67998 ...\n",
              "280  13.0  MULTIPOLYGON (((126.68118 37.68260, 126.68117 ..."
            ]
          },
          "metadata": {
            "tags": []
          },
          "execution_count": 15
        }
      ]
    },
    {
      "cell_type": "code",
      "metadata": {
        "id": "dKe5cjHffvCN",
        "colab_type": "code",
        "colab": {}
      },
      "source": [
        "# import folium\n",
        "\n",
        "# center = (37.658367, 126.831927); zoom = 17\n",
        "\n",
        "# m = folium.Map(location=center, zoom_start=zoom)\n",
        "\n",
        "# folium.Choropleth(\n",
        "#     geo_data = goyang_pop,\n",
        "#     data = goyang_pop['geometry'],\n",
        "#     columns = ('동', '인구'),\n",
        "#     key_on = 'feature.properties.동',\n",
        "#     fill_color = \"BuPu\",\n",
        "#     legend_name = \"인구수\"\n",
        "# ).add_to(m)"
      ],
      "execution_count": null,
      "outputs": []
    },
    {
      "cell_type": "code",
      "metadata": {
        "id": "BDf1yTvmFswC",
        "colab_type": "code",
        "colab": {}
      },
      "source": [
        "# myscale = (goyang_pop['val'].quantile((0,0.1,0.75,0.9,0.98,1))).tolist()\n",
        "# m.choropleth(\n",
        "#  geo_data=goyang_pop,\n",
        "#  name='Choropleth',\n",
        "#  data=goyang_pop,\n",
        "#  columns=['val','geometry'],\n",
        "#  key_on=\"feature.properties.ID_NIL\",\n",
        "#  fill_color='YlGnBu',\n",
        "#  threshold_scale=myscale)\n",
        "# m"
      ],
      "execution_count": null,
      "outputs": []
    },
    {
      "cell_type": "markdown",
      "metadata": {
        "id": "AmK7UUy3sMWi",
        "colab_type": "text"
      },
      "source": [
        "# 인구통계"
      ]
    },
    {
      "cell_type": "code",
      "metadata": {
        "id": "I6uyiHQEsd28",
        "colab_type": "code",
        "colab": {}
      },
      "source": [
        "import pandas as pd\n",
        "pop_stat=pd.read_csv('/content/drive/My Drive/프로젝트/compas/SBJ_2007_001/07.인구통계.csv')"
      ],
      "execution_count": null,
      "outputs": []
    },
    {
      "cell_type": "code",
      "metadata": {
        "id": "kxPYsRiwshgJ",
        "colab_type": "code",
        "colab": {
          "base_uri": "https://localhost:8080/",
          "height": 606
        },
        "outputId": "0c547b5a-2ff2-4e19-eb64-7a2d8f989f22"
      },
      "source": [
        "pop_stat"
      ],
      "execution_count": null,
      "outputs": [
        {
          "output_type": "execute_result",
          "data": {
            "text/html": [
              "<div>\n",
              "<style scoped>\n",
              "    .dataframe tbody tr th:only-of-type {\n",
              "        vertical-align: middle;\n",
              "    }\n",
              "\n",
              "    .dataframe tbody tr th {\n",
              "        vertical-align: top;\n",
              "    }\n",
              "\n",
              "    .dataframe thead th {\n",
              "        text-align: right;\n",
              "    }\n",
              "</style>\n",
              "<table border=\"1\" class=\"dataframe\">\n",
              "  <thead>\n",
              "    <tr style=\"text-align: right;\">\n",
              "      <th></th>\n",
              "      <th>행정구역</th>\n",
              "      <th>조회기준</th>\n",
              "      <th>총인구수</th>\n",
              "      <th>세대수</th>\n",
              "      <th>세대당 인구</th>\n",
              "      <th>남자 인구수</th>\n",
              "      <th>여자 인구수</th>\n",
              "      <th>남여 비율</th>\n",
              "    </tr>\n",
              "  </thead>\n",
              "  <tbody>\n",
              "    <tr>\n",
              "      <th>0</th>\n",
              "      <td>경기도 고양시 (4128000000)</td>\n",
              "      <td>2017년01월</td>\n",
              "      <td>1,040,648</td>\n",
              "      <td>402,440</td>\n",
              "      <td>2.59</td>\n",
              "      <td>511,353</td>\n",
              "      <td>529,295</td>\n",
              "      <td>0.97</td>\n",
              "    </tr>\n",
              "    <tr>\n",
              "      <th>1</th>\n",
              "      <td>경기도 고양시 (4128000000)</td>\n",
              "      <td>2017년02월</td>\n",
              "      <td>1,040,483</td>\n",
              "      <td>403,042</td>\n",
              "      <td>2.58</td>\n",
              "      <td>511,266</td>\n",
              "      <td>529,217</td>\n",
              "      <td>0.97</td>\n",
              "    </tr>\n",
              "    <tr>\n",
              "      <th>2</th>\n",
              "      <td>경기도 고양시 (4128000000)</td>\n",
              "      <td>2017년03월</td>\n",
              "      <td>1,040,482</td>\n",
              "      <td>403,443</td>\n",
              "      <td>2.58</td>\n",
              "      <td>511,182</td>\n",
              "      <td>529,300</td>\n",
              "      <td>0.97</td>\n",
              "    </tr>\n",
              "    <tr>\n",
              "      <th>3</th>\n",
              "      <td>경기도 고양시 (4128000000)</td>\n",
              "      <td>2017년04월</td>\n",
              "      <td>1,040,608</td>\n",
              "      <td>403,933</td>\n",
              "      <td>2.58</td>\n",
              "      <td>511,225</td>\n",
              "      <td>529,383</td>\n",
              "      <td>0.97</td>\n",
              "    </tr>\n",
              "    <tr>\n",
              "      <th>4</th>\n",
              "      <td>경기도 고양시 (4128000000)</td>\n",
              "      <td>2017년05월</td>\n",
              "      <td>1,040,892</td>\n",
              "      <td>404,603</td>\n",
              "      <td>2.57</td>\n",
              "      <td>511,347</td>\n",
              "      <td>529,545</td>\n",
              "      <td>0.97</td>\n",
              "    </tr>\n",
              "    <tr>\n",
              "      <th>...</th>\n",
              "      <td>...</td>\n",
              "      <td>...</td>\n",
              "      <td>...</td>\n",
              "      <td>...</td>\n",
              "      <td>...</td>\n",
              "      <td>...</td>\n",
              "      <td>...</td>\n",
              "      <td>...</td>\n",
              "    </tr>\n",
              "    <tr>\n",
              "      <th>1579</th>\n",
              "      <td>경기도 고양시 일산서구 송산동(4128759000)</td>\n",
              "      <td>2019년08월</td>\n",
              "      <td>50,610</td>\n",
              "      <td>18,390</td>\n",
              "      <td>2.75</td>\n",
              "      <td>24,983</td>\n",
              "      <td>25,627</td>\n",
              "      <td>0.97</td>\n",
              "    </tr>\n",
              "    <tr>\n",
              "      <th>1580</th>\n",
              "      <td>경기도 고양시 일산서구 송산동(4128759000)</td>\n",
              "      <td>2019년09월</td>\n",
              "      <td>50,694</td>\n",
              "      <td>18,404</td>\n",
              "      <td>2.75</td>\n",
              "      <td>25,025</td>\n",
              "      <td>25,669</td>\n",
              "      <td>0.97</td>\n",
              "    </tr>\n",
              "    <tr>\n",
              "      <th>1581</th>\n",
              "      <td>경기도 고양시 일산서구 송산동(4128759000)</td>\n",
              "      <td>2019년10월</td>\n",
              "      <td>50,660</td>\n",
              "      <td>18,398</td>\n",
              "      <td>2.75</td>\n",
              "      <td>25,020</td>\n",
              "      <td>25,640</td>\n",
              "      <td>0.98</td>\n",
              "    </tr>\n",
              "    <tr>\n",
              "      <th>1582</th>\n",
              "      <td>경기도 고양시 일산서구 송산동(4128759000)</td>\n",
              "      <td>2019년11월</td>\n",
              "      <td>50,865</td>\n",
              "      <td>18,480</td>\n",
              "      <td>2.75</td>\n",
              "      <td>25,112</td>\n",
              "      <td>25,753</td>\n",
              "      <td>0.98</td>\n",
              "    </tr>\n",
              "    <tr>\n",
              "      <th>1583</th>\n",
              "      <td>경기도 고양시 일산서구 송산동(4128759000)</td>\n",
              "      <td>2019년12월</td>\n",
              "      <td>51,060</td>\n",
              "      <td>18,555</td>\n",
              "      <td>2.75</td>\n",
              "      <td>25,195</td>\n",
              "      <td>25,865</td>\n",
              "      <td>0.97</td>\n",
              "    </tr>\n",
              "  </tbody>\n",
              "</table>\n",
              "<p>1584 rows × 8 columns</p>\n",
              "</div>"
            ],
            "text/plain": [
              "                              행정구역      조회기준  ...   여자 인구수 남여 비율\n",
              "0             경기도 고양시 (4128000000)  2017년01월  ...  529,295  0.97\n",
              "1             경기도 고양시 (4128000000)  2017년02월  ...  529,217  0.97\n",
              "2             경기도 고양시 (4128000000)  2017년03월  ...  529,300  0.97\n",
              "3             경기도 고양시 (4128000000)  2017년04월  ...  529,383  0.97\n",
              "4             경기도 고양시 (4128000000)  2017년05월  ...  529,545  0.97\n",
              "...                            ...       ...  ...      ...   ...\n",
              "1579  경기도 고양시 일산서구 송산동(4128759000)  2019년08월  ...   25,627  0.97\n",
              "1580  경기도 고양시 일산서구 송산동(4128759000)  2019년09월  ...   25,669  0.97\n",
              "1581  경기도 고양시 일산서구 송산동(4128759000)  2019년10월  ...   25,640  0.98\n",
              "1582  경기도 고양시 일산서구 송산동(4128759000)  2019년11월  ...   25,753  0.98\n",
              "1583  경기도 고양시 일산서구 송산동(4128759000)  2019년12월  ...   25,865  0.97\n",
              "\n",
              "[1584 rows x 8 columns]"
            ]
          },
          "metadata": {
            "tags": []
          },
          "execution_count": 19
        }
      ]
    },
    {
      "cell_type": "code",
      "metadata": {
        "id": "MNhjb1VRsiJ0",
        "colab_type": "code",
        "colab": {
          "base_uri": "https://localhost:8080/",
          "height": 36
        },
        "outputId": "24bd0f74-7630-4e3d-f655-a3c0e88ace54"
      },
      "source": [
        "len(pop_stat['행정구역'].unique()), len(pop_stat['조회기준'].unique())"
      ],
      "execution_count": null,
      "outputs": [
        {
          "output_type": "execute_result",
          "data": {
            "text/plain": [
              "(44, 36)"
            ]
          },
          "metadata": {
            "tags": []
          },
          "execution_count": 20
        }
      ]
    },
    {
      "cell_type": "code",
      "metadata": {
        "id": "kci5bl2qtCKA",
        "colab_type": "code",
        "colab": {}
      },
      "source": [
        "df1 = pop_stat"
      ],
      "execution_count": null,
      "outputs": []
    },
    {
      "cell_type": "code",
      "metadata": {
        "id": "-zsOADoaxlXX",
        "colab_type": "code",
        "colab": {}
      },
      "source": [
        "df2 = df1[36:]"
      ],
      "execution_count": null,
      "outputs": []
    },
    {
      "cell_type": "markdown",
      "metadata": {
        "id": "kOjUbZ2_1lNh",
        "colab_type": "text"
      },
      "source": [
        "# 동단위 데이터 분류"
      ]
    },
    {
      "cell_type": "code",
      "metadata": {
        "id": "WajsS5LKyMpZ",
        "colab_type": "code",
        "colab": {
          "base_uri": "https://localhost:8080/",
          "height": 233
        },
        "outputId": "139371c5-87f3-4b17-a163-5e8699c2bc90"
      },
      "source": [
        "dong_total_pop = df2.groupby(['행정구역','조회기준']).agg({'총인구수':sum})\n",
        "dong_total_pop.head()"
      ],
      "execution_count": null,
      "outputs": [
        {
          "output_type": "execute_result",
          "data": {
            "text/html": [
              "<div>\n",
              "<style scoped>\n",
              "    .dataframe tbody tr th:only-of-type {\n",
              "        vertical-align: middle;\n",
              "    }\n",
              "\n",
              "    .dataframe tbody tr th {\n",
              "        vertical-align: top;\n",
              "    }\n",
              "\n",
              "    .dataframe thead th {\n",
              "        text-align: right;\n",
              "    }\n",
              "</style>\n",
              "<table border=\"1\" class=\"dataframe\">\n",
              "  <thead>\n",
              "    <tr style=\"text-align: right;\">\n",
              "      <th></th>\n",
              "      <th></th>\n",
              "      <th>총인구수</th>\n",
              "    </tr>\n",
              "    <tr>\n",
              "      <th>행정구역</th>\n",
              "      <th>조회기준</th>\n",
              "      <th></th>\n",
              "    </tr>\n",
              "  </thead>\n",
              "  <tbody>\n",
              "    <tr>\n",
              "      <th rowspan=\"5\" valign=\"top\">경기도 고양시 덕양구 (4128100000)</th>\n",
              "      <th>2017년01월</th>\n",
              "      <td>446,851</td>\n",
              "    </tr>\n",
              "    <tr>\n",
              "      <th>2017년02월</th>\n",
              "      <td>446,690</td>\n",
              "    </tr>\n",
              "    <tr>\n",
              "      <th>2017년03월</th>\n",
              "      <td>446,598</td>\n",
              "    </tr>\n",
              "    <tr>\n",
              "      <th>2017년04월</th>\n",
              "      <td>446,614</td>\n",
              "    </tr>\n",
              "    <tr>\n",
              "      <th>2017년05월</th>\n",
              "      <td>446,787</td>\n",
              "    </tr>\n",
              "  </tbody>\n",
              "</table>\n",
              "</div>"
            ],
            "text/plain": [
              "                                      총인구수\n",
              "행정구역                     조회기준             \n",
              "경기도 고양시 덕양구 (4128100000) 2017년01월  446,851\n",
              "                         2017년02월  446,690\n",
              "                         2017년03월  446,598\n",
              "                         2017년04월  446,614\n",
              "                         2017년05월  446,787"
            ]
          },
          "metadata": {
            "tags": []
          },
          "execution_count": 23
        }
      ]
    },
    {
      "cell_type": "code",
      "metadata": {
        "id": "qQEyuYDlz9v1",
        "colab_type": "code",
        "colab": {
          "base_uri": "https://localhost:8080/",
          "height": 233
        },
        "outputId": "fba66fe4-738a-488a-b4ee-2f48e1ac1779"
      },
      "source": [
        "dong_total_house = df2.groupby(['행정구역','조회기준']).agg({'세대수':sum})\n",
        "dong_total_house.head()"
      ],
      "execution_count": null,
      "outputs": [
        {
          "output_type": "execute_result",
          "data": {
            "text/html": [
              "<div>\n",
              "<style scoped>\n",
              "    .dataframe tbody tr th:only-of-type {\n",
              "        vertical-align: middle;\n",
              "    }\n",
              "\n",
              "    .dataframe tbody tr th {\n",
              "        vertical-align: top;\n",
              "    }\n",
              "\n",
              "    .dataframe thead th {\n",
              "        text-align: right;\n",
              "    }\n",
              "</style>\n",
              "<table border=\"1\" class=\"dataframe\">\n",
              "  <thead>\n",
              "    <tr style=\"text-align: right;\">\n",
              "      <th></th>\n",
              "      <th></th>\n",
              "      <th>세대수</th>\n",
              "    </tr>\n",
              "    <tr>\n",
              "      <th>행정구역</th>\n",
              "      <th>조회기준</th>\n",
              "      <th></th>\n",
              "    </tr>\n",
              "  </thead>\n",
              "  <tbody>\n",
              "    <tr>\n",
              "      <th rowspan=\"5\" valign=\"top\">경기도 고양시 덕양구 (4128100000)</th>\n",
              "      <th>2017년01월</th>\n",
              "      <td>178,516</td>\n",
              "    </tr>\n",
              "    <tr>\n",
              "      <th>2017년02월</th>\n",
              "      <td>178,853</td>\n",
              "    </tr>\n",
              "    <tr>\n",
              "      <th>2017년03월</th>\n",
              "      <td>178,968</td>\n",
              "    </tr>\n",
              "    <tr>\n",
              "      <th>2017년04월</th>\n",
              "      <td>179,203</td>\n",
              "    </tr>\n",
              "    <tr>\n",
              "      <th>2017년05월</th>\n",
              "      <td>179,527</td>\n",
              "    </tr>\n",
              "  </tbody>\n",
              "</table>\n",
              "</div>"
            ],
            "text/plain": [
              "                                       세대수\n",
              "행정구역                     조회기준             \n",
              "경기도 고양시 덕양구 (4128100000) 2017년01월  178,516\n",
              "                         2017년02월  178,853\n",
              "                         2017년03월  178,968\n",
              "                         2017년04월  179,203\n",
              "                         2017년05월  179,527"
            ]
          },
          "metadata": {
            "tags": []
          },
          "execution_count": 24
        }
      ]
    },
    {
      "cell_type": "code",
      "metadata": {
        "id": "Y6S8VGiO0UoW",
        "colab_type": "code",
        "colab": {
          "base_uri": "https://localhost:8080/",
          "height": 233
        },
        "outputId": "fd25e3fd-3ef5-4ad8-dfd3-be6d14abc9eb"
      },
      "source": [
        "dong_total_pop_per_house = df2.groupby(['행정구역','조회기준']).agg({'세대당 인구':sum})\n",
        "dong_total_pop_per_house.head()"
      ],
      "execution_count": null,
      "outputs": [
        {
          "output_type": "execute_result",
          "data": {
            "text/html": [
              "<div>\n",
              "<style scoped>\n",
              "    .dataframe tbody tr th:only-of-type {\n",
              "        vertical-align: middle;\n",
              "    }\n",
              "\n",
              "    .dataframe tbody tr th {\n",
              "        vertical-align: top;\n",
              "    }\n",
              "\n",
              "    .dataframe thead th {\n",
              "        text-align: right;\n",
              "    }\n",
              "</style>\n",
              "<table border=\"1\" class=\"dataframe\">\n",
              "  <thead>\n",
              "    <tr style=\"text-align: right;\">\n",
              "      <th></th>\n",
              "      <th></th>\n",
              "      <th>세대당 인구</th>\n",
              "    </tr>\n",
              "    <tr>\n",
              "      <th>행정구역</th>\n",
              "      <th>조회기준</th>\n",
              "      <th></th>\n",
              "    </tr>\n",
              "  </thead>\n",
              "  <tbody>\n",
              "    <tr>\n",
              "      <th rowspan=\"5\" valign=\"top\">경기도 고양시 덕양구 (4128100000)</th>\n",
              "      <th>2017년01월</th>\n",
              "      <td>2.50</td>\n",
              "    </tr>\n",
              "    <tr>\n",
              "      <th>2017년02월</th>\n",
              "      <td>2.50</td>\n",
              "    </tr>\n",
              "    <tr>\n",
              "      <th>2017년03월</th>\n",
              "      <td>2.50</td>\n",
              "    </tr>\n",
              "    <tr>\n",
              "      <th>2017년04월</th>\n",
              "      <td>2.49</td>\n",
              "    </tr>\n",
              "    <tr>\n",
              "      <th>2017년05월</th>\n",
              "      <td>2.49</td>\n",
              "    </tr>\n",
              "  </tbody>\n",
              "</table>\n",
              "</div>"
            ],
            "text/plain": [
              "                                   세대당 인구\n",
              "행정구역                     조회기준            \n",
              "경기도 고양시 덕양구 (4128100000) 2017년01월    2.50\n",
              "                         2017년02월    2.50\n",
              "                         2017년03월    2.50\n",
              "                         2017년04월    2.49\n",
              "                         2017년05월    2.49"
            ]
          },
          "metadata": {
            "tags": []
          },
          "execution_count": 25
        }
      ]
    },
    {
      "cell_type": "code",
      "metadata": {
        "id": "2utRt-jU0bge",
        "colab_type": "code",
        "colab": {
          "base_uri": "https://localhost:8080/",
          "height": 233
        },
        "outputId": "1c31543a-425e-48b3-b745-753b627bec80"
      },
      "source": [
        "dong_total_men_pop = df2.groupby(['행정구역','조회기준']).agg({'남자 인구수':sum})\n",
        "dong_total_men_pop.head()"
      ],
      "execution_count": null,
      "outputs": [
        {
          "output_type": "execute_result",
          "data": {
            "text/html": [
              "<div>\n",
              "<style scoped>\n",
              "    .dataframe tbody tr th:only-of-type {\n",
              "        vertical-align: middle;\n",
              "    }\n",
              "\n",
              "    .dataframe tbody tr th {\n",
              "        vertical-align: top;\n",
              "    }\n",
              "\n",
              "    .dataframe thead th {\n",
              "        text-align: right;\n",
              "    }\n",
              "</style>\n",
              "<table border=\"1\" class=\"dataframe\">\n",
              "  <thead>\n",
              "    <tr style=\"text-align: right;\">\n",
              "      <th></th>\n",
              "      <th></th>\n",
              "      <th>남자 인구수</th>\n",
              "    </tr>\n",
              "    <tr>\n",
              "      <th>행정구역</th>\n",
              "      <th>조회기준</th>\n",
              "      <th></th>\n",
              "    </tr>\n",
              "  </thead>\n",
              "  <tbody>\n",
              "    <tr>\n",
              "      <th rowspan=\"5\" valign=\"top\">경기도 고양시 덕양구 (4128100000)</th>\n",
              "      <th>2017년01월</th>\n",
              "      <td>221,810</td>\n",
              "    </tr>\n",
              "    <tr>\n",
              "      <th>2017년02월</th>\n",
              "      <td>221,762</td>\n",
              "    </tr>\n",
              "    <tr>\n",
              "      <th>2017년03월</th>\n",
              "      <td>221,643</td>\n",
              "    </tr>\n",
              "    <tr>\n",
              "      <th>2017년04월</th>\n",
              "      <td>221,637</td>\n",
              "    </tr>\n",
              "    <tr>\n",
              "      <th>2017년05월</th>\n",
              "      <td>221,688</td>\n",
              "    </tr>\n",
              "  </tbody>\n",
              "</table>\n",
              "</div>"
            ],
            "text/plain": [
              "                                    남자 인구수\n",
              "행정구역                     조회기준             \n",
              "경기도 고양시 덕양구 (4128100000) 2017년01월  221,810\n",
              "                         2017년02월  221,762\n",
              "                         2017년03월  221,643\n",
              "                         2017년04월  221,637\n",
              "                         2017년05월  221,688"
            ]
          },
          "metadata": {
            "tags": []
          },
          "execution_count": 26
        }
      ]
    },
    {
      "cell_type": "code",
      "metadata": {
        "id": "hITNPlCo0tBw",
        "colab_type": "code",
        "colab": {
          "base_uri": "https://localhost:8080/",
          "height": 233
        },
        "outputId": "a23d53fd-ee9d-4db2-95c4-e8f165c78fb7"
      },
      "source": [
        "dong_total_women_pop = df2.groupby(['행정구역','조회기준']).agg({'여자 인구수':sum})\n",
        "dong_total_women_pop.head()"
      ],
      "execution_count": null,
      "outputs": [
        {
          "output_type": "execute_result",
          "data": {
            "text/html": [
              "<div>\n",
              "<style scoped>\n",
              "    .dataframe tbody tr th:only-of-type {\n",
              "        vertical-align: middle;\n",
              "    }\n",
              "\n",
              "    .dataframe tbody tr th {\n",
              "        vertical-align: top;\n",
              "    }\n",
              "\n",
              "    .dataframe thead th {\n",
              "        text-align: right;\n",
              "    }\n",
              "</style>\n",
              "<table border=\"1\" class=\"dataframe\">\n",
              "  <thead>\n",
              "    <tr style=\"text-align: right;\">\n",
              "      <th></th>\n",
              "      <th></th>\n",
              "      <th>여자 인구수</th>\n",
              "    </tr>\n",
              "    <tr>\n",
              "      <th>행정구역</th>\n",
              "      <th>조회기준</th>\n",
              "      <th></th>\n",
              "    </tr>\n",
              "  </thead>\n",
              "  <tbody>\n",
              "    <tr>\n",
              "      <th rowspan=\"5\" valign=\"top\">경기도 고양시 덕양구 (4128100000)</th>\n",
              "      <th>2017년01월</th>\n",
              "      <td>225,041</td>\n",
              "    </tr>\n",
              "    <tr>\n",
              "      <th>2017년02월</th>\n",
              "      <td>224,928</td>\n",
              "    </tr>\n",
              "    <tr>\n",
              "      <th>2017년03월</th>\n",
              "      <td>224,955</td>\n",
              "    </tr>\n",
              "    <tr>\n",
              "      <th>2017년04월</th>\n",
              "      <td>224,977</td>\n",
              "    </tr>\n",
              "    <tr>\n",
              "      <th>2017년05월</th>\n",
              "      <td>225,099</td>\n",
              "    </tr>\n",
              "  </tbody>\n",
              "</table>\n",
              "</div>"
            ],
            "text/plain": [
              "                                    여자 인구수\n",
              "행정구역                     조회기준             \n",
              "경기도 고양시 덕양구 (4128100000) 2017년01월  225,041\n",
              "                         2017년02월  224,928\n",
              "                         2017년03월  224,955\n",
              "                         2017년04월  224,977\n",
              "                         2017년05월  225,099"
            ]
          },
          "metadata": {
            "tags": []
          },
          "execution_count": 27
        }
      ]
    },
    {
      "cell_type": "markdown",
      "metadata": {
        "id": "sK7zsFlO56g4",
        "colab_type": "text"
      },
      "source": [
        "#구단위 데이터 분류"
      ]
    },
    {
      "cell_type": "code",
      "metadata": {
        "id": "p7vboE9F5TZZ",
        "colab_type": "code",
        "colab": {
          "base_uri": "https://localhost:8080/",
          "height": 447
        },
        "outputId": "e2d40fbc-c6d2-4917-ac6c-e41e8dc254d3"
      },
      "source": [
        "pop_stat['행정구역'].unique()"
      ],
      "execution_count": null,
      "outputs": [
        {
          "output_type": "execute_result",
          "data": {
            "text/plain": [
              "array(['경기도 고양시 (4128000000)', '경기도 고양시 덕양구 (4128100000)',\n",
              "       '경기도 고양시 덕양구 주교동(4128151000)', '경기도 고양시 덕양구 원신동(4128152000)',\n",
              "       '경기도 고양시 덕양구 흥도동(4128153000)', '경기도 고양시 덕양구 성사1동(4128154000)',\n",
              "       '경기도 고양시 덕양구 성사2동(4128155000)', '경기도 고양시 덕양구 효자동(4128156000)',\n",
              "       '경기도 고양시 덕양구 신도동(4128157000)', '경기도 고양시 덕양구 삼송동(4128157500)',\n",
              "       '경기도 고양시 덕양구 창릉동(4128158000)', '경기도 고양시 덕양구 고양동(4128159000)',\n",
              "       '경기도 고양시 덕양구 관산동(4128160000)', '경기도 고양시 덕양구 능곡동(4128161000)',\n",
              "       '경기도 고양시 덕양구 화정1동(4128162100)', '경기도 고양시 덕양구 화정2동(4128162200)',\n",
              "       '경기도 고양시 덕양구 행주동(4128163000)', '경기도 고양시 덕양구 행신1동(4128164000)',\n",
              "       '경기도 고양시 덕양구 행신2동(4128165000)', '경기도 고양시 덕양구 행신3동(4128165500)',\n",
              "       '경기도 고양시 덕양구 화전동(4128166000)', '경기도 고양시 덕양구 대덕동(4128167000)',\n",
              "       '경기도 고양시 일산동구 (4128500000)', '경기도 고양시 일산동구 식사동(4128551000)',\n",
              "       '경기도 고양시 일산동구 중산동(4128552000)', '경기도 고양시 일산동구 정발산동(4128553000)',\n",
              "       '경기도 고양시 일산동구 풍산동(4128554000)', '경기도 고양시 일산동구 백석1동(4128555100)',\n",
              "       '경기도 고양시 일산동구 백석2동(4128555200)', '경기도 고양시 일산동구 마두1동(4128556000)',\n",
              "       '경기도 고양시 일산동구 마두2동(4128557000)', '경기도 고양시 일산동구 장항1동(4128558000)',\n",
              "       '경기도 고양시 일산동구 장항2동(4128559000)', '경기도 고양시 일산동구 고봉동(4128560000)',\n",
              "       '경기도 고양시 일산서구 (4128700000)', '경기도 고양시 일산서구 일산1동(4128751000)',\n",
              "       '경기도 고양시 일산서구 일산2동(4128752000)', '경기도 고양시 일산서구 일산3동(4128753000)',\n",
              "       '경기도 고양시 일산서구 탄현동(4128754000)', '경기도 고양시 일산서구 주엽1동(4128755000)',\n",
              "       '경기도 고양시 일산서구 주엽2동(4128756000)', '경기도 고양시 일산서구 대화동(4128757000)',\n",
              "       '경기도 고양시 일산서구 송포동(4128758000)', '경기도 고양시 일산서구 송산동(4128759000)'],\n",
              "      dtype=object)"
            ]
          },
          "metadata": {
            "tags": []
          },
          "execution_count": 28
        }
      ]
    },
    {
      "cell_type": "code",
      "metadata": {
        "id": "QxM-O7Um6AOi",
        "colab_type": "code",
        "colab": {}
      },
      "source": [
        "deokyang = []\n",
        "for i in range(len(df1)):\n",
        "  if df1['행정구역'][i] == '경기도 고양시 덕양구 (4128100000)':\n",
        "    deokyang.append(i)"
      ],
      "execution_count": null,
      "outputs": []
    },
    {
      "cell_type": "code",
      "metadata": {
        "id": "5j6-_iYY7SVm",
        "colab_type": "code",
        "colab": {}
      },
      "source": [
        "east = []\n",
        "for i in range(len(df1)):\n",
        "  if df1['행정구역'][i] == '경기도 고양시 일산동구 (4128500000)':\n",
        "    east.append(i)"
      ],
      "execution_count": null,
      "outputs": []
    },
    {
      "cell_type": "code",
      "metadata": {
        "id": "SNLWtn067EIS",
        "colab_type": "code",
        "colab": {}
      },
      "source": [
        "west = []\n",
        "for i in range(len(df1)):\n",
        "  if df1['행정구역'][i] == '경기도 고양시 일산서구 (4128700000)':\n",
        "    west.append(i)"
      ],
      "execution_count": null,
      "outputs": []
    },
    {
      "cell_type": "code",
      "metadata": {
        "id": "pqek3bFG7Wee",
        "colab_type": "code",
        "colab": {
          "base_uri": "https://localhost:8080/",
          "height": 306
        },
        "outputId": "5c8d3421-d0f2-4921-829e-a82ce651bb3b"
      },
      "source": [
        "deokyang_gu = df1[36:72]\n",
        "deokyang_gu.head()"
      ],
      "execution_count": null,
      "outputs": [
        {
          "output_type": "execute_result",
          "data": {
            "text/html": [
              "<div>\n",
              "<style scoped>\n",
              "    .dataframe tbody tr th:only-of-type {\n",
              "        vertical-align: middle;\n",
              "    }\n",
              "\n",
              "    .dataframe tbody tr th {\n",
              "        vertical-align: top;\n",
              "    }\n",
              "\n",
              "    .dataframe thead th {\n",
              "        text-align: right;\n",
              "    }\n",
              "</style>\n",
              "<table border=\"1\" class=\"dataframe\">\n",
              "  <thead>\n",
              "    <tr style=\"text-align: right;\">\n",
              "      <th></th>\n",
              "      <th>행정구역</th>\n",
              "      <th>조회기준</th>\n",
              "      <th>총인구수</th>\n",
              "      <th>세대수</th>\n",
              "      <th>세대당 인구</th>\n",
              "      <th>남자 인구수</th>\n",
              "      <th>여자 인구수</th>\n",
              "      <th>남여 비율</th>\n",
              "    </tr>\n",
              "  </thead>\n",
              "  <tbody>\n",
              "    <tr>\n",
              "      <th>36</th>\n",
              "      <td>경기도 고양시 덕양구 (4128100000)</td>\n",
              "      <td>2017년01월</td>\n",
              "      <td>446,851</td>\n",
              "      <td>178,516</td>\n",
              "      <td>2.50</td>\n",
              "      <td>221,810</td>\n",
              "      <td>225,041</td>\n",
              "      <td>0.99</td>\n",
              "    </tr>\n",
              "    <tr>\n",
              "      <th>37</th>\n",
              "      <td>경기도 고양시 덕양구 (4128100000)</td>\n",
              "      <td>2017년02월</td>\n",
              "      <td>446,690</td>\n",
              "      <td>178,853</td>\n",
              "      <td>2.50</td>\n",
              "      <td>221,762</td>\n",
              "      <td>224,928</td>\n",
              "      <td>0.99</td>\n",
              "    </tr>\n",
              "    <tr>\n",
              "      <th>38</th>\n",
              "      <td>경기도 고양시 덕양구 (4128100000)</td>\n",
              "      <td>2017년03월</td>\n",
              "      <td>446,598</td>\n",
              "      <td>178,968</td>\n",
              "      <td>2.50</td>\n",
              "      <td>221,643</td>\n",
              "      <td>224,955</td>\n",
              "      <td>0.99</td>\n",
              "    </tr>\n",
              "    <tr>\n",
              "      <th>39</th>\n",
              "      <td>경기도 고양시 덕양구 (4128100000)</td>\n",
              "      <td>2017년04월</td>\n",
              "      <td>446,614</td>\n",
              "      <td>179,203</td>\n",
              "      <td>2.49</td>\n",
              "      <td>221,637</td>\n",
              "      <td>224,977</td>\n",
              "      <td>0.99</td>\n",
              "    </tr>\n",
              "    <tr>\n",
              "      <th>40</th>\n",
              "      <td>경기도 고양시 덕양구 (4128100000)</td>\n",
              "      <td>2017년05월</td>\n",
              "      <td>446,787</td>\n",
              "      <td>179,527</td>\n",
              "      <td>2.49</td>\n",
              "      <td>221,688</td>\n",
              "      <td>225,099</td>\n",
              "      <td>0.98</td>\n",
              "    </tr>\n",
              "  </tbody>\n",
              "</table>\n",
              "</div>"
            ],
            "text/plain": [
              "                        행정구역      조회기준     총인구수  ...   남자 인구수   여자 인구수 남여 비율\n",
              "36  경기도 고양시 덕양구 (4128100000)  2017년01월  446,851  ...  221,810  225,041  0.99\n",
              "37  경기도 고양시 덕양구 (4128100000)  2017년02월  446,690  ...  221,762  224,928  0.99\n",
              "38  경기도 고양시 덕양구 (4128100000)  2017년03월  446,598  ...  221,643  224,955  0.99\n",
              "39  경기도 고양시 덕양구 (4128100000)  2017년04월  446,614  ...  221,637  224,977  0.99\n",
              "40  경기도 고양시 덕양구 (4128100000)  2017년05월  446,787  ...  221,688  225,099  0.98\n",
              "\n",
              "[5 rows x 8 columns]"
            ]
          },
          "metadata": {
            "tags": []
          },
          "execution_count": 32
        }
      ]
    },
    {
      "cell_type": "code",
      "metadata": {
        "id": "91AO-6dX7ZzU",
        "colab_type": "code",
        "colab": {
          "base_uri": "https://localhost:8080/",
          "height": 306
        },
        "outputId": "47447aa6-22b7-40db-da91-131b73f2d9e4"
      },
      "source": [
        "dong_gu = df1[792:828]\n",
        "dong_gu.head()"
      ],
      "execution_count": null,
      "outputs": [
        {
          "output_type": "execute_result",
          "data": {
            "text/html": [
              "<div>\n",
              "<style scoped>\n",
              "    .dataframe tbody tr th:only-of-type {\n",
              "        vertical-align: middle;\n",
              "    }\n",
              "\n",
              "    .dataframe tbody tr th {\n",
              "        vertical-align: top;\n",
              "    }\n",
              "\n",
              "    .dataframe thead th {\n",
              "        text-align: right;\n",
              "    }\n",
              "</style>\n",
              "<table border=\"1\" class=\"dataframe\">\n",
              "  <thead>\n",
              "    <tr style=\"text-align: right;\">\n",
              "      <th></th>\n",
              "      <th>행정구역</th>\n",
              "      <th>조회기준</th>\n",
              "      <th>총인구수</th>\n",
              "      <th>세대수</th>\n",
              "      <th>세대당 인구</th>\n",
              "      <th>남자 인구수</th>\n",
              "      <th>여자 인구수</th>\n",
              "      <th>남여 비율</th>\n",
              "    </tr>\n",
              "  </thead>\n",
              "  <tbody>\n",
              "    <tr>\n",
              "      <th>792</th>\n",
              "      <td>경기도 고양시 일산동구 (4128500000)</td>\n",
              "      <td>2017년01월</td>\n",
              "      <td>292,813</td>\n",
              "      <td>115,402</td>\n",
              "      <td>2.54</td>\n",
              "      <td>143,013</td>\n",
              "      <td>149,800</td>\n",
              "      <td>0.95</td>\n",
              "    </tr>\n",
              "    <tr>\n",
              "      <th>793</th>\n",
              "      <td>경기도 고양시 일산동구 (4128500000)</td>\n",
              "      <td>2017년02월</td>\n",
              "      <td>292,979</td>\n",
              "      <td>115,584</td>\n",
              "      <td>2.53</td>\n",
              "      <td>143,060</td>\n",
              "      <td>149,919</td>\n",
              "      <td>0.95</td>\n",
              "    </tr>\n",
              "    <tr>\n",
              "      <th>794</th>\n",
              "      <td>경기도 고양시 일산동구 (4128500000)</td>\n",
              "      <td>2017년03월</td>\n",
              "      <td>293,209</td>\n",
              "      <td>115,791</td>\n",
              "      <td>2.53</td>\n",
              "      <td>143,196</td>\n",
              "      <td>150,013</td>\n",
              "      <td>0.95</td>\n",
              "    </tr>\n",
              "    <tr>\n",
              "      <th>795</th>\n",
              "      <td>경기도 고양시 일산동구 (4128500000)</td>\n",
              "      <td>2017년04월</td>\n",
              "      <td>293,290</td>\n",
              "      <td>115,953</td>\n",
              "      <td>2.53</td>\n",
              "      <td>143,220</td>\n",
              "      <td>150,070</td>\n",
              "      <td>0.95</td>\n",
              "    </tr>\n",
              "    <tr>\n",
              "      <th>796</th>\n",
              "      <td>경기도 고양시 일산동구 (4128500000)</td>\n",
              "      <td>2017년05월</td>\n",
              "      <td>293,456</td>\n",
              "      <td>116,196</td>\n",
              "      <td>2.53</td>\n",
              "      <td>143,304</td>\n",
              "      <td>150,152</td>\n",
              "      <td>0.95</td>\n",
              "    </tr>\n",
              "  </tbody>\n",
              "</table>\n",
              "</div>"
            ],
            "text/plain": [
              "                          행정구역      조회기준     총인구수  ...   남자 인구수   여자 인구수 남여 비율\n",
              "792  경기도 고양시 일산동구 (4128500000)  2017년01월  292,813  ...  143,013  149,800  0.95\n",
              "793  경기도 고양시 일산동구 (4128500000)  2017년02월  292,979  ...  143,060  149,919  0.95\n",
              "794  경기도 고양시 일산동구 (4128500000)  2017년03월  293,209  ...  143,196  150,013  0.95\n",
              "795  경기도 고양시 일산동구 (4128500000)  2017년04월  293,290  ...  143,220  150,070  0.95\n",
              "796  경기도 고양시 일산동구 (4128500000)  2017년05월  293,456  ...  143,304  150,152  0.95\n",
              "\n",
              "[5 rows x 8 columns]"
            ]
          },
          "metadata": {
            "tags": []
          },
          "execution_count": 33
        }
      ]
    },
    {
      "cell_type": "code",
      "metadata": {
        "id": "JUv3AdiQ8U9O",
        "colab_type": "code",
        "colab": {
          "base_uri": "https://localhost:8080/",
          "height": 306
        },
        "outputId": "2850db06-33e1-4d30-f778-a8076f5aace9"
      },
      "source": [
        "seo_gu = df1[1224:1260]\n",
        "seo_gu.head()"
      ],
      "execution_count": null,
      "outputs": [
        {
          "output_type": "execute_result",
          "data": {
            "text/html": [
              "<div>\n",
              "<style scoped>\n",
              "    .dataframe tbody tr th:only-of-type {\n",
              "        vertical-align: middle;\n",
              "    }\n",
              "\n",
              "    .dataframe tbody tr th {\n",
              "        vertical-align: top;\n",
              "    }\n",
              "\n",
              "    .dataframe thead th {\n",
              "        text-align: right;\n",
              "    }\n",
              "</style>\n",
              "<table border=\"1\" class=\"dataframe\">\n",
              "  <thead>\n",
              "    <tr style=\"text-align: right;\">\n",
              "      <th></th>\n",
              "      <th>행정구역</th>\n",
              "      <th>조회기준</th>\n",
              "      <th>총인구수</th>\n",
              "      <th>세대수</th>\n",
              "      <th>세대당 인구</th>\n",
              "      <th>남자 인구수</th>\n",
              "      <th>여자 인구수</th>\n",
              "      <th>남여 비율</th>\n",
              "    </tr>\n",
              "  </thead>\n",
              "  <tbody>\n",
              "    <tr>\n",
              "      <th>1224</th>\n",
              "      <td>경기도 고양시 일산서구 (4128700000)</td>\n",
              "      <td>2017년01월</td>\n",
              "      <td>300,984</td>\n",
              "      <td>108,522</td>\n",
              "      <td>2.77</td>\n",
              "      <td>146,530</td>\n",
              "      <td>154,454</td>\n",
              "      <td>0.95</td>\n",
              "    </tr>\n",
              "    <tr>\n",
              "      <th>1225</th>\n",
              "      <td>경기도 고양시 일산서구 (4128700000)</td>\n",
              "      <td>2017년02월</td>\n",
              "      <td>300,814</td>\n",
              "      <td>108,605</td>\n",
              "      <td>2.77</td>\n",
              "      <td>146,444</td>\n",
              "      <td>154,370</td>\n",
              "      <td>0.95</td>\n",
              "    </tr>\n",
              "    <tr>\n",
              "      <th>1226</th>\n",
              "      <td>경기도 고양시 일산서구 (4128700000)</td>\n",
              "      <td>2017년03월</td>\n",
              "      <td>300,675</td>\n",
              "      <td>108,684</td>\n",
              "      <td>2.77</td>\n",
              "      <td>146,343</td>\n",
              "      <td>154,332</td>\n",
              "      <td>0.95</td>\n",
              "    </tr>\n",
              "    <tr>\n",
              "      <th>1227</th>\n",
              "      <td>경기도 고양시 일산서구 (4128700000)</td>\n",
              "      <td>2017년04월</td>\n",
              "      <td>300,704</td>\n",
              "      <td>108,777</td>\n",
              "      <td>2.76</td>\n",
              "      <td>146,368</td>\n",
              "      <td>154,336</td>\n",
              "      <td>0.95</td>\n",
              "    </tr>\n",
              "    <tr>\n",
              "      <th>1228</th>\n",
              "      <td>경기도 고양시 일산서구 (4128700000)</td>\n",
              "      <td>2017년05월</td>\n",
              "      <td>300,649</td>\n",
              "      <td>108,880</td>\n",
              "      <td>2.76</td>\n",
              "      <td>146,355</td>\n",
              "      <td>154,294</td>\n",
              "      <td>0.95</td>\n",
              "    </tr>\n",
              "  </tbody>\n",
              "</table>\n",
              "</div>"
            ],
            "text/plain": [
              "                           행정구역      조회기준     총인구수  ...   남자 인구수   여자 인구수 남여 비율\n",
              "1224  경기도 고양시 일산서구 (4128700000)  2017년01월  300,984  ...  146,530  154,454  0.95\n",
              "1225  경기도 고양시 일산서구 (4128700000)  2017년02월  300,814  ...  146,444  154,370  0.95\n",
              "1226  경기도 고양시 일산서구 (4128700000)  2017년03월  300,675  ...  146,343  154,332  0.95\n",
              "1227  경기도 고양시 일산서구 (4128700000)  2017년04월  300,704  ...  146,368  154,336  0.95\n",
              "1228  경기도 고양시 일산서구 (4128700000)  2017년05월  300,649  ...  146,355  154,294  0.95\n",
              "\n",
              "[5 rows x 8 columns]"
            ]
          },
          "metadata": {
            "tags": []
          },
          "execution_count": 34
        }
      ]
    },
    {
      "cell_type": "code",
      "metadata": {
        "id": "NNro8yKG_8hp",
        "colab_type": "code",
        "colab": {}
      },
      "source": [
        ""
      ],
      "execution_count": null,
      "outputs": []
    },
    {
      "cell_type": "markdown",
      "metadata": {
        "id": "CIiu4yZz_8eK",
        "colab_type": "text"
      },
      "source": [
        "# 인구 통계와 행정 경계 합쳐주기"
      ]
    },
    {
      "cell_type": "code",
      "metadata": {
        "id": "bE2y6Xjv_8ZF",
        "colab_type": "code",
        "colab": {
          "base_uri": "https://localhost:8080/",
          "height": 299
        },
        "outputId": "a726bf9a-ab8f-487d-8559-5cd04a9de476"
      },
      "source": [
        "!pip install geopandas\n",
        "import geopandas as gpd\n",
        "goyang_si_line = gpd.read_file('/content/drive/My Drive/프로젝트/compas/SBJ_2007_001/08.행정경계(시군구).geojson')"
      ],
      "execution_count": null,
      "outputs": [
        {
          "output_type": "stream",
          "text": [
            "Requirement already satisfied: geopandas in /usr/local/lib/python3.6/dist-packages (0.8.1)\n",
            "Requirement already satisfied: pandas>=0.23.0 in /usr/local/lib/python3.6/dist-packages (from geopandas) (1.0.5)\n",
            "Requirement already satisfied: shapely in /usr/local/lib/python3.6/dist-packages (from geopandas) (1.7.0)\n",
            "Requirement already satisfied: fiona in /usr/local/lib/python3.6/dist-packages (from geopandas) (1.8.13.post1)\n",
            "Requirement already satisfied: pyproj>=2.2.0 in /usr/local/lib/python3.6/dist-packages (from geopandas) (2.6.1.post1)\n",
            "Requirement already satisfied: python-dateutil>=2.6.1 in /usr/local/lib/python3.6/dist-packages (from pandas>=0.23.0->geopandas) (2.8.1)\n",
            "Requirement already satisfied: numpy>=1.13.3 in /usr/local/lib/python3.6/dist-packages (from pandas>=0.23.0->geopandas) (1.18.5)\n",
            "Requirement already satisfied: pytz>=2017.2 in /usr/local/lib/python3.6/dist-packages (from pandas>=0.23.0->geopandas) (2018.9)\n",
            "Requirement already satisfied: attrs>=17 in /usr/local/lib/python3.6/dist-packages (from fiona->geopandas) (19.3.0)\n",
            "Requirement already satisfied: click<8,>=4.0 in /usr/local/lib/python3.6/dist-packages (from fiona->geopandas) (7.1.2)\n",
            "Requirement already satisfied: click-plugins>=1.0 in /usr/local/lib/python3.6/dist-packages (from fiona->geopandas) (1.1.1)\n",
            "Requirement already satisfied: munch in /usr/local/lib/python3.6/dist-packages (from fiona->geopandas) (2.5.0)\n",
            "Requirement already satisfied: cligj>=0.5 in /usr/local/lib/python3.6/dist-packages (from fiona->geopandas) (0.5.0)\n",
            "Requirement already satisfied: six>=1.7 in /usr/local/lib/python3.6/dist-packages (from fiona->geopandas) (1.15.0)\n"
          ],
          "name": "stdout"
        }
      ]
    },
    {
      "cell_type": "code",
      "metadata": {
        "id": "RXpw5jJaACbv",
        "colab_type": "code",
        "colab": {
          "base_uri": "https://localhost:8080/",
          "height": 141
        },
        "outputId": "3783e05e-50bc-4962-808c-052fbf16b46a"
      },
      "source": [
        "goyang_si_line.head()"
      ],
      "execution_count": null,
      "outputs": [
        {
          "output_type": "execute_result",
          "data": {
            "text/html": [
              "<div>\n",
              "<style scoped>\n",
              "    .dataframe tbody tr th:only-of-type {\n",
              "        vertical-align: middle;\n",
              "    }\n",
              "\n",
              "    .dataframe tbody tr th {\n",
              "        vertical-align: top;\n",
              "    }\n",
              "\n",
              "    .dataframe thead th {\n",
              "        text-align: right;\n",
              "    }\n",
              "</style>\n",
              "<table border=\"1\" class=\"dataframe\">\n",
              "  <thead>\n",
              "    <tr style=\"text-align: right;\">\n",
              "      <th></th>\n",
              "      <th>SIG_CD</th>\n",
              "      <th>SIG_KOR_NM</th>\n",
              "      <th>geometry</th>\n",
              "    </tr>\n",
              "  </thead>\n",
              "  <tbody>\n",
              "    <tr>\n",
              "      <th>0</th>\n",
              "      <td>41281</td>\n",
              "      <td>고양시덕양구</td>\n",
              "      <td>MULTIPOLYGON (((126.92910 37.74849, 126.92964 ...</td>\n",
              "    </tr>\n",
              "    <tr>\n",
              "      <th>1</th>\n",
              "      <td>41285</td>\n",
              "      <td>고양시일산동구</td>\n",
              "      <td>MULTIPOLYGON (((126.77762 37.67899, 126.77825 ...</td>\n",
              "    </tr>\n",
              "    <tr>\n",
              "      <th>2</th>\n",
              "      <td>41287</td>\n",
              "      <td>고양시일산서구</td>\n",
              "      <td>MULTIPOLYGON (((126.76703 37.70717, 126.76719 ...</td>\n",
              "    </tr>\n",
              "  </tbody>\n",
              "</table>\n",
              "</div>"
            ],
            "text/plain": [
              "  SIG_CD SIG_KOR_NM                                           geometry\n",
              "0  41281     고양시덕양구  MULTIPOLYGON (((126.92910 37.74849, 126.92964 ...\n",
              "1  41285    고양시일산동구  MULTIPOLYGON (((126.77762 37.67899, 126.77825 ...\n",
              "2  41287    고양시일산서구  MULTIPOLYGON (((126.76703 37.70717, 126.76719 ..."
            ]
          },
          "metadata": {
            "tags": []
          },
          "execution_count": 36
        }
      ]
    },
    {
      "cell_type": "code",
      "metadata": {
        "id": "En49PzFGACjy",
        "colab_type": "code",
        "colab": {
          "base_uri": "https://localhost:8080/",
          "height": 317
        },
        "outputId": "d65e8f77-a255-4519-a278-404dc1250864"
      },
      "source": [
        "import re\n",
        "pop_stat['구 geometry'] = ''\n",
        "for i in range(len(pop_stat)):\n",
        "  if int(re.findall('\\((.+?)\\)', pop_stat['행정구역'][i])[0][0:5]) == 41281:\n",
        "    pop_stat['구 geometry'][i] = goyang_si_line['geometry'][0]\n",
        "  elif int(re.findall('\\((.+?)\\)', pop_stat['행정구역'][i])[0][0:5]) == 41285:\n",
        "    pop_stat['구 geometry'][i] = goyang_si_line['geometry'][1]\n",
        "  elif int(re.findall('\\((.+?)\\)', pop_stat['행정구역'][i])[0][0:5]) == 41287:\n",
        "    pop_stat['구 geometry'][i] = goyang_si_line['geometry'][2]"
      ],
      "execution_count": null,
      "outputs": [
        {
          "output_type": "stream",
          "text": [
            "/usr/local/lib/python3.6/dist-packages/ipykernel_launcher.py:5: SettingWithCopyWarning: \n",
            "A value is trying to be set on a copy of a slice from a DataFrame\n",
            "\n",
            "See the caveats in the documentation: https://pandas.pydata.org/pandas-docs/stable/user_guide/indexing.html#returning-a-view-versus-a-copy\n",
            "  \"\"\"\n",
            "/usr/local/lib/python3.6/dist-packages/ipykernel_launcher.py:7: SettingWithCopyWarning: \n",
            "A value is trying to be set on a copy of a slice from a DataFrame\n",
            "\n",
            "See the caveats in the documentation: https://pandas.pydata.org/pandas-docs/stable/user_guide/indexing.html#returning-a-view-versus-a-copy\n",
            "  import sys\n",
            "/usr/local/lib/python3.6/dist-packages/ipykernel_launcher.py:9: SettingWithCopyWarning: \n",
            "A value is trying to be set on a copy of a slice from a DataFrame\n",
            "\n",
            "See the caveats in the documentation: https://pandas.pydata.org/pandas-docs/stable/user_guide/indexing.html#returning-a-view-versus-a-copy\n",
            "  if __name__ == '__main__':\n"
          ],
          "name": "stderr"
        }
      ]
    },
    {
      "cell_type": "code",
      "metadata": {
        "id": "uXam-LEgruUY",
        "colab_type": "code",
        "colab": {
          "base_uri": "https://localhost:8080/",
          "height": 410
        },
        "outputId": "c629f68c-7bba-49db-8e50-1f9b2bfad670"
      },
      "source": [
        "pop_stat.tail()"
      ],
      "execution_count": null,
      "outputs": [
        {
          "output_type": "execute_result",
          "data": {
            "text/html": [
              "<div>\n",
              "<style scoped>\n",
              "    .dataframe tbody tr th:only-of-type {\n",
              "        vertical-align: middle;\n",
              "    }\n",
              "\n",
              "    .dataframe tbody tr th {\n",
              "        vertical-align: top;\n",
              "    }\n",
              "\n",
              "    .dataframe thead th {\n",
              "        text-align: right;\n",
              "    }\n",
              "</style>\n",
              "<table border=\"1\" class=\"dataframe\">\n",
              "  <thead>\n",
              "    <tr style=\"text-align: right;\">\n",
              "      <th></th>\n",
              "      <th>행정구역</th>\n",
              "      <th>조회기준</th>\n",
              "      <th>총인구수</th>\n",
              "      <th>세대수</th>\n",
              "      <th>세대당 인구</th>\n",
              "      <th>남자 인구수</th>\n",
              "      <th>여자 인구수</th>\n",
              "      <th>남여 비율</th>\n",
              "      <th>구 geometry</th>\n",
              "      <th>동 geometry</th>\n",
              "    </tr>\n",
              "  </thead>\n",
              "  <tbody>\n",
              "    <tr>\n",
              "      <th>1579</th>\n",
              "      <td>경기도 고양시 일산서구 송산동(4128759000)</td>\n",
              "      <td>2019년08월</td>\n",
              "      <td>50,610</td>\n",
              "      <td>18,390</td>\n",
              "      <td>2.75</td>\n",
              "      <td>24,983</td>\n",
              "      <td>25,627</td>\n",
              "      <td>0.97</td>\n",
              "      <td>(POLYGON ((126.7670325668513 37.70716707003747...</td>\n",
              "      <td></td>\n",
              "    </tr>\n",
              "    <tr>\n",
              "      <th>1580</th>\n",
              "      <td>경기도 고양시 일산서구 송산동(4128759000)</td>\n",
              "      <td>2019년09월</td>\n",
              "      <td>50,694</td>\n",
              "      <td>18,404</td>\n",
              "      <td>2.75</td>\n",
              "      <td>25,025</td>\n",
              "      <td>25,669</td>\n",
              "      <td>0.97</td>\n",
              "      <td>(POLYGON ((126.7670325668513 37.70716707003747...</td>\n",
              "      <td></td>\n",
              "    </tr>\n",
              "    <tr>\n",
              "      <th>1581</th>\n",
              "      <td>경기도 고양시 일산서구 송산동(4128759000)</td>\n",
              "      <td>2019년10월</td>\n",
              "      <td>50,660</td>\n",
              "      <td>18,398</td>\n",
              "      <td>2.75</td>\n",
              "      <td>25,020</td>\n",
              "      <td>25,640</td>\n",
              "      <td>0.98</td>\n",
              "      <td>(POLYGON ((126.7670325668513 37.70716707003747...</td>\n",
              "      <td></td>\n",
              "    </tr>\n",
              "    <tr>\n",
              "      <th>1582</th>\n",
              "      <td>경기도 고양시 일산서구 송산동(4128759000)</td>\n",
              "      <td>2019년11월</td>\n",
              "      <td>50,865</td>\n",
              "      <td>18,480</td>\n",
              "      <td>2.75</td>\n",
              "      <td>25,112</td>\n",
              "      <td>25,753</td>\n",
              "      <td>0.98</td>\n",
              "      <td>(POLYGON ((126.7670325668513 37.70716707003747...</td>\n",
              "      <td></td>\n",
              "    </tr>\n",
              "    <tr>\n",
              "      <th>1583</th>\n",
              "      <td>경기도 고양시 일산서구 송산동(4128759000)</td>\n",
              "      <td>2019년12월</td>\n",
              "      <td>51,060</td>\n",
              "      <td>18,555</td>\n",
              "      <td>2.75</td>\n",
              "      <td>25,195</td>\n",
              "      <td>25,865</td>\n",
              "      <td>0.97</td>\n",
              "      <td>(POLYGON ((126.7670325668513 37.70716707003747...</td>\n",
              "      <td></td>\n",
              "    </tr>\n",
              "  </tbody>\n",
              "</table>\n",
              "</div>"
            ],
            "text/plain": [
              "                              행정구역  ... 동 geometry\n",
              "1579  경기도 고양시 일산서구 송산동(4128759000)  ...           \n",
              "1580  경기도 고양시 일산서구 송산동(4128759000)  ...           \n",
              "1581  경기도 고양시 일산서구 송산동(4128759000)  ...           \n",
              "1582  경기도 고양시 일산서구 송산동(4128759000)  ...           \n",
              "1583  경기도 고양시 일산서구 송산동(4128759000)  ...           \n",
              "\n",
              "[5 rows x 10 columns]"
            ]
          },
          "metadata": {
            "tags": []
          },
          "execution_count": 73
        }
      ]
    },
    {
      "cell_type": "code",
      "metadata": {
        "id": "DdgX23VH1bzw",
        "colab_type": "code",
        "colab": {}
      },
      "source": [
        "goyang_up_line = gpd.read_file('/content/drive/My Drive/프로젝트/compas/SBJ_2007_001/09.행정경계(읍면동).geojson')"
      ],
      "execution_count": null,
      "outputs": []
    },
    {
      "cell_type": "code",
      "metadata": {
        "id": "y5bKDIM31lXk",
        "colab_type": "code",
        "colab": {
          "base_uri": "https://localhost:8080/",
          "height": 1000
        },
        "outputId": "0e4f013e-ded3-44d7-dd95-57b3eb3afb66"
      },
      "source": [
        "goyang_up_line"
      ],
      "execution_count": null,
      "outputs": [
        {
          "output_type": "execute_result",
          "data": {
            "text/html": [
              "<div>\n",
              "<style scoped>\n",
              "    .dataframe tbody tr th:only-of-type {\n",
              "        vertical-align: middle;\n",
              "    }\n",
              "\n",
              "    .dataframe tbody tr th {\n",
              "        vertical-align: top;\n",
              "    }\n",
              "\n",
              "    .dataframe thead th {\n",
              "        text-align: right;\n",
              "    }\n",
              "</style>\n",
              "<table border=\"1\" class=\"dataframe\">\n",
              "  <thead>\n",
              "    <tr style=\"text-align: right;\">\n",
              "      <th></th>\n",
              "      <th>EMD_CD</th>\n",
              "      <th>EMD_KOR_NM</th>\n",
              "      <th>geometry</th>\n",
              "    </tr>\n",
              "  </thead>\n",
              "  <tbody>\n",
              "    <tr>\n",
              "      <th>0</th>\n",
              "      <td>41281101</td>\n",
              "      <td>주교동</td>\n",
              "      <td>MULTIPOLYGON (((126.81068 37.65820, 126.81069 ...</td>\n",
              "    </tr>\n",
              "    <tr>\n",
              "      <th>1</th>\n",
              "      <td>41281102</td>\n",
              "      <td>원당동</td>\n",
              "      <td>MULTIPOLYGON (((126.83321 37.68013, 126.83340 ...</td>\n",
              "    </tr>\n",
              "    <tr>\n",
              "      <th>2</th>\n",
              "      <td>41281103</td>\n",
              "      <td>신원동</td>\n",
              "      <td>MULTIPOLYGON (((126.86362 37.67729, 126.86364 ...</td>\n",
              "    </tr>\n",
              "    <tr>\n",
              "      <th>3</th>\n",
              "      <td>41281104</td>\n",
              "      <td>원흥동</td>\n",
              "      <td>MULTIPOLYGON (((126.85975 37.65081, 126.85990 ...</td>\n",
              "    </tr>\n",
              "    <tr>\n",
              "      <th>4</th>\n",
              "      <td>41281105</td>\n",
              "      <td>도내동</td>\n",
              "      <td>MULTIPOLYGON (((126.84806 37.62348, 126.84835 ...</td>\n",
              "    </tr>\n",
              "    <tr>\n",
              "      <th>5</th>\n",
              "      <td>41281106</td>\n",
              "      <td>성사동</td>\n",
              "      <td>MULTIPOLYGON (((126.83047 37.64860, 126.83053 ...</td>\n",
              "    </tr>\n",
              "    <tr>\n",
              "      <th>6</th>\n",
              "      <td>41281107</td>\n",
              "      <td>북한동</td>\n",
              "      <td>MULTIPOLYGON (((126.95320 37.65582, 126.95334 ...</td>\n",
              "    </tr>\n",
              "    <tr>\n",
              "      <th>7</th>\n",
              "      <td>41281108</td>\n",
              "      <td>효자동</td>\n",
              "      <td>MULTIPOLYGON (((126.94756 37.65922, 126.94777 ...</td>\n",
              "    </tr>\n",
              "    <tr>\n",
              "      <th>8</th>\n",
              "      <td>41281109</td>\n",
              "      <td>지축동</td>\n",
              "      <td>MULTIPOLYGON (((126.89619 37.65389, 126.89627 ...</td>\n",
              "    </tr>\n",
              "    <tr>\n",
              "      <th>9</th>\n",
              "      <td>41281110</td>\n",
              "      <td>오금동</td>\n",
              "      <td>MULTIPOLYGON (((126.89197 37.67066, 126.89222 ...</td>\n",
              "    </tr>\n",
              "    <tr>\n",
              "      <th>10</th>\n",
              "      <td>41281111</td>\n",
              "      <td>삼송동</td>\n",
              "      <td>MULTIPOLYGON (((126.87369 37.64345, 126.87385 ...</td>\n",
              "    </tr>\n",
              "    <tr>\n",
              "      <th>11</th>\n",
              "      <td>41281112</td>\n",
              "      <td>동산동</td>\n",
              "      <td>MULTIPOLYGON (((126.88013 37.64166, 126.88019 ...</td>\n",
              "    </tr>\n",
              "    <tr>\n",
              "      <th>12</th>\n",
              "      <td>41281113</td>\n",
              "      <td>용두동</td>\n",
              "      <td>MULTIPOLYGON (((126.86983 37.61649, 126.86992 ...</td>\n",
              "    </tr>\n",
              "    <tr>\n",
              "      <th>13</th>\n",
              "      <td>41281114</td>\n",
              "      <td>벽제동</td>\n",
              "      <td>MULTIPOLYGON (((126.90411 37.71436, 126.90366 ...</td>\n",
              "    </tr>\n",
              "    <tr>\n",
              "      <th>14</th>\n",
              "      <td>41281115</td>\n",
              "      <td>선유동</td>\n",
              "      <td>MULTIPOLYGON (((126.89811 37.67207, 126.89802 ...</td>\n",
              "    </tr>\n",
              "    <tr>\n",
              "      <th>15</th>\n",
              "      <td>41281116</td>\n",
              "      <td>고양동</td>\n",
              "      <td>MULTIPOLYGON (((126.90413 37.71739, 126.90404 ...</td>\n",
              "    </tr>\n",
              "    <tr>\n",
              "      <th>16</th>\n",
              "      <td>41281117</td>\n",
              "      <td>대자동</td>\n",
              "      <td>MULTIPOLYGON (((126.87763 37.72619, 126.87883 ...</td>\n",
              "    </tr>\n",
              "    <tr>\n",
              "      <th>17</th>\n",
              "      <td>41281118</td>\n",
              "      <td>관산동</td>\n",
              "      <td>MULTIPOLYGON (((126.84599 37.70739, 126.84637 ...</td>\n",
              "    </tr>\n",
              "    <tr>\n",
              "      <th>18</th>\n",
              "      <td>41281119</td>\n",
              "      <td>내유동</td>\n",
              "      <td>MULTIPOLYGON (((126.83675 37.72746, 126.83677 ...</td>\n",
              "    </tr>\n",
              "    <tr>\n",
              "      <th>19</th>\n",
              "      <td>41281120</td>\n",
              "      <td>토당동</td>\n",
              "      <td>MULTIPOLYGON (((126.79093 37.62561, 126.79109 ...</td>\n",
              "    </tr>\n",
              "    <tr>\n",
              "      <th>20</th>\n",
              "      <td>41281121</td>\n",
              "      <td>내곡동</td>\n",
              "      <td>MULTIPOLYGON (((126.79367 37.63285, 126.79392 ...</td>\n",
              "    </tr>\n",
              "    <tr>\n",
              "      <th>21</th>\n",
              "      <td>41281122</td>\n",
              "      <td>대장동</td>\n",
              "      <td>MULTIPOLYGON (((126.79727 37.63049, 126.79736 ...</td>\n",
              "    </tr>\n",
              "    <tr>\n",
              "      <th>22</th>\n",
              "      <td>41281123</td>\n",
              "      <td>화정동</td>\n",
              "      <td>MULTIPOLYGON (((126.82220 37.63610, 126.82254 ...</td>\n",
              "    </tr>\n",
              "    <tr>\n",
              "      <th>23</th>\n",
              "      <td>41281124</td>\n",
              "      <td>강매동</td>\n",
              "      <td>MULTIPOLYGON (((126.82940 37.61114, 126.82975 ...</td>\n",
              "    </tr>\n",
              "    <tr>\n",
              "      <th>24</th>\n",
              "      <td>41281125</td>\n",
              "      <td>행주내동</td>\n",
              "      <td>MULTIPOLYGON (((126.81684 37.61229, 126.81697 ...</td>\n",
              "    </tr>\n",
              "    <tr>\n",
              "      <th>25</th>\n",
              "      <td>41281126</td>\n",
              "      <td>행주외동</td>\n",
              "      <td>MULTIPOLYGON (((126.80193 37.61350, 126.80229 ...</td>\n",
              "    </tr>\n",
              "    <tr>\n",
              "      <th>26</th>\n",
              "      <td>41281127</td>\n",
              "      <td>신평동</td>\n",
              "      <td>MULTIPOLYGON (((126.75952 37.62969, 126.75993 ...</td>\n",
              "    </tr>\n",
              "    <tr>\n",
              "      <th>27</th>\n",
              "      <td>41281128</td>\n",
              "      <td>행신동</td>\n",
              "      <td>MULTIPOLYGON (((126.82496 37.61589, 126.82515 ...</td>\n",
              "    </tr>\n",
              "    <tr>\n",
              "      <th>28</th>\n",
              "      <td>41281129</td>\n",
              "      <td>화전동</td>\n",
              "      <td>MULTIPOLYGON (((126.85172 37.60358, 126.85184 ...</td>\n",
              "    </tr>\n",
              "    <tr>\n",
              "      <th>29</th>\n",
              "      <td>41281130</td>\n",
              "      <td>현천동</td>\n",
              "      <td>MULTIPOLYGON (((126.82254 37.59083, 126.82315 ...</td>\n",
              "    </tr>\n",
              "    <tr>\n",
              "      <th>30</th>\n",
              "      <td>41281131</td>\n",
              "      <td>덕은동</td>\n",
              "      <td>MULTIPOLYGON (((126.84407 37.57829, 126.84478 ...</td>\n",
              "    </tr>\n",
              "    <tr>\n",
              "      <th>31</th>\n",
              "      <td>41281132</td>\n",
              "      <td>향동동</td>\n",
              "      <td>MULTIPOLYGON (((126.88357 37.60308, 126.88365 ...</td>\n",
              "    </tr>\n",
              "    <tr>\n",
              "      <th>32</th>\n",
              "      <td>41285101</td>\n",
              "      <td>식사동</td>\n",
              "      <td>MULTIPOLYGON (((126.79827 37.67622, 126.79835 ...</td>\n",
              "    </tr>\n",
              "    <tr>\n",
              "      <th>33</th>\n",
              "      <td>41285102</td>\n",
              "      <td>중산동</td>\n",
              "      <td>MULTIPOLYGON (((126.77762 37.67899, 126.77825 ...</td>\n",
              "    </tr>\n",
              "    <tr>\n",
              "      <th>34</th>\n",
              "      <td>41285103</td>\n",
              "      <td>정발산동</td>\n",
              "      <td>MULTIPOLYGON (((126.78680 37.67111, 126.78696 ...</td>\n",
              "    </tr>\n",
              "    <tr>\n",
              "      <th>35</th>\n",
              "      <td>41285104</td>\n",
              "      <td>장항동</td>\n",
              "      <td>MULTIPOLYGON (((126.76723 37.66610, 126.76765 ...</td>\n",
              "    </tr>\n",
              "    <tr>\n",
              "      <th>36</th>\n",
              "      <td>41285105</td>\n",
              "      <td>마두동</td>\n",
              "      <td>MULTIPOLYGON (((126.77099 37.66260, 126.77116 ...</td>\n",
              "    </tr>\n",
              "    <tr>\n",
              "      <th>37</th>\n",
              "      <td>41285106</td>\n",
              "      <td>백석동</td>\n",
              "      <td>MULTIPOLYGON (((126.77629 37.64432, 126.77676 ...</td>\n",
              "    </tr>\n",
              "    <tr>\n",
              "      <th>38</th>\n",
              "      <td>41285107</td>\n",
              "      <td>풍동</td>\n",
              "      <td>MULTIPOLYGON (((126.78553 37.67311, 126.78581 ...</td>\n",
              "    </tr>\n",
              "    <tr>\n",
              "      <th>39</th>\n",
              "      <td>41285108</td>\n",
              "      <td>산황동</td>\n",
              "      <td>MULTIPOLYGON (((126.79703 37.65409, 126.79707 ...</td>\n",
              "    </tr>\n",
              "    <tr>\n",
              "      <th>40</th>\n",
              "      <td>41285109</td>\n",
              "      <td>사리현동</td>\n",
              "      <td>MULTIPOLYGON (((126.82983 37.69241, 126.82993 ...</td>\n",
              "    </tr>\n",
              "    <tr>\n",
              "      <th>41</th>\n",
              "      <td>41285110</td>\n",
              "      <td>지영동</td>\n",
              "      <td>MULTIPOLYGON (((126.81864 37.71493, 126.81874 ...</td>\n",
              "    </tr>\n",
              "    <tr>\n",
              "      <th>42</th>\n",
              "      <td>41285111</td>\n",
              "      <td>설문동</td>\n",
              "      <td>MULTIPOLYGON (((126.78525 37.72076, 126.78529 ...</td>\n",
              "    </tr>\n",
              "    <tr>\n",
              "      <th>43</th>\n",
              "      <td>41285112</td>\n",
              "      <td>문봉동</td>\n",
              "      <td>MULTIPOLYGON (((126.81055 37.70765, 126.81060 ...</td>\n",
              "    </tr>\n",
              "    <tr>\n",
              "      <th>44</th>\n",
              "      <td>41285113</td>\n",
              "      <td>성석동</td>\n",
              "      <td>MULTIPOLYGON (((126.77342 37.70387, 126.77381 ...</td>\n",
              "    </tr>\n",
              "    <tr>\n",
              "      <th>45</th>\n",
              "      <td>41287101</td>\n",
              "      <td>일산동</td>\n",
              "      <td>MULTIPOLYGON (((126.78122 37.69926, 126.78138 ...</td>\n",
              "    </tr>\n",
              "    <tr>\n",
              "      <th>46</th>\n",
              "      <td>41287102</td>\n",
              "      <td>주엽동</td>\n",
              "      <td>MULTIPOLYGON (((126.75091 37.66903, 126.75110 ...</td>\n",
              "    </tr>\n",
              "    <tr>\n",
              "      <th>47</th>\n",
              "      <td>41287103</td>\n",
              "      <td>탄현동</td>\n",
              "      <td>MULTIPOLYGON (((126.77503 37.69206, 126.77456 ...</td>\n",
              "    </tr>\n",
              "    <tr>\n",
              "      <th>48</th>\n",
              "      <td>41287104</td>\n",
              "      <td>대화동</td>\n",
              "      <td>MULTIPOLYGON (((126.71776 37.67312, 126.71788 ...</td>\n",
              "    </tr>\n",
              "    <tr>\n",
              "      <th>49</th>\n",
              "      <td>41287105</td>\n",
              "      <td>덕이동</td>\n",
              "      <td>MULTIPOLYGON (((126.72781 37.69208, 126.72783 ...</td>\n",
              "    </tr>\n",
              "    <tr>\n",
              "      <th>50</th>\n",
              "      <td>41287106</td>\n",
              "      <td>가좌동</td>\n",
              "      <td>MULTIPOLYGON (((126.70841 37.68111, 126.70842 ...</td>\n",
              "    </tr>\n",
              "    <tr>\n",
              "      <th>51</th>\n",
              "      <td>41287107</td>\n",
              "      <td>구산동</td>\n",
              "      <td>MULTIPOLYGON (((126.67036 37.68512, 126.67149 ...</td>\n",
              "    </tr>\n",
              "    <tr>\n",
              "      <th>52</th>\n",
              "      <td>41287108</td>\n",
              "      <td>법곳동</td>\n",
              "      <td>MULTIPOLYGON (((126.69201 37.66411, 126.69277 ...</td>\n",
              "    </tr>\n",
              "  </tbody>\n",
              "</table>\n",
              "</div>"
            ],
            "text/plain": [
              "      EMD_CD EMD_KOR_NM                                           geometry\n",
              "0   41281101        주교동  MULTIPOLYGON (((126.81068 37.65820, 126.81069 ...\n",
              "1   41281102        원당동  MULTIPOLYGON (((126.83321 37.68013, 126.83340 ...\n",
              "2   41281103        신원동  MULTIPOLYGON (((126.86362 37.67729, 126.86364 ...\n",
              "3   41281104        원흥동  MULTIPOLYGON (((126.85975 37.65081, 126.85990 ...\n",
              "4   41281105        도내동  MULTIPOLYGON (((126.84806 37.62348, 126.84835 ...\n",
              "5   41281106        성사동  MULTIPOLYGON (((126.83047 37.64860, 126.83053 ...\n",
              "6   41281107        북한동  MULTIPOLYGON (((126.95320 37.65582, 126.95334 ...\n",
              "7   41281108        효자동  MULTIPOLYGON (((126.94756 37.65922, 126.94777 ...\n",
              "8   41281109        지축동  MULTIPOLYGON (((126.89619 37.65389, 126.89627 ...\n",
              "9   41281110        오금동  MULTIPOLYGON (((126.89197 37.67066, 126.89222 ...\n",
              "10  41281111        삼송동  MULTIPOLYGON (((126.87369 37.64345, 126.87385 ...\n",
              "11  41281112        동산동  MULTIPOLYGON (((126.88013 37.64166, 126.88019 ...\n",
              "12  41281113        용두동  MULTIPOLYGON (((126.86983 37.61649, 126.86992 ...\n",
              "13  41281114        벽제동  MULTIPOLYGON (((126.90411 37.71436, 126.90366 ...\n",
              "14  41281115        선유동  MULTIPOLYGON (((126.89811 37.67207, 126.89802 ...\n",
              "15  41281116        고양동  MULTIPOLYGON (((126.90413 37.71739, 126.90404 ...\n",
              "16  41281117        대자동  MULTIPOLYGON (((126.87763 37.72619, 126.87883 ...\n",
              "17  41281118        관산동  MULTIPOLYGON (((126.84599 37.70739, 126.84637 ...\n",
              "18  41281119        내유동  MULTIPOLYGON (((126.83675 37.72746, 126.83677 ...\n",
              "19  41281120        토당동  MULTIPOLYGON (((126.79093 37.62561, 126.79109 ...\n",
              "20  41281121        내곡동  MULTIPOLYGON (((126.79367 37.63285, 126.79392 ...\n",
              "21  41281122        대장동  MULTIPOLYGON (((126.79727 37.63049, 126.79736 ...\n",
              "22  41281123        화정동  MULTIPOLYGON (((126.82220 37.63610, 126.82254 ...\n",
              "23  41281124        강매동  MULTIPOLYGON (((126.82940 37.61114, 126.82975 ...\n",
              "24  41281125       행주내동  MULTIPOLYGON (((126.81684 37.61229, 126.81697 ...\n",
              "25  41281126       행주외동  MULTIPOLYGON (((126.80193 37.61350, 126.80229 ...\n",
              "26  41281127        신평동  MULTIPOLYGON (((126.75952 37.62969, 126.75993 ...\n",
              "27  41281128        행신동  MULTIPOLYGON (((126.82496 37.61589, 126.82515 ...\n",
              "28  41281129        화전동  MULTIPOLYGON (((126.85172 37.60358, 126.85184 ...\n",
              "29  41281130        현천동  MULTIPOLYGON (((126.82254 37.59083, 126.82315 ...\n",
              "30  41281131        덕은동  MULTIPOLYGON (((126.84407 37.57829, 126.84478 ...\n",
              "31  41281132        향동동  MULTIPOLYGON (((126.88357 37.60308, 126.88365 ...\n",
              "32  41285101        식사동  MULTIPOLYGON (((126.79827 37.67622, 126.79835 ...\n",
              "33  41285102        중산동  MULTIPOLYGON (((126.77762 37.67899, 126.77825 ...\n",
              "34  41285103       정발산동  MULTIPOLYGON (((126.78680 37.67111, 126.78696 ...\n",
              "35  41285104        장항동  MULTIPOLYGON (((126.76723 37.66610, 126.76765 ...\n",
              "36  41285105        마두동  MULTIPOLYGON (((126.77099 37.66260, 126.77116 ...\n",
              "37  41285106        백석동  MULTIPOLYGON (((126.77629 37.64432, 126.77676 ...\n",
              "38  41285107         풍동  MULTIPOLYGON (((126.78553 37.67311, 126.78581 ...\n",
              "39  41285108        산황동  MULTIPOLYGON (((126.79703 37.65409, 126.79707 ...\n",
              "40  41285109       사리현동  MULTIPOLYGON (((126.82983 37.69241, 126.82993 ...\n",
              "41  41285110        지영동  MULTIPOLYGON (((126.81864 37.71493, 126.81874 ...\n",
              "42  41285111        설문동  MULTIPOLYGON (((126.78525 37.72076, 126.78529 ...\n",
              "43  41285112        문봉동  MULTIPOLYGON (((126.81055 37.70765, 126.81060 ...\n",
              "44  41285113        성석동  MULTIPOLYGON (((126.77342 37.70387, 126.77381 ...\n",
              "45  41287101        일산동  MULTIPOLYGON (((126.78122 37.69926, 126.78138 ...\n",
              "46  41287102        주엽동  MULTIPOLYGON (((126.75091 37.66903, 126.75110 ...\n",
              "47  41287103        탄현동  MULTIPOLYGON (((126.77503 37.69206, 126.77456 ...\n",
              "48  41287104        대화동  MULTIPOLYGON (((126.71776 37.67312, 126.71788 ...\n",
              "49  41287105        덕이동  MULTIPOLYGON (((126.72781 37.69208, 126.72783 ...\n",
              "50  41287106        가좌동  MULTIPOLYGON (((126.70841 37.68111, 126.70842 ...\n",
              "51  41287107        구산동  MULTIPOLYGON (((126.67036 37.68512, 126.67149 ...\n",
              "52  41287108        법곳동  MULTIPOLYGON (((126.69201 37.66411, 126.69277 ..."
            ]
          },
          "metadata": {
            "tags": []
          },
          "execution_count": 41
        }
      ]
    },
    {
      "cell_type": "code",
      "metadata": {
        "id": "586BwPPIsY85",
        "colab_type": "code",
        "colab": {
          "base_uri": "https://localhost:8080/",
          "height": 36
        },
        "outputId": "c956cf6d-5f5a-4f0b-88f4-9ef203856a75"
      },
      "source": [
        "goyang_up_line['EMD_KOR_NM'][5][:-1] in re.findall('[\\s](.+?)\\(', pop_stat['행정구역'][200])[0].split()[-1]"
      ],
      "execution_count": null,
      "outputs": [
        {
          "output_type": "execute_result",
          "data": {
            "text/plain": [
              "True"
            ]
          },
          "metadata": {
            "tags": []
          },
          "execution_count": 56
        }
      ]
    },
    {
      "cell_type": "code",
      "metadata": {
        "id": "C6iZBiEH1lb9",
        "colab_type": "code",
        "colab": {
          "base_uri": "https://localhost:8080/",
          "height": 131
        },
        "outputId": "d7d6a97c-7a79-4b08-814a-0cc22f48d656"
      },
      "source": [
        "pop_stat['동 geometry'] = ''\n",
        "for i in range(len(pop_stat)):\n",
        "  for j in range(len(goyang_up_line)):\n",
        "    if goyang_up_line['EMD_KOR_NM'][j][:-1] in re.findall('[\\s](.+?)\\(', pop_stat['행정구역'][i])[0].split()[-1]:\n",
        "      pop_stat['동 geometry'][i] = goyang_up_line['geometry'][j]"
      ],
      "execution_count": null,
      "outputs": [
        {
          "output_type": "stream",
          "text": [
            "/usr/local/lib/python3.6/dist-packages/ipykernel_launcher.py:5: SettingWithCopyWarning: \n",
            "A value is trying to be set on a copy of a slice from a DataFrame\n",
            "\n",
            "See the caveats in the documentation: https://pandas.pydata.org/pandas-docs/stable/user_guide/indexing.html#returning-a-view-versus-a-copy\n",
            "  \"\"\"\n"
          ],
          "name": "stderr"
        }
      ]
    },
    {
      "cell_type": "code",
      "metadata": {
        "id": "E0mTWAsP6lFk",
        "colab_type": "code",
        "colab": {
          "base_uri": "https://localhost:8080/",
          "height": 36
        },
        "outputId": "38d1d8f3-fda9-4ad5-bdea-09d660076fa3"
      },
      "source": [
        "goyang_up_line['EMD_KOR_NM'][5][:-1] in re.findall('[\\s](.+?)\\(', pop_stat['행정구역'][200])[0].split()[-1]"
      ],
      "execution_count": null,
      "outputs": [
        {
          "output_type": "execute_result",
          "data": {
            "text/plain": [
              "True"
            ]
          },
          "metadata": {
            "tags": []
          },
          "execution_count": 62
        }
      ]
    },
    {
      "cell_type": "code",
      "metadata": {
        "id": "FADYWmditByl",
        "colab_type": "code",
        "colab": {
          "base_uri": "https://localhost:8080/",
          "height": 120
        },
        "outputId": "df79d49d-144e-43ce-ad0d-ee878fa270de"
      },
      "source": [
        "pop_stat['동 geometry'][1500]"
      ],
      "execution_count": null,
      "outputs": [
        {
          "output_type": "execute_result",
          "data": {
            "text/plain": [
              "<shapely.geometry.multipolygon.MultiPolygon at 0x7f735d07f710>"
            ],
            "image/svg+xml": "<svg xmlns=\"http://www.w3.org/2000/svg\" xmlns:xlink=\"http://www.w3.org/1999/xlink\" width=\"100.0\" height=\"100.0\" viewBox=\"126.71597542702426 37.64573532472032 0.04822610733936017 0.04612342058891272\" preserveAspectRatio=\"xMinYMin meet\"><g transform=\"matrix(1,0,0,-1,0,75.33759407002955)\"><g><path fill-rule=\"evenodd\" fill=\"#66cc99\" stroke=\"#555555\" stroke-width=\"0.0009645221467872034\" opacity=\"0.6\" d=\"M 126.71776157914795,37.67311769796578 L 126.7178840689085,37.67369461285888 L 126.71801878685737,37.674037305002535 L 126.71812025443278,37.674181703895144 L 126.71847058200476,37.6744618455132 L 126.71897888758498,37.67493156810044 L 126.71922764819917,37.67509433814119 L 126.7194311029034,37.675247989620175 L 126.72009746823322,37.67588926933918 L 126.72021020971412,37.676051712674436 L 126.72022140906115,37.67608777813761 L 126.72039089623662,37.67623233724 L 126.7207525434995,37.67652150868 L 126.72082035267375,37.676575728201236 L 126.72091076505963,37.676648020835394 L 126.72099041876865,37.676567123123135 L 126.72117185420015,37.67654953513599 L 126.72151117357977,37.67674855429477 L 126.72170330198425,37.676902174937005 L 126.7218952621232,37.677100843299975 L 126.72206455210534,37.67729945763482 L 126.72218877072127,37.6774258874966 L 126.72233569477358,37.67754336128559 L 126.72244884857174,37.677597687187784 L 126.72253946618557,37.67761592093309 L 126.72257347309998,37.677616001364754 L 126.72261868075368,37.677652147018115 L 126.72264128459695,37.677670219838284 L 126.72265258652271,37.67767925624672 L 126.72274303573731,37.677742537868745 L 126.72279954551011,37.67778771985134 L 126.72317257904596,37.678067901042745 L 126.72340995631272,37.67824865471448 L 126.72342125841948,37.678257691049104 L 126.72347776899431,37.67830287270597 L 126.72354561538818,37.67834808105212 L 126.7236473011301,37.67843841751365 L 126.72380556526237,37.678555916174275 L 126.7238168674637,37.678564952470886 L 126.72386207629648,37.67860109764652 L 126.72388468072933,37.67861917022783 L 126.72402034111325,37.678718596018435 L 126.7240200055465,37.678808692077915 L 126.72420060737979,37.67901633960289 L 126.7243248659989,37.679133757598215 L 126.72443782262731,37.67924213922614 L 126.72463016439569,37.679341697452436 L 126.7248339095155,37.67942326274764 L 126.72499247857142,37.67945967336201 L 126.72504909131037,37.67947782544734 L 126.72508313251082,37.67946889555309 L 126.72511714027833,37.67946897525465 L 126.72519682588842,37.679379065128565 L 126.72523083361524,37.6793791447972 L 126.72529918309648,37.67928920804459 L 126.72529921649912,37.679280198438455 L 126.7254130428831,37.67915432937504 L 126.72541307627178,37.679145319768615 L 126.7255496740817,37.67899247482026 L 126.7255498409415,37.678947426786266 L 126.72567506892942,37.678803564767954 L 126.72569770721923,37.678812627396006 L 126.72600514043063,37.67844394883729 L 126.72607345480715,37.67836302122264 L 126.72615267190038,37.678399244939534 L 126.72611849810559,37.67844421357882 L 126.72609572665455,37.67847118946324 L 126.72593635935934,37.67865101091822 L 126.72579972962878,37.67881286593622 L 126.72567450186496,37.6789567280875 L 126.72554927361665,37.679100590100425 L 126.72550369650526,37.67916355124209 L 126.72542401149633,37.67925346158121 L 126.72536706489103,37.67932540573727 L 126.72524183542697,37.67946926740989 L 126.72516201609558,37.67959521598712 L 126.72516198267598,37.679604225592655 L 126.72512787457534,37.67963117472023 L 126.72501451510396,37.6796309090195 L 126.7249918766501,37.67962184626094 L 126.72494633219316,37.67967579757322 L 126.72504818861077,37.679721084794444 L 126.72605525702633,37.680218973727875 L 126.72901946642612,37.68182057331423 L 126.73398635734628,37.684543858162854 L 126.73576281267589,37.68550290030012 L 126.74292556054382,37.68940199294807 L 126.74381953576656,37.68989047205871 L 126.74403463727123,37.68998103860128 L 126.7442498949164,37.690026556734466 L 126.74445384637113,37.69006304015928 L 126.74470324146674,37.690072593185555 L 126.74487333583247,37.690063953794635 L 126.74572430220543,37.68987659948242 L 126.75185321252215,37.687907605261515 L 126.75189850105586,37.68792572047914 L 126.75415257610989,37.68854312783697 L 126.75414108915524,37.68858815212007 L 126.75457163910421,37.688670141525435 L 126.75469599165456,37.68877851794907 L 126.75484307901304,37.68886892244496 L 126.75509217346482,37.68896854962162 L 126.75577179292358,37.689159170917335 L 126.75580580519878,37.68915924178592 L 126.75590781231321,37.68916846394583 L 126.75607784402207,37.689177827607736 L 126.75611194536819,37.689150869548776 L 126.75613467958522,37.68913289750389 L 126.7562028821705,37.6890789813423 L 126.75621424925843,37.689069995311456 L 126.75630512653595,37.689016126251396 L 126.7563732992356,37.68897121960294 L 126.75643013446295,37.68892628935393 L 126.75663447410138,37.68884562675196 L 126.7569184115741,37.68869305150401 L 126.75703187385169,37.688666257746355 L 126.75750851489201,37.68852309007668 L 126.75791689451498,37.68845185690707 L 126.75834794798173,37.688380669074824 L 126.75857487048951,37.68832707868956 L 126.75880193947707,37.6882284397844 L 126.75889284321357,37.688165559095964 L 126.7591086913222,37.68803085780274 L 126.7591882279985,37.6879769631961 L 126.75942651520396,37.687914384839786 L 126.75961942383258,37.687860722610424 L 126.75984643155476,37.6877801009121 L 126.76066358537778,37.68751148224181 L 126.76098140463033,37.68739500506225 L 126.76123108376814,37.687314426925575 L 126.76133323432295,37.68727859629208 L 126.76135602481331,37.68724260398944 L 126.76152695278661,37.68697266156996 L 126.76161817190146,37.6868106729306 L 126.76169796654362,37.68667569002403 L 126.76181182998009,37.68652275694984 L 126.76189162396071,37.68638777390335 L 126.76185764192488,37.686378695172934 L 126.76184636289912,37.686360652891864 L 126.7619943234072,37.686180759877885 L 126.76209676164103,37.686054832351424 L 126.76222187340547,37.68592895073981 L 126.76241538223994,37.68568608182207 L 126.76238154508468,37.685631955128855 L 126.76187373276629,37.68490114013803 L 126.76170443519581,37.68466654426634 L 126.75815016765578,37.67951473278226 L 126.75684140994177,37.6776199898401 L 126.75670603316746,37.67742149568344 L 126.75400980418809,37.67350566064602 L 126.75378415166814,37.673189847463085 L 126.75109947201948,37.66930099688926 L 126.7509076960743,37.66903029845313 L 126.750987157723,37.66899442843202 L 126.75104392032227,37.668967519863756 L 126.75231523518642,37.66841161084596 L 126.75251964325508,37.66829491633475 L 126.75276935753726,37.66818732672377 L 126.75291682275444,37.66815159878231 L 126.75799046476187,37.66594579423968 L 126.75665942822438,37.664005950677854 L 126.75637742150528,37.66359992783741 L 126.75632102052907,37.66351872318633 L 126.75630971663992,37.663509689975 L 126.75623076736392,37.66339239954826 L 126.75619691509331,37.663347280578975 L 126.7561630628636,37.66330216159975 L 126.75611796616579,37.66322999007471 L 126.75596003937635,37.66300441855655 L 126.75575701750613,37.66270667515448 L 126.75571192155927,37.662634503469505 L 126.75552014583619,37.66236381222557 L 126.75547502058939,37.662300650101415 L 126.75532837150205,37.66209312066228 L 126.75528327633891,37.662020948808674 L 126.7550562827722,37.66211958164672 L 126.75440932840942,37.66240653909252 L 126.7543752984785,37.662415477517335 L 126.75415963588645,37.66251413235875 L 126.7539666993314,37.66259481506685 L 126.75394400264584,37.66260377714969 L 126.7535807950075,37.66276518918059 L 126.75325164610692,37.66290865234287 L 126.75322894924041,37.66291761428697 L 126.75309276792709,37.66297138585931 L 126.75295655637747,37.663034166924426 L 126.75283170811248,37.66308796207338 L 126.75270685966787,37.663141757089036 L 126.75216203969501,37.66338386894788 L 126.75211664540693,37.66340179240901 L 126.75208261474984,37.66341073016829 L 126.75195773506559,37.663473534034125 L 126.75179888478112,37.663527256143986 L 126.75101572129476,37.66386796472229 L 126.75085680890608,37.663939704851245 L 126.75080108034396,37.66366028531726 L 126.75075665538621,37.66338989948736 L 126.75067880636752,37.66294825799177 L 126.75066765483628,37.662894175992726 L 126.75032753065678,37.66292949107469 L 126.75042977429484,37.66285763103551 L 126.75065653363924,37.66283108434228 L 126.75065662459392,37.662804055392485 L 126.75061217032965,37.66254267912277 L 126.7505788980686,37.66232637518866 L 126.75055671666654,37.662182172556676 L 126.75053429269128,37.662110047125175 L 126.75051217210701,37.661947825177705 L 126.75048989993073,37.66183065147875 L 126.75043444736916,37.661470144815425 L 126.75039002500168,37.66119975875591 L 126.75036763182922,37.661118623629946 L 126.75036781393666,37.661064565715634 L 126.75034557259711,37.66093838232094 L 126.75031218036915,37.66075811686934 L 126.75030118121681,37.660658986552725 L 126.75027884902303,37.66055983209709 L 126.75026784994274,37.66046070177428 L 126.75025669907161,37.660406619715815 L 126.75024557858163,37.660343528002436 L 126.75020124865812,37.660046112863135 L 126.7501680394107,37.65981178942088 L 126.75015679758053,37.659784736310456 L 126.75014576839452,37.659694615618534 L 126.75013455696774,37.65965855285111 L 126.75013458734557,37.659649543196664 L 126.75014601140636,37.65962253838303 L 126.75020316195454,37.65947850464115 L 126.7501581644551,37.659379301855104 L 126.75013565056138,37.65933420528263 L 126.75009065323789,37.65923500246899 L 126.75000068934156,37.659027587131234 L 126.74945653043788,37.65908048398989 L 126.74890103792444,37.659133354067144 L 126.74884437366524,37.659133232710836 L 126.74864029066137,37.65915982456527 L 126.74769938764342,37.65923889132698 L 126.74757466473532,37.65925664234326 L 126.74727991796715,37.659283036637596 L 126.74698517099452,37.65930943019465 L 126.7465770642037,37.65934458780213 L 126.74645227921336,37.65938035693448 L 126.74643010664096,37.65923615348643 L 126.74637341148265,37.65924504059538 L 126.74660043847081,37.659137414773994 L 126.7467481657517,37.6590206075578 L 126.74686177103415,37.658939765377646 L 126.74691871202819,37.658858800805575 L 126.74693007560077,37.65884981561044 L 126.74655600054761,37.658876036872066 L 126.74634049213401,37.65892962921333 L 126.74630649367812,37.6589295556652 L 126.7462497678923,37.65894745236882 L 126.74622737989226,37.65886631644471 L 126.74622741074135,37.65885730679178 L 126.74614940799913,37.658469720002074 L 126.7461159035468,37.65832549194271 L 126.74609370106268,37.658190298062884 L 126.74604914198373,37.65796495855321 L 126.74597101756083,37.65761341021221 L 126.74593757559408,37.65745116277401 L 126.74591543545473,37.65729794953239 L 126.74590425731638,37.65725287670184 L 126.74579086988274,37.65727065040366 L 126.74572305993634,37.65721644505597 L 126.74565528100483,37.657153230014025 L 126.7458820246354,37.657126692415346 L 126.74575940628077,37.65653178493996 L 126.74569240071207,37.65624332850365 L 126.74567032324757,37.65607209587397 L 126.74564802947147,37.65596393083471 L 126.7455923262326,37.655684508553044 L 126.74555879315263,37.65554928993301 L 126.7455255694931,37.65532397472277 L 126.7454810137947,37.655098634900924 L 126.74541413433062,37.65477413961021 L 126.74428041849447,37.65491582858185 L 126.74421239416576,37.654924689959394 L 126.74318069509445,37.65505758109132 L 126.74305597813824,37.65507532736479 L 126.7428863696726,37.65496683894808 L 126.74276199669781,37.65488547868942 L 126.74242284458944,37.654650481452634 L 126.74236634031988,37.65460530871377 L 126.74227577702246,37.654578080558764 L 126.74215140536349,37.65449671965589 L 126.74206096766741,37.65443345270919 L 126.74202712803097,37.654388329651375 L 126.74201582725928,37.6543792950678 L 126.74157487945875,37.65409001305965 L 126.7414844741623,37.65401773601328 L 126.74126966795812,37.653873106720795 L 126.74097575876856,37.65366523427548 L 126.74095312622151,37.653656174562556 L 126.74093049368,37.65364711484526 L 126.74079482454482,37.65355671782171 L 126.74067045620768,37.653475355355795 L 126.74062525434871,37.653439216493986 L 126.74041041993425,37.65330359529263 L 126.74031998516404,37.65324032700939 L 126.740184349083,37.65314091962563 L 126.74010521504347,37.65308668593688 L 126.74000344888015,37.6530233923 L 126.7398790506879,37.65295103865653 L 126.73967551928921,37.652824450904646 L 126.73965285551954,37.652824400600046 L 126.73937031849987,37.65260753964538 L 126.73934771814314,37.65258946996709 L 126.7391668205989,37.65247194135755 L 126.73905375596001,37.65239961204282 L 126.73881642249135,37.65221888922395 L 126.73852243135141,37.65203803963241 L 126.73847719962755,37.652010909603895 L 126.73848862671673,37.65198390589534 L 126.73845466322905,37.651974820438255 L 126.73834144106557,37.65194753873014 L 126.7383301093152,37.65194751345072 L 126.73811502881026,37.65188396533058 L 126.73812655147037,37.651829932683185 L 126.73819536896319,37.65159583334773 L 126.73792363115231,37.651532158402226 L 126.73788963609171,37.65153208244106 L 126.73779911003358,37.6514958411973 L 126.73776533803166,37.651432697592604 L 126.73779946048234,37.65139673495606 L 126.73764148659302,37.65120717739446 L 126.73759635134324,37.651153018051716 L 126.73686065873115,37.650908107231466 L 126.73675896226777,37.65082679147709 L 126.73663428290442,37.65083552133725 L 126.73656635743983,37.65081734934778 L 126.73646440526652,37.650808110607 L 126.7362833563903,37.65073562586591 L 126.73619289618895,37.650681364074785 L 126.73615931825097,37.65056416205762 L 126.73615938236311,37.65054614274067 L 126.73603508825505,37.650446756067616 L 126.73569604178441,37.65019372015436 L 126.73540222694567,37.64996781448988 L 126.73448686359421,37.64927199683858 L 126.73246007011117,37.647521476844 L 126.73223577358931,37.647711854350526 L 126.73211860986366,37.64779633242923 L 126.7319314288963,37.64795329590167 L 126.73152626361087,37.64822097656732 L 126.73138080417347,37.64824597896509 L 126.73109767083216,37.64830501981022 L 126.73063156982872,37.648429807486686 L 126.73052612740854,37.648456035930366 L 126.73014915774966,37.648465305388626 L 126.7304406601211,37.652632407807346 L 126.73046247239895,37.65286671080416 L 126.7304956822142,37.65308302052104 L 126.73053983130862,37.65340747205083 L 126.73059534552495,37.65372293992266 L 126.73066157050077,37.65420961710068 L 126.7307721436109,37.65496668767985 L 126.7308494414454,37.65552546784071 L 126.73087204061842,37.65554353913347 L 126.7308946725003,37.65555260077501 L 126.73096243741995,37.65561582426108 L 126.73097347552425,37.655696937071305 L 126.73097337745841,37.6557239660114 L 126.73097331208112,37.65574198530473 L 126.73100685145648,37.65586819831832 L 126.731006589978,37.65594027548971 L 126.73099512688258,37.65597628808876 L 126.73101749744153,37.65605742687659 L 126.7309943097205,37.65620152924204 L 126.73099427703382,37.65621053888797 L 126.73101674571268,37.65626464873543 L 126.7311287955554,37.656616284712285 L 126.73114006266951,37.656634329976946 L 126.7312526361405,37.656841811498055 L 126.73127494192659,37.65694096951725 L 126.7312971824691,37.65705814682057 L 126.73130822114156,37.657139259581776 L 126.73130795994236,37.65721133673931 L 126.73127392965702,37.65722026850645 L 126.73125123191001,37.65722922622728 L 126.73123963809745,37.65730127741976 L 126.7312167770161,37.657355283355656 L 126.7311937199173,37.657463347151726 L 126.73117056474972,37.65759843987292 L 126.73106824453384,37.65768830252825 L 126.73103408326763,37.657733272799206 L 126.73098868739804,37.65775118814111 L 126.73097732208197,37.65776017179563 L 126.73095468952152,37.6577511101707 L 126.73094335689606,37.65775108417841 L 126.73090913012803,37.65781407369915 L 126.73089773209253,37.65783206698921 L 126.73081801110953,37.65794000070027 L 126.73080664574408,37.65794898433787 L 126.73078375143393,37.6580119998249 L 126.73078371871966,37.6580210094679 L 126.73072682634002,37.658083946912896 L 126.73072669545505,37.65811998548421 L 126.73066996659233,37.65813787468668 L 126.73037548063189,37.65809214960289 L 126.73031894833021,37.65805598078095 L 126.73029634853417,37.65803790938752 L 126.73021718376899,37.65799267876168 L 126.73020588389154,37.65798364305574 L 126.73013834702122,37.65785735165573 L 126.73002525025322,37.65779402339965 L 126.73000307711503,37.65765882659228 L 126.72970796943137,37.65778428306008 L 126.72965124058314,37.6578021717737 L 126.7293674643949,37.657927653498675 L 126.72938966933953,37.658053840773206 L 126.7294008704839,37.65808990548248 L 126.72943417808334,37.65827918637774 L 126.7295582463029,37.65844164737955 L 126.72963711546011,37.65856796521669 L 126.72984015289187,37.65882971477534 L 126.73016716426619,37.65928095324949 L 126.73025740099261,37.659398287088706 L 126.73037013995844,37.65956072115951 L 126.73057311716971,37.659840488712874 L 126.73069715772837,37.66001195813322 L 126.73073099302003,37.66005708438114 L 126.73081930151852,37.66070598649948 L 126.73167450110076,37.6655281409393 L 126.73171879280694,37.66581655286069 L 126.73178536140797,37.666213132163065 L 126.73174002575755,37.666213028486645 L 126.7317173579324,37.66621297664191 L 126.73143404276854,37.66620331858432 L 126.73137743851898,37.666185169555625 L 126.73127549867651,37.66616691664499 L 126.73109441768678,37.66609442400548 L 126.73099270692859,37.66601310343509 L 126.73086839408111,37.665913711507415 L 126.73077798494565,37.66584142638654 L 126.73073278044372,37.66580528380007 L 126.73069887709603,37.66577817684877 L 126.73050675859147,37.66562457060693 L 126.73039371530602,37.66554322347866 L 126.73003198501405,37.66528111001269 L 126.72999808215968,37.66525400285949 L 126.72991894276807,37.66519976242868 L 126.7298511372402,37.665145548047406 L 126.7297493962857,37.66507323603358 L 126.72942154008602,37.66484723754904 L 126.72928589759088,37.66474781780591 L 126.72920675925552,37.664693576896724 L 126.72920679216828,37.664684567265176 L 126.72910452566768,37.664756408798546 L 126.7291044927425,37.66476541842991 L 126.72922880132104,37.6648648122193 L 126.72956792501084,37.66510885662909 L 126.72946555962554,37.665207727362336 L 126.7298274517537,37.6654247944051 L 126.72978205090189,37.66544270923975 L 126.72973668287797,37.665451614426026 L 126.72952120927441,37.665487156598864 L 126.72945314070608,37.665505019036026 L 126.7292605647826,37.6654775455976 L 126.72910179282702,37.66550420815456 L 126.7290336253401,37.66554909923958 L 126.72895432162116,37.66553990631638 L 126.7287047470361,37.6656023973138 L 126.7285459746202,37.66562905912022 L 126.72843263641316,37.665628796787566 L 126.72830806345452,37.66560147920751 L 126.7282288919004,37.66555624727894 L 126.72802498250327,37.66552874556609 L 126.72799098108824,37.66552866672776 L 126.72782120558338,37.66546520498408 L 126.72758319588796,37.6654646524994 L 126.72732231976121,37.665518104619515 L 126.72715211374923,37.66557176708922 L 126.72709534518867,37.66559866415279 L 126.7271629501469,37.66570693787859 L 126.72721935407003,37.665779146696174 L 126.72733212910259,37.66593257387726 L 126.72737723261818,37.66599574664454 L 126.72743363696637,37.66606795535778 L 126.72744490459814,37.66608600094836 L 126.7275012759592,37.66616721925666 L 126.72753507896465,37.66622135600515 L 126.72760278444792,37.66630260058866 L 126.72773826204106,37.666447070381956 L 126.72787370708244,37.666600549645835 L 126.72797534909085,37.666699892142276 L 126.72805429031887,37.66680819162867 L 126.72844919793495,37.66729563048997 L 126.72857327888623,37.667458092328125 L 126.72858464597638,37.66744910892705 L 126.72860718221749,37.66748519988254 L 126.72876513433226,37.667683778687156 L 126.72876510136253,37.66769278831375 L 126.72881017418754,37.6677649701496 L 126.72882137648132,37.66780103485875 L 126.728911621314,37.66791836958891 L 126.72904700556246,37.6680898667393 L 126.72918252211213,37.668225325227446 L 126.72920515762729,37.668234387187745 L 126.72925036285082,37.66827053034754 L 126.72928426679721,37.668297637705976 L 126.72931817076827,37.66832474505466 L 126.72941994861223,37.66838804779 L 126.72945388556111,37.6684061454736 L 126.72955556500648,37.668496476969786 L 126.72953276497952,37.66853246320622 L 126.72948739504345,37.66854136828445 L 126.72947606077896,37.668541342144806 L 126.72941938945668,37.66854121143032 L 126.72930594809725,37.668567978796666 L 126.7292152739507,37.6685677695095 L 126.72911310089341,37.66861258210554 L 126.72904506230684,37.668621434660736 L 126.72884078164302,37.66869304021618 L 126.7287840442712,37.668710928446146 L 126.72876137569197,37.66871087603042 L 126.72843261527775,37.66872813476248 L 126.72825126660912,37.66872771477431 L 126.72797917748139,37.66874510351809 L 126.72785453332871,37.66873580470248 L 126.72779789495412,37.66872666358412 L 126.72772985611182,37.66873551537952 L 126.72768448584092,37.66874441976265 L 126.72761641385955,37.668762281116585 L 126.72757101044371,37.668780195079954 L 126.727559643028,37.66878917838005 L 126.72754834184575,37.66878014243105 L 126.72753717314383,37.66873506798478 L 126.72751467017007,37.66868996720902 L 126.72744739332114,37.66849159748423 L 126.72742498987215,37.668419467816626 L 126.72740245392524,37.668383376642176 L 126.72735695126755,37.6684283193983 L 126.727322815952,37.66846427885963 L 126.72725461152852,37.668518178503206 L 126.72718640700641,37.66857207810646 L 126.72689088613495,37.66879663296452 L 126.72678857853812,37.66887748203192 L 126.72662939971688,37.66901225669048 L 126.72661806538349,37.66901223027596 L 126.72643618400566,37.66915596145849 L 126.72624293427309,37.66930867552574 L 126.72601554732844,37.669497348341565 L 126.72584506468309,37.66962308582137 L 126.7256404113798,37.66979379163149 L 126.72546992742369,37.66991952855753 L 126.72536758336096,37.670009385985246 L 126.7249583049402,37.670341785925665 L 126.72481055458822,37.67044955578728 L 126.72473097851218,37.670512436968025 L 126.72454908983406,37.67065616517497 L 126.72425351923593,37.670889722899595 L 126.72384426458028,37.671213109268 L 126.72377605512568,37.67126700685494 L 126.72344637470442,37.67152751128974 L 126.72325314633713,37.671671210731674 L 126.72311675929332,37.67176999555029 L 126.72308262039893,37.67180595374974 L 126.72303711304414,37.671850894794524 L 126.72271876225805,37.67211142390952 L 126.7225254972447,37.67226413174831 L 126.72238910815159,37.67236291570735 L 126.72228675701709,37.67245277039619 L 126.72207075291259,37.6726234430328 L 126.72199117220362,37.67268632232328 L 126.721752429271,37.67287495986522 L 126.72144540457377,37.6731355123469 L 126.72127487201611,37.67327025269125 L 126.7209338050508,37.67353973262353 L 126.720797377574,37.673647524314056 L 126.72047904526002,37.673899037631045 L 126.72016071079726,37.6741505500694 L 126.71984234012912,37.6744110712386 L 126.7195127002407,37.67465354520955 L 126.7192512060488,37.67486014258645 L 126.71921713213652,37.67487808041847 L 126.71879906220747,37.67452570115189 L 126.71857311154392,37.67432694615378 L 126.71852804473068,37.674254760511 L 126.71846003399367,37.67425459731757 L 126.7184487330957,37.67424556050623 L 126.71836962688658,37.67418230279673 L 126.71830178742896,37.67413709146916 L 126.71803060179734,37.673911197724856 L 126.71796293420762,37.67382093815791 L 126.71794064123728,37.67372177795822 L 126.71794105266312,37.67361366264917 L 126.71798687267969,37.67348763711685 L 126.71812433179194,37.67310956039307 L 126.71817025395426,37.67295650594519 L 126.71827339834185,37.67265943381208 L 126.718296410514,37.67256939213831 L 126.71810385484665,37.672532890850505 L 126.71794509823313,37.67255052867059 L 126.71791061361465,37.67267658146343 L 126.7178532876004,37.6728476277776 L 126.71776157914795,37.67311769796578 z\" /></g></g></svg>"
          },
          "metadata": {
            "tags": []
          },
          "execution_count": 71
        }
      ]
    },
    {
      "cell_type": "code",
      "metadata": {
        "id": "9voaskQb-td1",
        "colab_type": "code",
        "colab": {
          "base_uri": "https://localhost:8080/",
          "height": 120
        },
        "outputId": "341d8188-2f71-4dc9-9d9b-9304d5f1e499"
      },
      "source": [
        "pop_stat['구 geometry'][1583]"
      ],
      "execution_count": null,
      "outputs": [
        {
          "output_type": "execute_result",
          "data": {
            "text/plain": [
              "<shapely.geometry.multipolygon.MultiPolygon at 0x7f735d03f128>"
            ],
            "image/svg+xml": "<svg xmlns=\"http://www.w3.org/2000/svg\" xmlns:xlink=\"http://www.w3.org/1999/xlink\" width=\"100.0\" height=\"100.0\" viewBox=\"126.66589849526011 37.643063879949956 0.12035511613906635 0.06867770380356575\" preserveAspectRatio=\"xMinYMin meet\"><g transform=\"matrix(1,0,0,-1,0,75.35480546370349)\"><g><path fill-rule=\"evenodd\" fill=\"#66cc99\" stroke=\"#555555\" stroke-width=\"0.002407102322781327\" opacity=\"0.6\" d=\"M 126.76703256685127,37.70716707003747 L 126.76719391653054,37.70713445151089 L 126.76720737268633,37.70713955068316 L 126.7672219074174,37.707137047853145 L 126.7672328987104,37.707136222785344 L 126.76726694670471,37.70712756008056 L 126.76731145653652,37.70711694503296 L 126.7678715501292,37.70694744045218 L 126.76883460566307,37.70648703262812 L 126.7697370973945,37.705956114458274 L 126.76974916588618,37.70594797543589 L 126.77037293882654,37.7055823448394 L 126.77074715967281,37.705468763344605 L 126.77096615095091,37.70541598071647 L 126.77146257631917,37.70525983996799 L 126.77152578222547,37.705047957123426 L 126.77244252906905,37.70464853275986 L 126.77268304697184,37.70468193905883 L 126.77274537030083,37.70463785862779 L 126.77277660665305,37.70462102612463 L 126.77341801847804,37.70387136796799 L 126.77361980232435,37.703069898755764 L 126.77370022701706,37.702727687207094 L 126.77441541302328,37.7024677867031 L 126.77474639835698,37.70176567035572 L 126.77551867836652,37.70137072799462 L 126.77617796685801,37.70084041976969 L 126.77683623987946,37.700643463318855 L 126.77712077877814,37.700292628342694 L 126.77825553021096,37.70001548272661 L 126.77903782019402,37.7000529998934 L 126.7790718375023,37.70005306406799 L 126.77940061772635,37.70007170313924 L 126.77975263993478,37.69990118210006 L 126.77984364767116,37.69980224692844 L 126.78078593876161,37.69941659900939 L 126.78096754970983,37.69935387117259 L 126.7811607660096,37.69920106810672 L 126.78121730092327,37.6992552317188 L 126.7813765528573,37.69908434551193 L 126.78178456917884,37.69914817414704 L 126.78179384621903,37.699124541065736 L 126.78179601450513,37.69911215681808 L 126.7817621039961,37.69907605497346 L 126.78155826897445,37.69898557830062 L 126.78112800260361,37.6987775526743 L 126.78092416917342,37.69868707490588 L 126.7807655581988,37.698641729771374 L 126.7804824871982,37.69850605455684 L 126.7803806514682,37.69843378631569 L 126.7800976087569,37.69828910056261 L 126.77991642874773,37.698207673246095 L 126.77985986875206,37.6981625186208 L 126.77979199684778,37.69810833303445 L 126.77972412504232,37.69805414740884 L 126.77966761897247,37.69799097346143 L 126.7796110861453,37.69793680910135 L 126.77955458026017,37.6978736350991 L 126.7795094400976,37.697801472801785 L 126.7794642731516,37.69773832010158 L 126.77941913315809,37.69766615776855 L 126.77937396637039,37.69760300503278 L 126.77899073840483,37.69683646085716 L 126.77884417172473,37.69655688451275 L 126.77867511783872,37.69621419780844 L 126.7786414259094,37.696106018122045 L 126.7785174579343,37.69585351305387 L 126.77841584369948,37.69570916616153 L 126.77829182312382,37.69547468007919 L 126.77825799700965,37.6954115483618 L 126.77823550933827,37.69534843810278 L 126.77821302170474,37.69528532783893 L 126.77819053410911,37.695222217570226 L 126.77817938490813,37.69515912877056 L 126.7779666069393,37.694275777946345 L 126.77796701266494,37.694140633653845 L 126.77792220093195,37.69396035527779 L 126.77782134825284,37.69356373847204 L 126.77778787529896,37.6933834815358 L 126.77772022586554,37.693257217765456 L 126.77763057776389,37.69290567037809 L 126.7776197273535,37.69274347566704 L 126.77756385027926,37.69247307937214 L 126.77750745866722,37.69237386586085 L 126.77716040719666,37.690904629161274 L 126.7771379489434,37.690832509027594 L 126.77712685556617,37.69075140083752 L 126.77712707273864,37.69067932384268 L 126.77711597939522,37.69059821564959 L 126.77711622372472,37.69051712902823 L 126.7771277785439,37.69044507360322 L 126.77712802285917,37.690363986979705 L 126.77717424185596,37.690075765254534 L 126.77718576940966,37.690012719443494 L 126.7772545273646,37.689769588928016 L 126.77727779923683,37.689571420271776 L 126.77726689578692,37.689427244692865 L 126.77734791239348,37.688877808333196 L 126.77738224995919,37.688769757449826 L 126.77742841273606,37.68849955479615 L 126.77741756335905,37.68833735994796 L 126.77749868602301,37.68775188485864 L 126.77755577854214,37.68761684808156 L 126.77757896764531,37.6874457081774 L 126.77763687222526,37.68704038244948 L 126.77766008803431,37.68686023288071 L 126.77764896757823,37.68678813431555 L 126.77764915713492,37.686725066900095 L 126.77776504492363,37.68588738631456 L 126.77777665250075,37.68579731150006 L 126.77779975932835,37.685653200393595 L 126.7778340676729,37.685554158945024 L 126.77788022675936,37.68528395595446 L 126.77786937683105,37.68512176105711 L 126.77790398235135,37.684923613607744 L 126.7779041446325,37.684869555804966 L 126.77790419872613,37.684851536537266 L 126.77791588710312,37.68473443278997 L 126.77792744022355,37.6846623772101 L 126.77792754839867,37.68462633867329 L 126.77795065455972,37.68448222750635 L 126.77798566510342,37.68414893548644 L 126.7780086628659,37.68404086283633 L 126.77802040500872,37.68390573979078 L 126.77802048610413,37.68387871088452 L 126.77803206601682,37.683797645647545 L 126.7780321200774,37.68377962637641 L 126.77804372699028,37.683689551501104 L 126.77804375401905,37.68368054186535 L 126.77807843945989,37.683455365404136 L 126.77807846648426,37.683446355768005 L 126.77807852053294,37.68342833649568 L 126.77807862863013,37.683392297950924 L 126.7780902084013,37.683311232701065 L 126.77810173410413,37.68324818672182 L 126.77811325978722,37.683185140740704 L 126.77812492054254,37.68307704657424 L 126.77813655424632,37.6829779620414 L 126.7781481879185,37.68287887750564 L 126.77814826896453,37.68285184859443 L 126.7781831427671,37.682563604605754 L 126.77819456023492,37.68253659715929 L 126.77819461425372,37.68251857788404 L 126.77821777323679,37.68235644733337 L 126.77821796228153,37.68229337986771 L 126.77822940669974,37.682257362778415 L 126.7782410671345,37.682149268582315 L 126.77826436089975,37.68194208981894 L 126.77826441490052,37.68192407054176 L 126.77827599423325,37.68184300525199 L 126.77828749254807,37.68178896887638 L 126.77828751954551,37.681779959237566 L 126.77828770852727,37.68171689176537 L 126.77832231130782,37.68151874406942 L 126.77834579357052,37.68124849778887 L 126.77835721077545,37.681221490319786 L 126.77835734571761,37.681176442120915 L 126.77835481678676,37.680658289991015 L 126.77825224567812,37.68015931931776 L 126.7776157073954,37.6789946909556 L 126.77757060754392,37.6789135180835 L 126.77746926192974,37.67868808325076 L 126.77727736598895,37.678417427726785 L 126.7770290369205,37.67806557722445 L 126.77597942087456,37.67654093609581 L 126.77594574161563,37.67643275531736 L 126.77586674778489,37.6763154781447 L 126.77579903508547,37.67621624190278 L 126.77572004171391,37.676098964629034 L 126.7755844260473,37.67596355945512 L 126.7750991378377,37.675259872355916 L 126.77506543304695,37.675160700955495 L 126.7748961706135,37.67490810427039 L 126.77491908773956,37.67482706099988 L 126.77470470505865,37.67450229973194 L 126.77459143526791,37.67447505276179 L 126.77442214853272,37.67423146502529 L 126.77433171439691,37.67415020356385 L 126.77359815337796,37.67309465325267 L 126.77355317169362,37.67297744019095 L 126.77349674491869,37.672896243796444 L 126.7734629054558,37.67284212015671 L 126.77339519909691,37.67274288249676 L 126.77332746532969,37.67265265444666 L 126.77320316756823,37.67252627806796 L 126.77215367967962,37.67101061161673 L 126.7720635015697,37.67084826152704 L 126.77185920018907,37.67093796097998 L 126.77179149768713,37.67083872237999 L 126.76991831712563,37.66814115676592 L 126.76985061973478,37.66804191702161 L 126.769771588315,37.66794265496987 L 126.76969252908255,37.667852402519095 L 126.76961349807348,37.667753140359615 L 126.76953443923284,37.66766288780124 L 126.76944401837858,37.66758162254554 L 126.7693536257848,37.66749134756487 L 126.76925187120824,37.667410059852415 L 126.76915011685361,37.667328772051754 L 126.7690483627209,37.667247484162964 L 126.76894658069791,37.66717520584145 L 126.7688447988724,37.66710292743186 L 126.76873168317518,37.66703062656731 L 126.76763442707856,37.666343717993385 L 126.76721586339855,37.66609061540137 L 126.76269127181565,37.66327952046152 L 126.76255480779659,37.663423399546694 L 126.7624866044785,37.663486329371175 L 126.76236153104085,37.663612211876945 L 126.7622364861001,37.66372908458959 L 126.762111440767,37.66384595716599 L 126.7619863950415,37.66396282960616 L 126.76185004427552,37.66407066922789 L 126.76171369311508,37.6641785086887 L 126.76157734156016,37.66428634798853 L 126.76142965594839,37.664394164060276 L 126.76128199894544,37.664492970289096 L 126.76113434155138,37.664591776330056 L 126.76098668376616,37.6646905821832 L 126.76083902558982,37.66478938784847 L 126.76068006239454,37.6648791605329 L 126.76052109881698,37.66496893300042 L 126.7603621348571,37.665058705251006 L 126.76020319968191,37.66513946763181 L 126.76003293037618,37.66522020659444 L 126.75986266070254,37.66530094530885 L 126.75970375369948,37.66537269735754 L 126.75808069455958,37.66608112614763 L 126.75799046476187,37.66594579423968 L 126.75665942822438,37.664005950677854 L 126.75637742150528,37.66359992783741 L 126.75632102052907,37.66351872318633 L 126.75630971663992,37.663509689975 L 126.75623076736392,37.66339239954826 L 126.75619691509331,37.663347280578975 L 126.7561630628636,37.66330216159975 L 126.75611796616579,37.66322999007471 L 126.75596003937635,37.66300441855655 L 126.75575701750613,37.66270667515448 L 126.75571192155927,37.662634503469505 L 126.75552014583619,37.66236381222557 L 126.75547502058939,37.662300650101415 L 126.75532837150205,37.66209312066228 L 126.75528327633891,37.662020948808674 L 126.7550562827722,37.66211958164672 L 126.75440932840942,37.66240653909252 L 126.7543752984785,37.662415477517335 L 126.75415963588645,37.66251413235875 L 126.7539666993314,37.66259481506685 L 126.75394400264584,37.66260377714969 L 126.7535807950075,37.66276518918059 L 126.75325164610692,37.66290865234287 L 126.75322894924041,37.66291761428697 L 126.75309276792709,37.66297138585931 L 126.75295655637747,37.663034166924426 L 126.75283170811248,37.66308796207338 L 126.75270685966787,37.663141757089036 L 126.75216203969501,37.66338386894788 L 126.75211664540693,37.66340179240901 L 126.75208261474984,37.66341073016829 L 126.75195773506559,37.663473534034125 L 126.75179888478112,37.663527256143986 L 126.75101572129476,37.66386796472229 L 126.75085680890608,37.663939704851245 L 126.75080108034396,37.66366028531726 L 126.75075665538621,37.66338989948736 L 126.75067880636752,37.66294825799177 L 126.75066765483628,37.662894175992726 L 126.75032753065678,37.66292949107469 L 126.75042977429484,37.66285763103551 L 126.75065653363924,37.66283108434228 L 126.75065662459392,37.662804055392485 L 126.75061217032965,37.66254267912277 L 126.7505788980686,37.66232637518866 L 126.75055671666654,37.662182172556676 L 126.75053429269128,37.662110047125175 L 126.75051217210701,37.661947825177705 L 126.75048989993073,37.66183065147875 L 126.75043444736916,37.661470144815425 L 126.75039002500168,37.66119975875591 L 126.75036763182922,37.661118623629946 L 126.75036781393666,37.661064565715634 L 126.75034557259711,37.66093838232094 L 126.75031218036915,37.66075811686934 L 126.75030118121681,37.660658986552725 L 126.75027884902303,37.66055983209709 L 126.75026784994274,37.66046070177428 L 126.75025669907161,37.660406619715815 L 126.75024557858163,37.660343528002436 L 126.75020124865812,37.660046112863135 L 126.7501680394107,37.65981178942088 L 126.75015679758053,37.659784736310456 L 126.75014576839452,37.659694615618534 L 126.75013455696774,37.65965855285111 L 126.75013458734557,37.659649543196664 L 126.75014601140636,37.65962253838303 L 126.75020316195454,37.65947850464115 L 126.7501581644551,37.659379301855104 L 126.75013565056138,37.65933420528263 L 126.75009065323789,37.65923500246899 L 126.75000068934156,37.659027587131234 L 126.74945653043788,37.65908048398989 L 126.74890103792444,37.659133354067144 L 126.74884437366524,37.659133232710836 L 126.74864029066137,37.65915982456527 L 126.74769938764342,37.65923889132698 L 126.74757466473532,37.65925664234326 L 126.74727991796715,37.659283036637596 L 126.74698517099452,37.65930943019465 L 126.7465770642037,37.65934458780213 L 126.74645227921336,37.65938035693448 L 126.74643010664096,37.65923615348643 L 126.74637341148265,37.65924504059538 L 126.74660043847081,37.659137414773994 L 126.7467481657517,37.6590206075578 L 126.74686177103415,37.658939765377646 L 126.74691871202819,37.658858800805575 L 126.74693007560077,37.65884981561044 L 126.74655600054761,37.658876036872066 L 126.74634049213401,37.65892962921333 L 126.74630649367812,37.6589295556652 L 126.7462497678923,37.65894745236882 L 126.74622737989226,37.65886631644471 L 126.74622741074135,37.65885730679178 L 126.74614940799913,37.658469720002074 L 126.7461159035468,37.65832549194271 L 126.74609370106268,37.658190298062884 L 126.74604914198373,37.65796495855321 L 126.74597101756083,37.65761341021221 L 126.74593757559408,37.65745116277401 L 126.74591543545473,37.65729794953239 L 126.74590425731638,37.65725287670184 L 126.74579086988274,37.65727065040366 L 126.74572305993634,37.65721644505597 L 126.74565528100483,37.657153230014025 L 126.7458820246354,37.657126692415346 L 126.74575940628077,37.65653178493996 L 126.74569240071207,37.65624332850365 L 126.74567032324757,37.65607209587397 L 126.74564802947147,37.65596393083471 L 126.7455923262326,37.655684508553044 L 126.74555879315263,37.65554928993301 L 126.7455255694931,37.65532397472277 L 126.7454810137947,37.655098634900924 L 126.74541413433062,37.65477413961021 L 126.74428041849447,37.65491582858185 L 126.74421239416576,37.654924689959394 L 126.74318069509445,37.65505758109132 L 126.74305597813824,37.65507532736479 L 126.7428863696726,37.65496683894808 L 126.74276199669781,37.65488547868942 L 126.74242284458944,37.654650481452634 L 126.74236634031988,37.65460530871377 L 126.74227577702246,37.654578080558764 L 126.74215140536349,37.65449671965589 L 126.74206096766741,37.65443345270919 L 126.74202712803097,37.654388329651375 L 126.74201582725928,37.6543792950678 L 126.74157487945875,37.65409001305965 L 126.7414844741623,37.65401773601328 L 126.74126966795812,37.653873106720795 L 126.74097575876856,37.65366523427548 L 126.74095312622151,37.653656174562556 L 126.74093049368,37.65364711484526 L 126.74079482454482,37.65355671782171 L 126.74067045620768,37.653475355355795 L 126.74062525434871,37.653439216493986 L 126.74041041993425,37.65330359529263 L 126.74031998516404,37.65324032700939 L 126.740184349083,37.65314091962563 L 126.74010521504347,37.65308668593688 L 126.74000344888015,37.6530233923 L 126.7398790506879,37.65295103865653 L 126.73967551928921,37.652824450904646 L 126.73965285551954,37.652824400600046 L 126.73937031849987,37.65260753964538 L 126.73934771814314,37.65258946996709 L 126.7391668205989,37.65247194135755 L 126.73905375596001,37.65239961204282 L 126.73881642249135,37.65221888922395 L 126.73852243135141,37.65203803963241 L 126.73847719962755,37.652010909603895 L 126.73848862671673,37.65198390589534 L 126.73845466322905,37.651974820438255 L 126.73834144106557,37.65194753873014 L 126.7383301093152,37.65194751345072 L 126.73811502881026,37.65188396533058 L 126.73812655147037,37.651829932683185 L 126.73819536896319,37.65159583334773 L 126.73792363115231,37.651532158402226 L 126.73788963609171,37.65153208244106 L 126.73779911003358,37.6514958411973 L 126.73776533803166,37.651432697592604 L 126.73779946048234,37.65139673495606 L 126.73764148659302,37.65120717739446 L 126.73759635134324,37.651153018051716 L 126.73686065873115,37.650908107231466 L 126.73675896226777,37.65082679147709 L 126.73663428290442,37.65083552133725 L 126.73656635743983,37.65081734934778 L 126.73646440526652,37.650808110607 L 126.7362833563903,37.65073562586591 L 126.73619289618895,37.650681364074785 L 126.73615931825097,37.65056416205762 L 126.73615938236311,37.65054614274067 L 126.73603508825505,37.650446756067616 L 126.73569604178441,37.65019372015436 L 126.73540222694567,37.64996781448988 L 126.73448686359421,37.64927199683858 L 126.73246007011117,37.647521476844 L 126.73223577358931,37.647711854350526 L 126.73211860986366,37.64779633242923 L 126.7319314288963,37.64795329590167 L 126.73152626361087,37.64822097656732 L 126.73138080417347,37.64824597896509 L 126.73109767083216,37.64830501981022 L 126.73063156982872,37.648429807486686 L 126.73052612740854,37.648456035930366 L 126.73014915774966,37.648465305388626 L 126.73011507081797,37.648487751309595 L 126.72981824693424,37.64851268277523 L 126.7297715128052,37.64851061101686 L 126.72953564635553,37.648518230311126 L 126.72933201514914,37.64852648211134 L 126.7292543055587,37.64852011311621 L 126.7291870135782,37.64852503028305 L 126.72846176377647,37.648586980670984 L 126.72841677672871,37.648590534492364 L 126.7265121508622,37.64875335783548 L 126.72522418340243,37.648875917173974 L 126.72483670710318,37.64894314969361 L 126.72122215319915,37.65050568893138 L 126.71890469509921,37.651524169645405 L 126.71751628709562,37.6521534893585 L 126.71452266204905,37.65350389284453 L 126.70858974385983,37.65626515065048 L 126.70085006264688,37.659854068095136 L 126.69200591629091,37.664106299347786 L 126.68877739621712,37.66584284551446 L 126.67934338898597,37.670822339797425 L 126.67797116472393,37.671519654522136 L 126.67563861566202,37.67355843152597 L 126.67462141537992,37.67525065310787 L 126.672592353523,37.67804130051645 L 126.67104255696675,37.68155046102172 L 126.67045385345311,37.68352671132131 L 126.67035609215415,37.68511664269283 L 126.6714917292977,37.690313047997556 L 126.67246196537208,37.69601070592709 L 126.67360933437044,37.70030221329252 L 126.67395147325243,37.70029921796772 L 126.67486796289909,37.69994504151425 L 126.67593909036275,37.69951469397594 L 126.68021938788631,37.69738494938974 L 126.68288107558186,37.69599427033239 L 126.6829262933164,37.69594399252082 L 126.68308385715156,37.69576281958581 L 126.68333497915631,37.69541324725307 L 126.68336439122217,37.69532829352262 L 126.68334182889946,37.69530149200622 L 126.68696182933556,37.6924013645325 L 126.68734209501109,37.69196034643072 L 126.68769332031185,37.69164031255539 L 126.68784965607645,37.69149543873455 L 126.68991548360047,37.688605723915224 L 126.69025652171845,37.68864153694399 L 126.69031355488298,37.688642813664174 L 126.69031032204842,37.688654067211694 L 126.69032112060822,37.688655501214015 L 126.69067532672304,37.68880424786032 L 126.690696903898,37.688811908885036 L 126.69074348497595,37.6888156895653 L 126.69081159054046,37.68875280137586 L 126.69081277815881,37.68876434588255 L 126.69082234850895,37.68880745530227 L 126.69083437281569,37.68885478770767 L 126.69089104594245,37.68911368548391 L 126.69089239191494,37.68912804142077 L 126.69091323516815,37.68918665912105 L 126.69100381485376,37.689299797721155 L 126.69107323819858,37.68934784882233 L 126.6911525388686,37.68940352102174 L 126.69118688923776,37.68940952175451 L 126.6912038390299,37.68942308084755 L 126.69126481626945,37.689454775094646 L 126.69141969875895,37.68957174945079 L 126.69163783429528,37.689724081559085 L 126.69173119715096,37.68980907171514 L 126.69185846881705,37.6899163956896 L 126.69194945574667,37.69006304155172 L 126.6919542085648,37.69007065818132 L 126.69211062673556,37.69032615017527 L 126.69219584867187,37.69045250897799 L 126.69239835828313,37.69061465524657 L 126.6925285305798,37.69070931850842 L 126.69271669644549,37.69083115346402 L 126.69274921272172,37.690850384129455 L 126.69279519024876,37.69086881212718 L 126.69280615657553,37.690873624963686 L 126.69307283329512,37.690944426906974 L 126.69316962181344,37.69097227660047 L 126.69318252811021,37.69097680616514 L 126.69322531498433,37.69099916287432 L 126.69335559417368,37.691065670313314 L 126.69342991817828,37.69112752661284 L 126.6935889163379,37.69127631294868 L 126.69372181270023,37.691442221375496 L 126.69374902715577,37.69150169308335 L 126.6938809900545,37.691547932599946 L 126.69393789266438,37.691540197571285 L 126.69454809448906,37.69147449433188 L 126.6946575355891,37.691398197046475 L 126.69469540365007,37.69132396588325 L 126.69470686033995,37.6912510805145 L 126.69471489104079,37.69115114824187 L 126.694739579786,37.69109180277071 L 126.69479455690818,37.69103394158011 L 126.69497238142183,37.691044260509194 L 126.69523115994362,37.69109814393171 L 126.69562147108098,37.69117349568739 L 126.6957407663968,37.69119858162524 L 126.69620059393579,37.691345044740984 L 126.69627205362258,37.69137057389696 L 126.69639175393044,37.691512785800754 L 126.69639153657691,37.69152432661235 L 126.69641517329599,37.69159140161346 L 126.69641368256782,37.6916536184649 L 126.6963929357176,37.69170030690092 L 126.6963704028729,37.69175120723211 L 126.69633199787481,37.69174378299974 L 126.69625550720538,37.691734016771896 L 126.69615302751268,37.69184102046248 L 126.69612012877563,37.691870495962796 L 126.69610564002029,37.69190340676423 L 126.69607498604078,37.6919494928662 L 126.69592898652543,37.691955313280125 L 126.69576646123684,37.691929556863364 L 126.69552236373524,37.69183938576631 L 126.69545033739945,37.691822026447795 L 126.69536201319967,37.69180321025976 L 126.6951692386882,37.691810593100016 L 126.69509687580377,37.69183096514281 L 126.694938734595,37.6919026314075 L 126.69479042629571,37.69203682303465 L 126.69473831769214,37.69208624061459 L 126.69467946482945,37.692140704051575 L 126.69465296623157,37.69216315924876 L 126.69470928112824,37.69221285889123 L 126.69469992586546,37.69229026355399 L 126.69468804277754,37.69242256649327 L 126.6947102366829,37.692580851844006 L 126.69473509362213,37.692742252445896 L 126.69479722148141,37.692883748542236 L 126.69479852854595,37.692910501613795 L 126.69481128667363,37.693039201707165 L 126.69492033057898,37.693315973599326 L 126.69493226580511,37.69334443910429 L 126.69497637587885,37.693387349638854 L 126.69519729820077,37.69338763538066 L 126.69527839013678,37.693398270160976 L 126.69535940680007,37.69346858465432 L 126.69536559918248,37.69347367316687 L 126.69539419968196,37.69349710945115 L 126.69578061520288,37.69344462155451 L 126.6956760376103,37.69363102145568 L 126.69564238990989,37.693712858990885 L 126.6956087765688,37.69378907457903 L 126.69555369971033,37.69391225586528 L 126.69582813409288,37.694038255833235 L 126.69607651141418,37.69382492007899 L 126.69619242642868,37.693854213320314 L 126.6963002305378,37.693831968242755 L 126.6964021304631,37.693911354729885 L 126.69641415191457,37.69391616995954 L 126.69655297936269,37.69397649731992 L 126.69661558087516,37.69400340885966 L 126.69662708423326,37.69400738483005 L 126.69671270892854,37.694035473037 L 126.69682179731835,37.694090092176644 L 126.6968883120178,37.69411391436044 L 126.69692033937577,37.6941230067439 L 126.69702720713417,37.694155104828006 L 126.69706846395722,37.694161400979056 L 126.69712477550573,37.69416830358371 L 126.69713538780783,37.69417115099758 L 126.69714796046604,37.694174282769445 L 126.69719488998814,37.694176935597014 L 126.69732973888792,37.69425667659277 L 126.69737481099898,37.69428382181129 L 126.69747025369766,37.69433727894964 L 126.69752098693463,37.69436641182224 L 126.69768904366612,37.6944690504521 L 126.69783428671494,37.69456092662441 L 126.69788853021139,37.69459682561913 L 126.69795251201653,37.694635839968804 L 126.69801438420104,37.6946666951164 L 126.69814115739103,37.69477260546371 L 126.69820247730777,37.69481104522096 L 126.6982464878392,37.69483452945456 L 126.69828385419996,37.694883052437554 L 126.69824700399096,37.694927726651585 L 126.69821013652577,37.694976626337336 L 126.69818820335286,37.69501119402643 L 126.69824036414401,37.6950797474981 L 126.69832196764189,37.69513795247784 L 126.69835203050305,37.69515070635055 L 126.69839043163499,37.69516234643259 L 126.69845921166417,37.69519546250519 L 126.69845316352998,37.69520220420289 L 126.69848262365353,37.69523212889446 L 126.69854203003473,37.6952198932599 L 126.69855863454603,37.69522979248046 L 126.69856553261423,37.69523430601914 L 126.69855750907905,37.69524724128961 L 126.69847792720343,37.69534135888395 L 126.69851452990629,37.69536031014314 L 126.69853909257077,37.69537614014685 L 126.69857231758671,37.695394812420396 L 126.69866072296283,37.69543952015588 L 126.69867412083816,37.695454483559914 L 126.69873047871523,37.695494883410944 L 126.69877447036579,37.69552315152356 L 126.69879019503693,37.69553474226739 L 126.69879284018697,37.69553672217188 L 126.69882217174461,37.695556501577066 L 126.69887324762766,37.6955853554445 L 126.69891442873151,37.695610516970774 L 126.69895612559601,37.695639905333536 L 126.69897040686052,37.69565514125971 L 126.69900311512033,37.695672685878904 L 126.69901160059075,37.69567721247304 L 126.69904056712848,37.69569755849546 L 126.6991490707495,37.69576596775403 L 126.69926339771189,37.695841158087916 L 126.69929544669417,37.69584517744596 L 126.69933246423146,37.69584583991682 L 126.6993672392694,37.69587661590223 L 126.69940786038045,37.69590853306088 L 126.69942075180126,37.695919828152874 L 126.6995751186106,37.69603622278708 L 126.6995717373993,37.69603959274967 L 126.6995872797565,37.69605146221905 L 126.69966637363785,37.69611951639776 L 126.6998901983716,37.69623383597204 L 126.70001486459309,37.696337765783085 L 126.70007314107927,37.69638352162796 L 126.70020000929068,37.69650942240369 L 126.70029057401813,37.69658989374183 L 126.70031072572381,37.69660036938327 L 126.70037839088543,37.69664614905619 L 126.70051310760182,37.696763339179924 L 126.70053920963764,37.69679127265724 L 126.70064065179531,37.696896268730136 L 126.70072138150675,37.696955605025074 L 126.70081155365295,37.69695668190291 L 126.70084539475626,37.69695507437717 L 126.70089082742551,37.69693576539698 L 126.7009229417507,37.69692373828884 L 126.70109242533309,37.696852381274425 L 126.70140438331683,37.6966870556259 L 126.70147360847957,37.69665259867376 L 126.70174529160545,37.69649815240203 L 126.70176552853395,37.69649032039686 L 126.70183127473206,37.696486270979 L 126.70184366770108,37.69648630247271 L 126.70206949308833,37.6965017961106 L 126.70222388722425,37.696525279802096 L 126.70227647297436,37.69653442290514 L 126.70252225179578,37.696522369739405 L 126.70333050241723,37.69660437692272 L 126.703437347198,37.69668911254094 L 126.7034792097575,37.69672019353684 L 126.70355366397752,37.69675585268883 L 126.7036683279824,37.69678796445049 L 126.70384724702058,37.69683740170114 L 126.70390296754024,37.69685950787302 L 126.70391750355941,37.69685954455741 L 126.70399063636302,37.69686845043876 L 126.70422531314497,37.696885376797425 L 126.70440021901913,37.69687511414064 L 126.70470313641593,37.69679423148487 L 126.7047803926354,37.696792732095815 L 126.70479801701161,37.696814462678304 L 126.70481360416868,37.69681533979481 L 126.70481920834987,37.69683168839629 L 126.70484441875199,37.69686469111462 L 126.70488269828701,37.696904483942696 L 126.70501548715934,37.69697239028915 L 126.7051700251925,37.69704851388925 L 126.70527052961118,37.697080300200454 L 126.70537821367559,37.69713434928908 L 126.70548206442275,37.697168684545424 L 126.70564627273133,37.69721976694184 L 126.70571860800513,37.69725260839851 L 126.7058781035711,37.69733128422653 L 126.70597889090288,37.69738052234012 L 126.7059918237738,37.69738168996746 L 126.70603852858245,37.697398700101445 L 126.7061358591774,37.697470453550594 L 126.70619098986758,37.69750719784885 L 126.70626843081122,37.69754793519981 L 126.70636514254387,37.69759856828399 L 126.70641694828063,37.69762460068717 L 126.70645883828603,37.697649202752075 L 126.70659590126363,37.69766643871512 L 126.70669654074396,37.69766161793047 L 126.7067355576332,37.697652994125846 L 126.70679620613468,37.69763934292877 L 126.70684565033254,37.69763468236555 L 126.7068970015315,37.69764382032392 L 126.70699386604375,37.69769896711015 L 126.70702101437392,37.69773254180864 L 126.70702827356183,37.69773481235008 L 126.70705752131143,37.69777655502774 L 126.70714690317503,37.697886020215094 L 126.70728587575358,37.698002645614935 L 126.70750571865588,37.698144816655834 L 126.70779196070697,37.698296162342494 L 126.70797741356778,37.69839544198197 L 126.70803801519436,37.69843980317783 L 126.70816574952755,37.698485448560184 L 126.70838140865891,37.69860817373665 L 126.70849490261438,37.6986737757782 L 126.70855761383555,37.698718132938204 L 126.70869375033615,37.69879280969762 L 126.70873070442686,37.69881288486105 L 126.70877458129114,37.69882567037178 L 126.70901775740573,37.6988918730708 L 126.70925329322402,37.69896340806526 L 126.70936241908757,37.6990126639471 L 126.70956143548376,37.699043005816215 L 126.709810674274,37.699052632273116 L 126.70999782720133,37.69908378195626 L 126.71007387874606,37.699118323738695 L 126.71019254719653,37.69921828172159 L 126.71027050459689,37.699307723886356 L 126.71033205827084,37.69937882689402 L 126.71039623598885,37.69946035150286 L 126.71045375553669,37.69952215553688 L 126.71060861863093,37.69956139629924 L 126.71100632106722,37.69966711392388 L 126.71106700980687,37.699686967524585 L 126.71108226476416,37.69968306788041 L 126.71112220829419,37.69970737518186 L 126.71124536612135,37.69974709562479 L 126.71136611324329,37.69976823210898 L 126.71141218250825,37.69976862475389 L 126.71148481027441,37.69977133511753 L 126.7115935768845,37.69977667501427 L 126.7116698635613,37.69979488184826 L 126.71185978503132,37.69975339057253 L 126.71186225693273,37.69975339664437 L 126.71186510410767,37.699753124338756 L 126.71195651142999,37.69975532194024 L 126.71202612999149,37.699759150787585 L 126.71210811361208,37.69977033478688 L 126.71218591407508,37.69976376846425 L 126.7123068806642,37.6997314052206 L 126.71245391645074,37.699690096108434 L 126.71251472580705,37.69967898309182 L 126.71271785683689,37.69970172557463 L 126.71293764365048,37.699678045701205 L 126.71303345946949,37.69964280914832 L 126.71314791149604,37.6995971939261 L 126.71319334698435,37.699576754012625 L 126.71320505054825,37.699573404008554 L 126.7132642380212,37.69956819697035 L 126.71352192388227,37.699596134834934 L 126.71354353049728,37.69959760211674 L 126.71369104461768,37.69961709876112 L 126.71402870680355,37.699624121086586 L 126.71404180488837,37.69962668473017 L 126.71407152188078,37.69963914544149 L 126.71413361836625,37.699664640938295 L 126.71416261776423,37.69967794678497 L 126.71445784695631,37.699800287109106 L 126.71474473796592,37.69992684095178 L 126.7148760057133,37.70002542836414 L 126.71491615003247,37.700042130724604 L 126.71500084350487,37.70004177793741 L 126.71512916003117,37.70003223308219 L 126.71534876455054,37.7000088365826 L 126.71548368418014,37.6999835404768 L 126.71556364334855,37.69996994062482 L 126.71574623751454,37.6999433543108 L 126.71591111183298,37.700010479223124 L 126.71603478947982,37.700054421452194 L 126.71604751785564,37.70006176810247 L 126.71621763014221,37.70009963291129 L 126.71632810830259,37.70012016285393 L 126.7164106208209,37.700180051312906 L 126.71651272534366,37.70025829467679 L 126.71664078822828,37.70036249439985 L 126.71673239336867,37.7004525328679 L 126.71694868172493,37.700555260484585 L 126.71701767799097,37.70058273521573 L 126.71706630435797,37.70060846695756 L 126.71713988392929,37.70064131341462 L 126.71721594367257,37.70067499469304 L 126.71730775196815,37.70071210150831 L 126.71739475590796,37.700754260099565 L 126.71743379060862,37.70083318857965 L 126.7176731946708,37.701009173952386 L 126.71789361171659,37.7011927173135 L 126.71792867017543,37.70124403950607 L 126.71798484944969,37.70137988694261 L 126.71805008780336,37.7015101160868 L 126.7181037777782,37.701647642281465 L 126.71810677794313,37.70165187501735 L 126.71815640297808,37.70174321696719 L 126.71819684859263,37.70177653272435 L 126.71829934232707,37.7018936250652 L 126.7183743570487,37.70196700860177 L 126.71837855577557,37.70198109175384 L 126.71851353798758,37.701990713740685 L 126.71890102329513,37.7019893906436 L 126.71892428411597,37.701976490515925 L 126.71909724515056,37.70192256769824 L 126.71924438612251,37.70190152209628 L 126.71969280753952,37.701858672623175 L 126.71991649678084,37.70178769743851 L 126.7201634338993,37.70175505929689 L 126.72071082787657,37.70168118758057 L 126.72090000190141,37.70164841933757 L 126.72097250102688,37.70168885596484 L 126.72100908110608,37.701713151914134 L 126.72106334741557,37.701747346473184 L 126.7211879664959,37.701825918623896 L 126.72127349822946,37.701883558437636 L 126.72148208138515,37.70201469387059 L 126.72160842332413,37.702057510370885 L 126.72163072088001,37.70206544673953 L 126.72167920754079,37.70208076109152 L 126.72174132911056,37.70209780158841 L 126.72177152422113,37.70212546076931 L 126.72181572584994,37.70214950425857 L 126.72191475818812,37.70219957148429 L 126.72208043279626,37.70224360694074 L 126.72220355952213,37.70229429862608 L 126.7223268910944,37.70233879202962 L 126.7224230418146,37.702353092711 L 126.7225231143982,37.7023617805725 L 126.72263559311611,37.702324881840674 L 126.72278627825249,37.70235057324874 L 126.72293466748563,37.70246861694549 L 126.7229696402584,37.702495440198945 L 126.72310217000994,37.70259120139757 L 126.72311465595521,37.70261516050241 L 126.72319024922518,37.70272937406579 L 126.723243108916,37.70280663942494 L 126.72326182286102,37.70282386498439 L 126.7232978510793,37.70285660095881 L 126.72336692546511,37.70286436805624 L 126.72340828321083,37.702842509093124 L 126.7235130477943,37.70292496916701 L 126.72358960222958,37.70320416038939 L 126.72370184989546,37.703514978421936 L 126.72377662050827,37.70365565098882 L 126.72381773462351,37.703747817398686 L 126.72388527066683,37.70374262469824 L 126.72409310840402,37.70374170835373 L 126.72430461649519,37.70379964227314 L 126.72442671580554,37.703844130578254 L 126.7244858997899,37.70388931786965 L 126.72471980978918,37.70421421443916 L 126.72499817518917,37.704547945134074 L 126.72541973323149,37.704633677672 L 126.72548856959017,37.70465720984945 L 126.72582467573113,37.704613227223604 L 126.72607748052422,37.70457495941404 L 126.72634162984546,37.70453842035943 L 126.72651645173886,37.70368938071417 L 126.72654163674586,37.703539095463164 L 126.72642366239495,37.70333863494052 L 126.7264211977774,37.70333355675916 L 126.72641065062781,37.70331242254845 L 126.72642700997852,37.70329809933566 L 126.72644973184212,37.70328351166348 L 126.72647884294317,37.70327063270336 L 126.72649250628832,37.70326474523299 L 126.72658429480079,37.703263274474175 L 126.72666378759001,37.70328119077567 L 126.72667422193402,37.70328375581704 L 126.726779871851,37.70327189305071 L 126.72686284339923,37.70330587251549 L 126.7269254191591,37.70334486785076 L 126.72697511666041,37.703370607006896 L 126.72699505725969,37.703390645839875 L 126.727135701143,37.70354807440928 L 126.72715087312845,37.703563597295606 L 126.72718397109323,37.70357353085601 L 126.72729268642371,37.7035946140339 L 126.72737824670183,37.703646339150914 L 126.72748133906242,37.703704015279214 L 126.72758212213611,37.703665120552984 L 126.72767172584223,37.70377372374349 L 126.72771741329824,37.70382929322434 L 126.7278460243753,37.704030903335465 L 126.72788655251387,37.704089560093074 L 126.72789186974391,37.70423485298378 L 126.72791015432156,37.704319919445126 L 126.72793452612245,37.70434390561402 L 126.72805004479814,37.70434389427594 L 126.72814583321059,37.70436213567692 L 126.72826359698583,37.704380716235065 L 126.72839178100062,37.70440578072838 L 126.72840858534879,37.704415396904274 L 126.72841797463994,37.70441541865046 L 126.72844826403626,37.704418308816905 L 126.7284648973036,37.704425104569275 L 126.7284721433919,37.70442821165696 L 126.7285078696073,37.70444518746487 L 126.72857602770914,37.70441578459937 L 126.72861181072459,37.704417272925184 L 126.72859767505429,37.704452999495416 L 126.72862444299268,37.704451376642936 L 126.72890459512129,37.70449115355326 L 126.72900960624462,37.70450856866758 L 126.72901562969065,37.7045080239896 L 126.72933341876,37.70453240828041 L 126.72935112834091,37.704533296064234 L 126.72951698751663,37.70452945324527 L 126.72961536278464,37.70451954427494 L 126.72967503772863,37.70452756530329 L 126.72966618698398,37.704575692449026 L 126.72958474452871,37.70465631217737 L 126.72947994502007,37.70472673310361 L 126.72941356554809,37.70480626125508 L 126.72939064819853,37.70487124900268 L 126.72941860734032,37.7049284617064 L 126.72947020883848,37.70496743937019 L 126.729478677672,37.70497731546085 L 126.72948041787077,37.70498520291553 L 126.72948605382886,37.70499450486242 L 126.72951227594791,37.70504299219864 L 126.72973634995233,37.70506237506816 L 126.72977217955062,37.70505119558784 L 126.72981441812229,37.70503327363 L 126.72989211411873,37.70500670299306 L 126.72992136157296,37.705006202754305 L 126.73003635958796,37.70500309796424 L 126.73013312836275,37.70499852758494 L 126.73040407856215,37.70498760950695 L 126.73063572689921,37.70501967564441 L 126.73071788731437,37.705034505031655 L 126.7308976272548,37.70506194661103 L 126.73122526434771,37.70515448835787 L 126.73128678578473,37.705144484502156 L 126.7315580587001,37.70509471491993 L 126.7317486656648,37.705008712599415 L 126.73180862277803,37.70499223596614 L 126.73200742212042,37.70494229054801 L 126.73202726779436,37.704942056606505 L 126.73210453304306,37.70494026005277 L 126.73215255087247,37.70493896424796 L 126.73216941582324,37.70492886692042 L 126.73216834492021,37.70493336929735 L 126.73217825805708,37.70493593266108 L 126.73219739137485,37.7049351294561 L 126.73222631665914,37.704923365851876 L 126.73229402431984,37.704917889430085 L 126.73237174194172,37.7049352392325 L 126.73247461752418,37.7049540609021 L 126.73259782276834,37.70493914267363 L 126.73292858842926,37.70490047934696 L 126.73305060556896,37.704916235785035 L 126.73313277159399,37.70493275731683 L 126.73319933391046,37.704946143967966 L 126.73332594519209,37.70496782090311 L 126.7335017852406,37.70499834896292 L 126.73358499289458,37.70501853046364 L 126.7336611120124,37.70503587578443 L 126.73374466236935,37.705061688979974 L 126.73393691257527,37.70510774123723 L 126.73402259683718,37.70512989215206 L 126.73412091772077,37.70513517857418 L 126.73424114824327,37.70515601116977 L 126.73429817089932,37.70506604394265 L 126.7343472372294,37.705022233098404 L 126.73448441413608,37.70501015556374 L 126.73453053125769,37.70499815102607 L 126.73456428703484,37.70497373022181 L 126.73469661754889,37.704880554647104 L 126.73474207362229,37.70485362855523 L 126.73478325706226,37.704832323810145 L 126.7348256876203,37.70480792255258 L 126.73487534154317,37.7047962141872 L 126.73498565406092,37.704670049223374 L 126.73499687894457,37.70465148769259 L 126.73501530806388,37.704650970747196 L 126.73506725176274,37.70464263708361 L 126.73514722050506,37.70462677157527 L 126.73523232209587,37.70461204380983 L 126.73530249053296,37.704612760844284 L 126.73543803165947,37.70461391367698 L 126.73570968155866,37.70465732216607 L 126.73579764338172,37.70468314385329 L 126.7358198718886,37.70471106979081 L 126.73583032616477,37.70471137264562 L 126.73587692229977,37.70471119832639 L 126.73590101932307,37.704711252609115 L 126.7359855684705,37.704654285828774 L 126.73600439433493,37.70464109304825 L 126.73611085494075,37.70465006306522 L 126.73613915221044,37.70451526133859 L 126.73626512143699,37.70451667097703 L 126.7363177251255,37.704523546532 L 126.73681372763376,37.704406130087676 L 126.73697239348535,37.70438086271901 L 126.73730677631104,37.70437288207668 L 126.7377011793186,37.70437489133942 L 126.73780411235151,37.704377662307174 L 126.73853008606082,37.704413349138704 L 126.7386132367857,37.70444985245009 L 126.73879710649388,37.70451248288683 L 126.73919740457265,37.70500749920197 L 126.73928685678507,37.705116093233556 L 126.73928773234174,37.70511863590121 L 126.7393060118087,37.705160625468594 L 126.73932177606699,37.70526314525949 L 126.7394291226875,37.70547173199 L 126.73954089754201,37.70573044010841 L 126.73973934786451,37.706233456921495 L 126.73975197964778,37.70626923523806 L 126.73978043217207,37.70634334867485 L 126.7399024775841,37.706455393178345 L 126.74007497714379,37.7066283645374 L 126.74038175920462,37.706609907852965 L 126.74044947971039,37.706601039153185 L 126.74052978517975,37.706589675569454 L 126.74071759300533,37.70654335807473 L 126.74093857764694,37.706485283937255 L 126.74097960048881,37.70645777804153 L 126.74116041254652,37.70633316857963 L 126.7411666322759,37.706328398190706 L 126.74121101603333,37.70630287274663 L 126.74119650521509,37.70619782427889 L 126.74116959343448,37.70609133391341 L 126.74122504466342,37.70593942756032 L 126.741082652049,37.70561729758156 L 126.74112361851533,37.70555713153607 L 126.7411453328251,37.70552846574069 L 126.74118180056942,37.705438161480025 L 126.74123887487445,37.70537973377752 L 126.74137032759283,37.70528570186358 L 126.74145697017794,37.705235493014435 L 126.74152408107686,37.70519622379785 L 126.74172892539303,37.70508911810526 L 126.74189048669173,37.70499769265577 L 126.74209886259158,37.70489538722388 L 126.7422055268296,37.70484296945407 L 126.74241821700784,37.70472265364427 L 126.74259711240693,37.70463858114012 L 126.74273544073043,37.70465352547721 L 126.74284732468439,37.70462927373101 L 126.74288209067407,37.70462006104283 L 126.7429808765277,37.704592681120786 L 126.74310500338675,37.704667562108725 L 126.74340147072671,37.704861080985864 L 126.74396706887994,37.70485499286076 L 126.74402555958667,37.70490101574979 L 126.74417357059173,37.70498552502048 L 126.74423761035973,37.70501409921528 L 126.7442795885829,37.70507050110153 L 126.74429549540736,37.7050812392638 L 126.74432997592554,37.70510214478108 L 126.74436799316676,37.70512672492792 L 126.7443747050591,37.70513039748204 L 126.74444050786705,37.705164047842906 L 126.74451776824176,37.70516364864984 L 126.74467850875985,37.70520398369409 L 126.74483219021796,37.70523613140204 L 126.74493511185881,37.70524592364756 L 126.74503598051969,37.70528218168413 L 126.74504960586933,37.705287004452835 L 126.74506358763033,37.70529041348038 L 126.74509846363708,37.70529865206754 L 126.74514922891366,37.70532607069343 L 126.74515203381392,37.70533480714068 L 126.74516120397013,37.70534580983845 L 126.74517372626404,37.70536470326493 L 126.74520678579731,37.7053867316422 L 126.74520716239468,37.705326764243374 L 126.7452306767715,37.70529190296682 L 126.74525203305116,37.705264641138335 L 126.74537812657651,37.70517762963493 L 126.74552108463367,37.7050833387744 L 126.74561560536296,37.70501006124662 L 126.74563514306892,37.70499714777079 L 126.74563673355627,37.70499630431521 L 126.7456383373036,37.70499490229015 L 126.74577710274647,37.70493580271523 L 126.74584931035221,37.70490751583719 L 126.74591308421755,37.70491132102209 L 126.7459602192974,37.704859897003715 L 126.74599787725643,37.704830697253406 L 126.74605446319364,37.70481420606576 L 126.74606509631681,37.70481197668935 L 126.74607417859902,37.7047990404893 L 126.74609459387277,37.70478811096056 L 126.74610998449567,37.704691569868146 L 126.74614055099823,37.704613927845784 L 126.74615803390418,37.70457848570849 L 126.74616018701393,37.70457230074202 L 126.7461618402605,37.70455315881715 L 126.74616466060083,37.70450783737808 L 126.74616783746596,37.70440817050399 L 126.74617881227192,37.704359208803815 L 126.74618118572177,37.70433837462336 L 126.7461806229413,37.70429417206263 L 126.74621607392416,37.704240470222075 L 126.74623638387692,37.70420729561364 L 126.74629220665614,37.704151953046065 L 126.74632703476564,37.704124431865864 L 126.74641512292449,37.70406465423645 L 126.7465662986461,37.704000219825595 L 126.74661369549305,37.703974707857185 L 126.7466239875627,37.70396937837282 L 126.74662986487165,37.703961786932204 L 126.74666222286048,37.70393032309514 L 126.74678772049528,37.70386386879364 L 126.74697144817398,37.703764033180065 L 126.74705097291665,37.70372112968016 L 126.74708467998119,37.70370627342343 L 126.74726641799323,37.70361769511717 L 126.7474156212617,37.7035625533172 L 126.74758989296677,37.703531674246186 L 126.7476849245696,37.70351358024913 L 126.74773119819125,37.70350467019799 L 126.74801723453986,37.70343686617165 L 126.74820833215473,37.703356478281925 L 126.74827746256236,37.70334535569146 L 126.74832624138011,37.703329981856456 L 126.74843930423658,37.70327138253183 L 126.7485177491471,37.703235503247996 L 126.74852396716739,37.70323102077259 L 126.7485507038134,37.70323501535075 L 126.74864159026706,37.703238588910935 L 126.74864957057986,37.703236074312244 L 126.74867138146905,37.70323133695694 L 126.74869424696524,37.70322659284906 L 126.74882900365083,37.7031976003281 L 126.74896784247116,37.70316861639573 L 126.74907501423627,37.70312154520606 L 126.7491655441887,37.70307303279951 L 126.74927091811837,37.70303439962742 L 126.74930579448868,37.703042357674065 L 126.74950506075315,37.70306052371389 L 126.74960658456885,37.70306046134468 L 126.7497791990628,37.7030495679108 L 126.75002028594284,37.70301404373765 L 126.75022745750238,37.703001538540505 L 126.75064608303227,37.7033847725237 L 126.75139027829312,37.703902435315925 L 126.7515017280542,37.70400966128007 L 126.75157340599924,37.704138200763104 L 126.75170082081637,37.70434400793603 L 126.75221866316483,37.70436480799304 L 126.75248570086717,37.70446419911711 L 126.75249384567971,37.7044667480299 L 126.75252410308863,37.70447610087505 L 126.7526071358677,37.70449908861307 L 126.75275042319042,37.70456781027722 L 126.75299685069594,37.70468291463839 L 126.75310197408567,37.704722841678176 L 126.75322383096174,37.70478785068857 L 126.75328008830193,37.70481499808546 L 126.75330201509492,37.70482996422444 L 126.7536114081051,37.705032206015936 L 126.75385213537773,37.70494937260766 L 126.75398381241038,37.70488517604344 L 126.75403231445884,37.704847266135154 L 126.7542612480777,37.70484268297803 L 126.75441642163558,37.70485680202971 L 126.75465401290872,37.70491558310478 L 126.75475303345236,37.70492226830545 L 126.75505644714706,37.70506170554306 L 126.75518074727188,37.70508814732478 L 126.75567814555481,37.70528880318865 L 126.75587138310996,37.70499188744476 L 126.75593998773016,37.70460405675944 L 126.75595988113461,37.704482747196074 L 126.75594826848727,37.70440388856314 L 126.75595935210384,37.70410687243925 L 126.75626709033547,37.703900579199534 L 126.75650340060645,37.703755501496815 L 126.75667205843695,37.70376176215152 L 126.75672118272067,37.703747791065915 L 126.75692319976852,37.7037926999424 L 126.75711691318757,37.70388347742267 L 126.75713158192907,37.7038953284887 L 126.7573510298744,37.704029801671574 L 126.75766771229084,37.7042281107345 L 126.75811579342535,37.704016462766894 L 126.75833233536247,37.70390260408514 L 126.75832566768045,37.70388175100746 L 126.75887537569479,37.70358528558825 L 126.75893695241152,37.70355331088517 L 126.75915164670705,37.70346280891658 L 126.75922903963908,37.70341764039579 L 126.75923298717554,37.70340329612871 L 126.75931432052789,37.70329365355626 L 126.75935891582353,37.7032529224049 L 126.75936636958734,37.703251811505055 L 126.75943624834724,37.7032297101484 L 126.75947970564438,37.7032146000702 L 126.759524763648,37.703198925652636 L 126.75963978718663,37.70313440025544 L 126.75967954881018,37.703111957673705 L 126.75972975321855,37.703037451680835 L 126.75988052289905,37.70314981380025 L 126.75990922564455,37.70320505674474 L 126.75991804201344,37.70322084170306 L 126.75992085000995,37.70322564059214 L 126.75993142898274,37.70324339326525 L 126.7599461932046,37.703278335921375 L 126.75995624101402,37.703295537915054 L 126.76001920893425,37.70333085859871 L 126.76016016390835,37.703406882341405 L 126.76032806471525,37.703538145161055 L 126.76034982933824,37.70354748763878 L 126.76051614686565,37.703621589709215 L 126.76067103016821,37.703668927539724 L 126.76073938948339,37.70367835609584 L 126.76080969285404,37.703689761694825 L 126.76086529781627,37.70369832624385 L 126.76094746474928,37.70371256698369 L 126.76096571339727,37.70371513592482 L 126.76097691254321,37.70370249119782 L 126.76101676727492,37.70370735661659 L 126.76116150056207,37.70371300345407 L 126.76128127216967,37.703716058539456 L 126.7612810698288,37.70372253606802 L 126.76127784146756,37.70384443910963 L 126.76130830521973,37.70384985290498 L 126.76136376709078,37.7038465872528 L 126.76144454222232,37.70385295037476 L 126.7619701538427,37.70393651169944 L 126.76213432581622,37.70396274784997 L 126.76241606892968,37.70401005254756 L 126.76254870772729,37.70403200765961 L 126.76272721038842,37.7040627768528 L 126.76280335670447,37.70407700410731 L 126.76288942436742,37.70409153969971 L 126.76303711447427,37.70411605643314 L 126.76313657846988,37.70415060234813 L 126.76338005716748,37.7042527322068 L 126.76369449872028,37.70438400677808 L 126.76377483589002,37.70441767567854 L 126.76390385536779,37.70451873572926 L 126.76394343943461,37.70455175477802 L 126.76399079329477,37.70459126740489 L 126.76408780462657,37.70467338755023 L 126.76411888358916,37.70465318741633 L 126.76413112676212,37.70464729272288 L 126.76416785888377,37.70462878876158 L 126.76451889190743,37.70434146522788 L 126.76461462015646,37.70427098587191 L 126.76478287712963,37.704125763832 L 126.76511191631937,37.70384599849211 L 126.76508881416983,37.70403262318905 L 126.76520078073283,37.704372682746246 L 126.76521333353085,37.70460498576358 L 126.76513349912538,37.70469125534704 L 126.76506548702417,37.70473983417699 L 126.76504102795106,37.70473950582882 L 126.76503114931768,37.70478284046479 L 126.76500043869744,37.704912013322115 L 126.76511346860151,37.70502823925434 L 126.76525954902786,37.705114123726055 L 126.76534448284737,37.70520776900748 L 126.76544798173275,37.7052580879418 L 126.76551859421865,37.70528357343785 L 126.76564140605645,37.70533365155444 L 126.76574088448334,37.70536453737973 L 126.76584670680664,37.70546554890868 L 126.7658670608321,37.70546952680483 L 126.76596637208777,37.7054995742079 L 126.76601127690202,37.70553232388846 L 126.76608732049066,37.70557611849242 L 126.7661422643023,37.705629439180825 L 126.76621418541617,37.705689550961424 L 126.766227047773,37.70571378556055 L 126.7663038301431,37.705918629009645 L 126.76631470647379,37.70595413070989 L 126.7662769670566,37.706065261544985 L 126.76623782155697,37.706172740651716 L 126.76618807168951,37.706273441342375 L 126.76609060158081,37.70644611493349 L 126.76606574206589,37.70651842179565 L 126.76605157294786,37.706573856906545 L 126.76602443380878,37.706635464751876 L 126.76601799530452,37.706767218018754 L 126.76598453337816,37.70687020355398 L 126.76607784710852,37.70728398685948 L 126.76703256685127,37.70716707003747 z\" /></g></g></svg>"
          },
          "metadata": {
            "tags": []
          },
          "execution_count": 60
        }
      ]
    },
    {
      "cell_type": "code",
      "metadata": {
        "id": "5_tiCL88vkgo",
        "colab_type": "code",
        "colab": {
          "base_uri": "https://localhost:8080/",
          "height": 410
        },
        "outputId": "c1fa65c3-7f97-454e-a3bf-76ecb9162ef1"
      },
      "source": [
        "pop_stat.tail()"
      ],
      "execution_count": null,
      "outputs": [
        {
          "output_type": "execute_result",
          "data": {
            "text/html": [
              "<div>\n",
              "<style scoped>\n",
              "    .dataframe tbody tr th:only-of-type {\n",
              "        vertical-align: middle;\n",
              "    }\n",
              "\n",
              "    .dataframe tbody tr th {\n",
              "        vertical-align: top;\n",
              "    }\n",
              "\n",
              "    .dataframe thead th {\n",
              "        text-align: right;\n",
              "    }\n",
              "</style>\n",
              "<table border=\"1\" class=\"dataframe\">\n",
              "  <thead>\n",
              "    <tr style=\"text-align: right;\">\n",
              "      <th></th>\n",
              "      <th>행정구역</th>\n",
              "      <th>조회기준</th>\n",
              "      <th>총인구수</th>\n",
              "      <th>세대수</th>\n",
              "      <th>세대당 인구</th>\n",
              "      <th>남자 인구수</th>\n",
              "      <th>여자 인구수</th>\n",
              "      <th>남여 비율</th>\n",
              "      <th>구 geometry</th>\n",
              "      <th>동 geometry</th>\n",
              "    </tr>\n",
              "  </thead>\n",
              "  <tbody>\n",
              "    <tr>\n",
              "      <th>1579</th>\n",
              "      <td>경기도 고양시 일산서구 송산동(4128759000)</td>\n",
              "      <td>2019년08월</td>\n",
              "      <td>50,610</td>\n",
              "      <td>18,390</td>\n",
              "      <td>2.75</td>\n",
              "      <td>24,983</td>\n",
              "      <td>25,627</td>\n",
              "      <td>0.97</td>\n",
              "      <td>(POLYGON ((126.7670325668513 37.70716707003747...</td>\n",
              "      <td></td>\n",
              "    </tr>\n",
              "    <tr>\n",
              "      <th>1580</th>\n",
              "      <td>경기도 고양시 일산서구 송산동(4128759000)</td>\n",
              "      <td>2019년09월</td>\n",
              "      <td>50,694</td>\n",
              "      <td>18,404</td>\n",
              "      <td>2.75</td>\n",
              "      <td>25,025</td>\n",
              "      <td>25,669</td>\n",
              "      <td>0.97</td>\n",
              "      <td>(POLYGON ((126.7670325668513 37.70716707003747...</td>\n",
              "      <td></td>\n",
              "    </tr>\n",
              "    <tr>\n",
              "      <th>1581</th>\n",
              "      <td>경기도 고양시 일산서구 송산동(4128759000)</td>\n",
              "      <td>2019년10월</td>\n",
              "      <td>50,660</td>\n",
              "      <td>18,398</td>\n",
              "      <td>2.75</td>\n",
              "      <td>25,020</td>\n",
              "      <td>25,640</td>\n",
              "      <td>0.98</td>\n",
              "      <td>(POLYGON ((126.7670325668513 37.70716707003747...</td>\n",
              "      <td></td>\n",
              "    </tr>\n",
              "    <tr>\n",
              "      <th>1582</th>\n",
              "      <td>경기도 고양시 일산서구 송산동(4128759000)</td>\n",
              "      <td>2019년11월</td>\n",
              "      <td>50,865</td>\n",
              "      <td>18,480</td>\n",
              "      <td>2.75</td>\n",
              "      <td>25,112</td>\n",
              "      <td>25,753</td>\n",
              "      <td>0.98</td>\n",
              "      <td>(POLYGON ((126.7670325668513 37.70716707003747...</td>\n",
              "      <td></td>\n",
              "    </tr>\n",
              "    <tr>\n",
              "      <th>1583</th>\n",
              "      <td>경기도 고양시 일산서구 송산동(4128759000)</td>\n",
              "      <td>2019년12월</td>\n",
              "      <td>51,060</td>\n",
              "      <td>18,555</td>\n",
              "      <td>2.75</td>\n",
              "      <td>25,195</td>\n",
              "      <td>25,865</td>\n",
              "      <td>0.97</td>\n",
              "      <td>(POLYGON ((126.7670325668513 37.70716707003747...</td>\n",
              "      <td></td>\n",
              "    </tr>\n",
              "  </tbody>\n",
              "</table>\n",
              "</div>"
            ],
            "text/plain": [
              "                              행정구역  ... 동 geometry\n",
              "1579  경기도 고양시 일산서구 송산동(4128759000)  ...           \n",
              "1580  경기도 고양시 일산서구 송산동(4128759000)  ...           \n",
              "1581  경기도 고양시 일산서구 송산동(4128759000)  ...           \n",
              "1582  경기도 고양시 일산서구 송산동(4128759000)  ...           \n",
              "1583  경기도 고양시 일산서구 송산동(4128759000)  ...           \n",
              "\n",
              "[5 rows x 10 columns]"
            ]
          },
          "metadata": {
            "tags": []
          },
          "execution_count": 70
        }
      ]
    },
    {
      "cell_type": "code",
      "metadata": {
        "id": "rHtXddYE_Ifm",
        "colab_type": "code",
        "colab": {}
      },
      "source": [
        "for i in range(len(goyang_up_line)):\n",
        "  if goyang_up_line['EMD_KOR_NM'][i] == '송산동':\n",
        "    print(i)"
      ],
      "execution_count": null,
      "outputs": []
    },
    {
      "cell_type": "code",
      "metadata": {
        "id": "cvkyShykwAQe",
        "colab_type": "code",
        "colab": {}
      },
      "source": [
        ""
      ],
      "execution_count": null,
      "outputs": []
    },
    {
      "cell_type": "markdown",
      "metadata": {
        "id": "iU2BKZhAeEAU",
        "colab_type": "text"
      },
      "source": [
        "# 시각화"
      ]
    },
    {
      "cell_type": "code",
      "metadata": {
        "id": "HJhUc1_g9uEn",
        "colab_type": "code",
        "colab": {}
      },
      "source": [
        "geo_data = '/content/drive/My Drive/프로젝트/compas/SBJ_2007_001/06.인구(거주)분포도(100M X 100M).geojson'"
      ],
      "execution_count": null,
      "outputs": []
    },
    {
      "cell_type": "code",
      "metadata": {
        "id": "tNDaQSQWs6z_",
        "colab_type": "code",
        "colab": {}
      },
      "source": [
        "center = [37.658367, 126.831927]\n",
        "m = folium.Map(location=center, zoom_start=10)"
      ],
      "execution_count": null,
      "outputs": []
    },
    {
      "cell_type": "code",
      "metadata": {
        "id": "OoR6ydwF78em",
        "colab_type": "code",
        "colab": {
          "base_uri": "https://localhost:8080/",
          "height": 760
        },
        "outputId": "679ddc1a-c9cf-4566-b283-80bfbdecccfd"
      },
      "source": [
        "folium.Choropleth(\n",
        "    geo_data=geo_data,\n",
        "    data=goyang_pop,\n",
        "    columns=('val', 'coordinates'),\n",
        "    key_on='val',\n",
        "    fill_color='YlGn',\n",
        "    legend_name='인구수'\n",
        ").add_to(m)"
      ],
      "execution_count": null,
      "outputs": [
        {
          "output_type": "error",
          "ename": "KeyError",
          "evalue": "ignored",
          "traceback": [
            "\u001b[0;31m---------------------------------------------------------------------------\u001b[0m",
            "\u001b[0;31mKeyError\u001b[0m                                  Traceback (most recent call last)",
            "\u001b[0;32m/usr/local/lib/python3.6/dist-packages/pandas/core/indexes/base.py\u001b[0m in \u001b[0;36mget_loc\u001b[0;34m(self, key, method, tolerance)\u001b[0m\n\u001b[1;32m   2645\u001b[0m             \u001b[0;32mtry\u001b[0m\u001b[0;34m:\u001b[0m\u001b[0;34m\u001b[0m\u001b[0;34m\u001b[0m\u001b[0m\n\u001b[0;32m-> 2646\u001b[0;31m                 \u001b[0;32mreturn\u001b[0m \u001b[0mself\u001b[0m\u001b[0;34m.\u001b[0m\u001b[0m_engine\u001b[0m\u001b[0;34m.\u001b[0m\u001b[0mget_loc\u001b[0m\u001b[0;34m(\u001b[0m\u001b[0mkey\u001b[0m\u001b[0;34m)\u001b[0m\u001b[0;34m\u001b[0m\u001b[0;34m\u001b[0m\u001b[0m\n\u001b[0m\u001b[1;32m   2647\u001b[0m             \u001b[0;32mexcept\u001b[0m \u001b[0mKeyError\u001b[0m\u001b[0;34m:\u001b[0m\u001b[0;34m\u001b[0m\u001b[0;34m\u001b[0m\u001b[0m\n",
            "\u001b[0;32mpandas/_libs/index.pyx\u001b[0m in \u001b[0;36mpandas._libs.index.IndexEngine.get_loc\u001b[0;34m()\u001b[0m\n",
            "\u001b[0;32mpandas/_libs/index.pyx\u001b[0m in \u001b[0;36mpandas._libs.index.IndexEngine.get_loc\u001b[0;34m()\u001b[0m\n",
            "\u001b[0;32mpandas/_libs/hashtable_class_helper.pxi\u001b[0m in \u001b[0;36mpandas._libs.hashtable.PyObjectHashTable.get_item\u001b[0;34m()\u001b[0m\n",
            "\u001b[0;32mpandas/_libs/hashtable_class_helper.pxi\u001b[0m in \u001b[0;36mpandas._libs.hashtable.PyObjectHashTable.get_item\u001b[0;34m()\u001b[0m\n",
            "\u001b[0;31mKeyError\u001b[0m: 'coordinates'",
            "\nDuring handling of the above exception, another exception occurred:\n",
            "\u001b[0;31mKeyError\u001b[0m                                  Traceback (most recent call last)",
            "\u001b[0;32m<ipython-input-48-ca430dccb45f>\u001b[0m in \u001b[0;36m<module>\u001b[0;34m()\u001b[0m\n\u001b[1;32m      5\u001b[0m     \u001b[0mkey_on\u001b[0m\u001b[0;34m=\u001b[0m\u001b[0;34m'val'\u001b[0m\u001b[0;34m,\u001b[0m\u001b[0;34m\u001b[0m\u001b[0;34m\u001b[0m\u001b[0m\n\u001b[1;32m      6\u001b[0m     \u001b[0mfill_color\u001b[0m\u001b[0;34m=\u001b[0m\u001b[0;34m'YlGn'\u001b[0m\u001b[0;34m,\u001b[0m\u001b[0;34m\u001b[0m\u001b[0;34m\u001b[0m\u001b[0m\n\u001b[0;32m----> 7\u001b[0;31m     \u001b[0mlegend_name\u001b[0m\u001b[0;34m=\u001b[0m\u001b[0;34m'인구수'\u001b[0m\u001b[0;34m\u001b[0m\u001b[0;34m\u001b[0m\u001b[0m\n\u001b[0m\u001b[1;32m      8\u001b[0m ).add_to(m)\n",
            "\u001b[0;32m/usr/local/lib/python3.6/dist-packages/folium/features.py\u001b[0m in \u001b[0;36m__init__\u001b[0;34m(self, geo_data, data, columns, key_on, bins, fill_color, nan_fill_color, fill_opacity, nan_fill_opacity, line_color, line_weight, line_opacity, name, legend_name, overlay, control, show, topojson, smooth_factor, highlight, **kwargs)\u001b[0m\n\u001b[1;32m    949\u001b[0m         \u001b[0;32mif\u001b[0m \u001b[0mhasattr\u001b[0m\u001b[0;34m(\u001b[0m\u001b[0mdata\u001b[0m\u001b[0;34m,\u001b[0m \u001b[0;34m'set_index'\u001b[0m\u001b[0;34m)\u001b[0m\u001b[0;34m:\u001b[0m\u001b[0;34m\u001b[0m\u001b[0;34m\u001b[0m\u001b[0m\n\u001b[1;32m    950\u001b[0m             \u001b[0;31m# This is a pd.DataFrame\u001b[0m\u001b[0;34m\u001b[0m\u001b[0;34m\u001b[0m\u001b[0;34m\u001b[0m\u001b[0m\n\u001b[0;32m--> 951\u001b[0;31m             \u001b[0mcolor_data\u001b[0m \u001b[0;34m=\u001b[0m \u001b[0mdata\u001b[0m\u001b[0;34m.\u001b[0m\u001b[0mset_index\u001b[0m\u001b[0;34m(\u001b[0m\u001b[0mcolumns\u001b[0m\u001b[0;34m[\u001b[0m\u001b[0;36m0\u001b[0m\u001b[0;34m]\u001b[0m\u001b[0;34m)\u001b[0m\u001b[0;34m[\u001b[0m\u001b[0mcolumns\u001b[0m\u001b[0;34m[\u001b[0m\u001b[0;36m1\u001b[0m\u001b[0;34m]\u001b[0m\u001b[0;34m]\u001b[0m\u001b[0;34m.\u001b[0m\u001b[0mto_dict\u001b[0m\u001b[0;34m(\u001b[0m\u001b[0;34m)\u001b[0m\u001b[0;34m\u001b[0m\u001b[0;34m\u001b[0m\u001b[0m\n\u001b[0m\u001b[1;32m    952\u001b[0m         \u001b[0;32melif\u001b[0m \u001b[0mhasattr\u001b[0m\u001b[0;34m(\u001b[0m\u001b[0mdata\u001b[0m\u001b[0;34m,\u001b[0m \u001b[0;34m'to_dict'\u001b[0m\u001b[0;34m)\u001b[0m\u001b[0;34m:\u001b[0m\u001b[0;34m\u001b[0m\u001b[0;34m\u001b[0m\u001b[0m\n\u001b[1;32m    953\u001b[0m             \u001b[0;31m# This is a pd.Series\u001b[0m\u001b[0;34m\u001b[0m\u001b[0;34m\u001b[0m\u001b[0;34m\u001b[0m\u001b[0m\n",
            "\u001b[0;32m/usr/local/lib/python3.6/dist-packages/geopandas/geodataframe.py\u001b[0m in \u001b[0;36m__getitem__\u001b[0;34m(self, key)\u001b[0m\n\u001b[1;32m    826\u001b[0m         \u001b[0mGeoDataFrame\u001b[0m\u001b[0;34m.\u001b[0m\u001b[0;34m\u001b[0m\u001b[0;34m\u001b[0m\u001b[0m\n\u001b[1;32m    827\u001b[0m         \"\"\"\n\u001b[0;32m--> 828\u001b[0;31m         \u001b[0mresult\u001b[0m \u001b[0;34m=\u001b[0m \u001b[0msuper\u001b[0m\u001b[0;34m(\u001b[0m\u001b[0mGeoDataFrame\u001b[0m\u001b[0;34m,\u001b[0m \u001b[0mself\u001b[0m\u001b[0;34m)\u001b[0m\u001b[0;34m.\u001b[0m\u001b[0m__getitem__\u001b[0m\u001b[0;34m(\u001b[0m\u001b[0mkey\u001b[0m\u001b[0;34m)\u001b[0m\u001b[0;34m\u001b[0m\u001b[0;34m\u001b[0m\u001b[0m\n\u001b[0m\u001b[1;32m    829\u001b[0m         \u001b[0mgeo_col\u001b[0m \u001b[0;34m=\u001b[0m \u001b[0mself\u001b[0m\u001b[0;34m.\u001b[0m\u001b[0m_geometry_column_name\u001b[0m\u001b[0;34m\u001b[0m\u001b[0;34m\u001b[0m\u001b[0m\n\u001b[1;32m    830\u001b[0m         \u001b[0;32mif\u001b[0m \u001b[0misinstance\u001b[0m\u001b[0;34m(\u001b[0m\u001b[0mresult\u001b[0m\u001b[0;34m,\u001b[0m \u001b[0mSeries\u001b[0m\u001b[0;34m)\u001b[0m \u001b[0;32mand\u001b[0m \u001b[0misinstance\u001b[0m\u001b[0;34m(\u001b[0m\u001b[0mresult\u001b[0m\u001b[0;34m.\u001b[0m\u001b[0mdtype\u001b[0m\u001b[0;34m,\u001b[0m \u001b[0mGeometryDtype\u001b[0m\u001b[0;34m)\u001b[0m\u001b[0;34m:\u001b[0m\u001b[0;34m\u001b[0m\u001b[0;34m\u001b[0m\u001b[0m\n",
            "\u001b[0;32m/usr/local/lib/python3.6/dist-packages/pandas/core/frame.py\u001b[0m in \u001b[0;36m__getitem__\u001b[0;34m(self, key)\u001b[0m\n\u001b[1;32m   2798\u001b[0m             \u001b[0;32mif\u001b[0m \u001b[0mself\u001b[0m\u001b[0;34m.\u001b[0m\u001b[0mcolumns\u001b[0m\u001b[0;34m.\u001b[0m\u001b[0mnlevels\u001b[0m \u001b[0;34m>\u001b[0m \u001b[0;36m1\u001b[0m\u001b[0;34m:\u001b[0m\u001b[0;34m\u001b[0m\u001b[0;34m\u001b[0m\u001b[0m\n\u001b[1;32m   2799\u001b[0m                 \u001b[0;32mreturn\u001b[0m \u001b[0mself\u001b[0m\u001b[0;34m.\u001b[0m\u001b[0m_getitem_multilevel\u001b[0m\u001b[0;34m(\u001b[0m\u001b[0mkey\u001b[0m\u001b[0;34m)\u001b[0m\u001b[0;34m\u001b[0m\u001b[0;34m\u001b[0m\u001b[0m\n\u001b[0;32m-> 2800\u001b[0;31m             \u001b[0mindexer\u001b[0m \u001b[0;34m=\u001b[0m \u001b[0mself\u001b[0m\u001b[0;34m.\u001b[0m\u001b[0mcolumns\u001b[0m\u001b[0;34m.\u001b[0m\u001b[0mget_loc\u001b[0m\u001b[0;34m(\u001b[0m\u001b[0mkey\u001b[0m\u001b[0;34m)\u001b[0m\u001b[0;34m\u001b[0m\u001b[0;34m\u001b[0m\u001b[0m\n\u001b[0m\u001b[1;32m   2801\u001b[0m             \u001b[0;32mif\u001b[0m \u001b[0mis_integer\u001b[0m\u001b[0;34m(\u001b[0m\u001b[0mindexer\u001b[0m\u001b[0;34m)\u001b[0m\u001b[0;34m:\u001b[0m\u001b[0;34m\u001b[0m\u001b[0;34m\u001b[0m\u001b[0m\n\u001b[1;32m   2802\u001b[0m                 \u001b[0mindexer\u001b[0m \u001b[0;34m=\u001b[0m \u001b[0;34m[\u001b[0m\u001b[0mindexer\u001b[0m\u001b[0;34m]\u001b[0m\u001b[0;34m\u001b[0m\u001b[0;34m\u001b[0m\u001b[0m\n",
            "\u001b[0;32m/usr/local/lib/python3.6/dist-packages/pandas/core/indexes/base.py\u001b[0m in \u001b[0;36mget_loc\u001b[0;34m(self, key, method, tolerance)\u001b[0m\n\u001b[1;32m   2646\u001b[0m                 \u001b[0;32mreturn\u001b[0m \u001b[0mself\u001b[0m\u001b[0;34m.\u001b[0m\u001b[0m_engine\u001b[0m\u001b[0;34m.\u001b[0m\u001b[0mget_loc\u001b[0m\u001b[0;34m(\u001b[0m\u001b[0mkey\u001b[0m\u001b[0;34m)\u001b[0m\u001b[0;34m\u001b[0m\u001b[0;34m\u001b[0m\u001b[0m\n\u001b[1;32m   2647\u001b[0m             \u001b[0;32mexcept\u001b[0m \u001b[0mKeyError\u001b[0m\u001b[0;34m:\u001b[0m\u001b[0;34m\u001b[0m\u001b[0;34m\u001b[0m\u001b[0m\n\u001b[0;32m-> 2648\u001b[0;31m                 \u001b[0;32mreturn\u001b[0m \u001b[0mself\u001b[0m\u001b[0;34m.\u001b[0m\u001b[0m_engine\u001b[0m\u001b[0;34m.\u001b[0m\u001b[0mget_loc\u001b[0m\u001b[0;34m(\u001b[0m\u001b[0mself\u001b[0m\u001b[0;34m.\u001b[0m\u001b[0m_maybe_cast_indexer\u001b[0m\u001b[0;34m(\u001b[0m\u001b[0mkey\u001b[0m\u001b[0;34m)\u001b[0m\u001b[0;34m)\u001b[0m\u001b[0;34m\u001b[0m\u001b[0;34m\u001b[0m\u001b[0m\n\u001b[0m\u001b[1;32m   2649\u001b[0m         \u001b[0mindexer\u001b[0m \u001b[0;34m=\u001b[0m \u001b[0mself\u001b[0m\u001b[0;34m.\u001b[0m\u001b[0mget_indexer\u001b[0m\u001b[0;34m(\u001b[0m\u001b[0;34m[\u001b[0m\u001b[0mkey\u001b[0m\u001b[0;34m]\u001b[0m\u001b[0;34m,\u001b[0m \u001b[0mmethod\u001b[0m\u001b[0;34m=\u001b[0m\u001b[0mmethod\u001b[0m\u001b[0;34m,\u001b[0m \u001b[0mtolerance\u001b[0m\u001b[0;34m=\u001b[0m\u001b[0mtolerance\u001b[0m\u001b[0;34m)\u001b[0m\u001b[0;34m\u001b[0m\u001b[0;34m\u001b[0m\u001b[0m\n\u001b[1;32m   2650\u001b[0m         \u001b[0;32mif\u001b[0m \u001b[0mindexer\u001b[0m\u001b[0;34m.\u001b[0m\u001b[0mndim\u001b[0m \u001b[0;34m>\u001b[0m \u001b[0;36m1\u001b[0m \u001b[0;32mor\u001b[0m \u001b[0mindexer\u001b[0m\u001b[0;34m.\u001b[0m\u001b[0msize\u001b[0m \u001b[0;34m>\u001b[0m \u001b[0;36m1\u001b[0m\u001b[0;34m:\u001b[0m\u001b[0;34m\u001b[0m\u001b[0;34m\u001b[0m\u001b[0m\n",
            "\u001b[0;32mpandas/_libs/index.pyx\u001b[0m in \u001b[0;36mpandas._libs.index.IndexEngine.get_loc\u001b[0;34m()\u001b[0m\n",
            "\u001b[0;32mpandas/_libs/index.pyx\u001b[0m in \u001b[0;36mpandas._libs.index.IndexEngine.get_loc\u001b[0;34m()\u001b[0m\n",
            "\u001b[0;32mpandas/_libs/hashtable_class_helper.pxi\u001b[0m in \u001b[0;36mpandas._libs.hashtable.PyObjectHashTable.get_item\u001b[0;34m()\u001b[0m\n",
            "\u001b[0;32mpandas/_libs/hashtable_class_helper.pxi\u001b[0m in \u001b[0;36mpandas._libs.hashtable.PyObjectHashTable.get_item\u001b[0;34m()\u001b[0m\n",
            "\u001b[0;31mKeyError\u001b[0m: 'coordinates'"
          ]
        }
      ]
    },
    {
      "cell_type": "code",
      "metadata": {
        "id": "xvtdw7wZ8EnQ",
        "colab_type": "code",
        "colab": {}
      },
      "source": [
        "m"
      ],
      "execution_count": null,
      "outputs": []
    }
  ]
}